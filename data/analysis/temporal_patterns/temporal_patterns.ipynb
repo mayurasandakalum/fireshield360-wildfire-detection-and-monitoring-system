{
 "cells": [
  {
   "cell_type": "markdown",
   "id": "eaf83ef1",
   "metadata": {},
   "source": [
    "# Temporal Patterns and Trends Analysis for IoT Sensor Data\n",
    "\n",
    "This notebook analyzes temporal patterns in sensor readings (temperature, humidity, smoke, and infrared temperature) to identify daily patterns and long-term trends that might be relevant to wildfire risks."
   ]
  },
  {
   "cell_type": "markdown",
   "id": "690abc58",
   "metadata": {},
   "source": [
    "## Project Context\n",
    "\n",
    "This analysis is part of an IoT-based wildfire detection system that collects environmental data from remote sensors. The data is collected from ESP32-based devices equipped with temperature, humidity, smoke, and infrared temperature sensors deployed in wildfire-prone areas.\n",
    "\n",
    "The main goals of this temporal analysis are to:\n",
    "\n",
    "1. Identify patterns in sensor readings that may indicate increased wildfire risk\n",
    "2. Understand how environmental conditions vary throughout the day and across days\n",
    "3. Establish correlations between different sensor readings that might be predictive of fire conditions\n",
    "4. Detect anomalies that could represent early warning signs of wildfire activity\n",
    "\n",
    "This analysis will help in optimizing sensor thresholds and alert systems for the wildfire detection network."
   ]
  },
  {
   "cell_type": "markdown",
   "id": "e186d5a2",
   "metadata": {},
   "source": [
    "## 1. Import Required Libraries\n",
    "\n",
    "We'll import the necessary libraries for data manipulation, visualization, and time-series analysis."
   ]
  },
  {
   "cell_type": "code",
   "execution_count": 59,
   "id": "6c71aab7",
   "metadata": {},
   "outputs": [
    {
     "name": "stderr",
     "output_type": "stream",
     "text": [
      "'matplotlib' is not recognized as an internal or external command,\n",
      "operable program or batch file.\n"
     ]
    }
   ],
   "source": [
    "!matplotlib notebook\n",
    "\n",
    "import pandas as pd\n",
    "import numpy as np\n",
    "import matplotlib.pyplot as plt\n",
    "import matplotlib.dates as mdates\n",
    "import seaborn as sns\n",
    "from datetime import datetime\n",
    "import os\n",
    "import warnings\n",
    "import plotly.express as px\n",
    "import plotly.io as pio\n",
    "\n",
    "pio.renderers.default = \"vscode\"      # <- the VS Code renderer\n",
    "# pio.renderers.default = \"notebook\"  # works too; loads plotly.js inline\n",
    "# pio.renderers.default = \"iframe\"    # good for static HTML export\n",
    "\n",
    "# Set plot styling and suppress warnings\n",
    "warnings.filterwarnings('ignore')\n",
    "sns.set_style('whitegrid')\n",
    "plt.rcParams['figure.figsize'] = (14, 8)\n",
    "plt.rcParams['axes.grid'] = True\n",
    "plt.rcParams['font.size'] = 12"
   ]
  },
  {
   "cell_type": "markdown",
   "id": "68a4c19b",
   "metadata": {},
   "source": [
    "## 2. Data Loading and Preparation\n",
    "\n",
    "Load the sensor data from CSV, convert timestamps to datetime format, and prepare the data for time-series analysis."
   ]
  },
  {
   "cell_type": "code",
   "execution_count": 60,
   "id": "5f2affe0",
   "metadata": {},
   "outputs": [
    {
     "name": "stdout",
     "output_type": "stream",
     "text": [
      "Data shape: (168411, 11)\n"
     ]
    },
    {
     "data": {
      "application/vnd.microsoft.datawrangler.viewer.v0+json": {
       "columns": [
        {
         "name": "index",
         "rawType": "int64",
         "type": "integer"
        },
        {
         "name": "_id",
         "rawType": "object",
         "type": "string"
        },
        {
         "name": "temperature",
         "rawType": "float64",
         "type": "float"
        },
        {
         "name": "humidity",
         "rawType": "int64",
         "type": "integer"
        },
        {
         "name": "smoke",
         "rawType": "int64",
         "type": "integer"
        },
        {
         "name": "timestamp",
         "rawType": "object",
         "type": "string"
        },
        {
         "name": "device_id",
         "rawType": "object",
         "type": "string"
        },
        {
         "name": "smoke_detected",
         "rawType": "object",
         "type": "unknown"
        },
        {
         "name": "wildfire_detected",
         "rawType": "object",
         "type": "unknown"
        },
        {
         "name": "thresholds_exceeded",
         "rawType": "float64",
         "type": "float"
        },
        {
         "name": "ir_temperature",
         "rawType": "float64",
         "type": "float"
        },
        {
         "name": "potential_wildfire",
         "rawType": "object",
         "type": "unknown"
        }
       ],
       "conversionMethod": "pd.DataFrame",
       "ref": "1b2abc37-c259-42d2-8a11-f1829a782744",
       "rows": [
        [
         "0",
         "6804fffa239fbf0170b04a6a",
         "34.7",
         "71",
         "1685",
         "2025-04-20T19:38:59+05:3",
         "esp32_01",
         null,
         null,
         null,
         null,
         null
        ],
        [
         "1",
         "6804fffb239fbf0170b04a6b",
         "34.7",
         "71",
         "1687",
         "2025-04-20T19:39:00+05:3",
         "esp32_01",
         null,
         null,
         null,
         null,
         null
        ],
        [
         "2",
         "6804fffc239fbf0170b04a6c",
         "34.9",
         "71",
         "1690",
         "2025-04-20T19:39:01+05:3",
         "esp32_01",
         null,
         null,
         null,
         null,
         null
        ],
        [
         "3",
         "6804fffd239fbf0170b04a6d",
         "34.9",
         "71",
         "1680",
         "2025-04-20T19:39:02+05:3",
         "esp32_01",
         null,
         null,
         null,
         null,
         null
        ],
        [
         "4",
         "6804fffe239fbf0170b04a6e",
         "34.1",
         "71",
         "1692",
         "2025-04-20T19:39:03+05:3",
         "esp32_01",
         null,
         null,
         null,
         null,
         null
        ]
       ],
       "shape": {
        "columns": 11,
        "rows": 5
       }
      },
      "text/html": [
       "<div>\n",
       "<style scoped>\n",
       "    .dataframe tbody tr th:only-of-type {\n",
       "        vertical-align: middle;\n",
       "    }\n",
       "\n",
       "    .dataframe tbody tr th {\n",
       "        vertical-align: top;\n",
       "    }\n",
       "\n",
       "    .dataframe thead th {\n",
       "        text-align: right;\n",
       "    }\n",
       "</style>\n",
       "<table border=\"1\" class=\"dataframe\">\n",
       "  <thead>\n",
       "    <tr style=\"text-align: right;\">\n",
       "      <th></th>\n",
       "      <th>_id</th>\n",
       "      <th>temperature</th>\n",
       "      <th>humidity</th>\n",
       "      <th>smoke</th>\n",
       "      <th>timestamp</th>\n",
       "      <th>device_id</th>\n",
       "      <th>smoke_detected</th>\n",
       "      <th>wildfire_detected</th>\n",
       "      <th>thresholds_exceeded</th>\n",
       "      <th>ir_temperature</th>\n",
       "      <th>potential_wildfire</th>\n",
       "    </tr>\n",
       "  </thead>\n",
       "  <tbody>\n",
       "    <tr>\n",
       "      <th>0</th>\n",
       "      <td>6804fffa239fbf0170b04a6a</td>\n",
       "      <td>34.7</td>\n",
       "      <td>71</td>\n",
       "      <td>1685</td>\n",
       "      <td>2025-04-20T19:38:59+05:3</td>\n",
       "      <td>esp32_01</td>\n",
       "      <td>NaN</td>\n",
       "      <td>NaN</td>\n",
       "      <td>NaN</td>\n",
       "      <td>NaN</td>\n",
       "      <td>NaN</td>\n",
       "    </tr>\n",
       "    <tr>\n",
       "      <th>1</th>\n",
       "      <td>6804fffb239fbf0170b04a6b</td>\n",
       "      <td>34.7</td>\n",
       "      <td>71</td>\n",
       "      <td>1687</td>\n",
       "      <td>2025-04-20T19:39:00+05:3</td>\n",
       "      <td>esp32_01</td>\n",
       "      <td>NaN</td>\n",
       "      <td>NaN</td>\n",
       "      <td>NaN</td>\n",
       "      <td>NaN</td>\n",
       "      <td>NaN</td>\n",
       "    </tr>\n",
       "    <tr>\n",
       "      <th>2</th>\n",
       "      <td>6804fffc239fbf0170b04a6c</td>\n",
       "      <td>34.9</td>\n",
       "      <td>71</td>\n",
       "      <td>1690</td>\n",
       "      <td>2025-04-20T19:39:01+05:3</td>\n",
       "      <td>esp32_01</td>\n",
       "      <td>NaN</td>\n",
       "      <td>NaN</td>\n",
       "      <td>NaN</td>\n",
       "      <td>NaN</td>\n",
       "      <td>NaN</td>\n",
       "    </tr>\n",
       "    <tr>\n",
       "      <th>3</th>\n",
       "      <td>6804fffd239fbf0170b04a6d</td>\n",
       "      <td>34.9</td>\n",
       "      <td>71</td>\n",
       "      <td>1680</td>\n",
       "      <td>2025-04-20T19:39:02+05:3</td>\n",
       "      <td>esp32_01</td>\n",
       "      <td>NaN</td>\n",
       "      <td>NaN</td>\n",
       "      <td>NaN</td>\n",
       "      <td>NaN</td>\n",
       "      <td>NaN</td>\n",
       "    </tr>\n",
       "    <tr>\n",
       "      <th>4</th>\n",
       "      <td>6804fffe239fbf0170b04a6e</td>\n",
       "      <td>34.1</td>\n",
       "      <td>71</td>\n",
       "      <td>1692</td>\n",
       "      <td>2025-04-20T19:39:03+05:3</td>\n",
       "      <td>esp32_01</td>\n",
       "      <td>NaN</td>\n",
       "      <td>NaN</td>\n",
       "      <td>NaN</td>\n",
       "      <td>NaN</td>\n",
       "      <td>NaN</td>\n",
       "    </tr>\n",
       "  </tbody>\n",
       "</table>\n",
       "</div>"
      ],
      "text/plain": [
       "                        _id  temperature  humidity  smoke  \\\n",
       "0  6804fffa239fbf0170b04a6a         34.7        71   1685   \n",
       "1  6804fffb239fbf0170b04a6b         34.7        71   1687   \n",
       "2  6804fffc239fbf0170b04a6c         34.9        71   1690   \n",
       "3  6804fffd239fbf0170b04a6d         34.9        71   1680   \n",
       "4  6804fffe239fbf0170b04a6e         34.1        71   1692   \n",
       "\n",
       "                  timestamp device_id smoke_detected wildfire_detected  \\\n",
       "0  2025-04-20T19:38:59+05:3  esp32_01            NaN               NaN   \n",
       "1  2025-04-20T19:39:00+05:3  esp32_01            NaN               NaN   \n",
       "2  2025-04-20T19:39:01+05:3  esp32_01            NaN               NaN   \n",
       "3  2025-04-20T19:39:02+05:3  esp32_01            NaN               NaN   \n",
       "4  2025-04-20T19:39:03+05:3  esp32_01            NaN               NaN   \n",
       "\n",
       "   thresholds_exceeded  ir_temperature potential_wildfire  \n",
       "0                  NaN             NaN                NaN  \n",
       "1                  NaN             NaN                NaN  \n",
       "2                  NaN             NaN                NaN  \n",
       "3                  NaN             NaN                NaN  \n",
       "4                  NaN             NaN                NaN  "
      ]
     },
     "execution_count": 60,
     "metadata": {},
     "output_type": "execute_result"
    }
   ],
   "source": [
    "# Define the data file path\n",
    "file_path = os.path.join('..', '..', 'raw', 'sensor_readings_export_20250426_132445.csv')\n",
    "\n",
    "# Load the data\n",
    "df0 = pd.read_csv(file_path)\n",
    "\n",
    "# Display the first few rows to understand the data structure\n",
    "print(f\"Data shape: {df0.shape}\")\n",
    "df0.head()"
   ]
  },
  {
   "cell_type": "code",
   "execution_count": 61,
   "id": "89ca08a3",
   "metadata": {},
   "outputs": [
    {
     "name": "stdout",
     "output_type": "stream",
     "text": [
      "Unique device IDs in the dataset: ['esp32_01']\n"
     ]
    }
   ],
   "source": [
    "# Check unique device IDs in the dataset\n",
    "unique_devices = df0['device_id'].unique()\n",
    "print(f\"Unique device IDs in the dataset: {unique_devices}\")"
   ]
  },
  {
   "cell_type": "code",
   "execution_count": 62,
   "id": "6551ddb6",
   "metadata": {},
   "outputs": [
    {
     "data": {
      "application/vnd.microsoft.datawrangler.viewer.v0+json": {
       "columns": [
        {
         "name": "index",
         "rawType": "int64",
         "type": "integer"
        },
        {
         "name": "_id",
         "rawType": "object",
         "type": "string"
        },
        {
         "name": "temperature",
         "rawType": "float64",
         "type": "float"
        },
        {
         "name": "humidity",
         "rawType": "int64",
         "type": "integer"
        },
        {
         "name": "smoke",
         "rawType": "int64",
         "type": "integer"
        },
        {
         "name": "timestamp",
         "rawType": "object",
         "type": "string"
        },
        {
         "name": "device_id",
         "rawType": "object",
         "type": "string"
        },
        {
         "name": "smoke_detected",
         "rawType": "object",
         "type": "unknown"
        },
        {
         "name": "wildfire_detected",
         "rawType": "object",
         "type": "unknown"
        },
        {
         "name": "thresholds_exceeded",
         "rawType": "float64",
         "type": "float"
        },
        {
         "name": "ir_temperature",
         "rawType": "float64",
         "type": "float"
        },
        {
         "name": "potential_wildfire",
         "rawType": "object",
         "type": "unknown"
        }
       ],
       "conversionMethod": "pd.DataFrame",
       "ref": "d2019832-1ad1-4a30-99e7-affcf34139c5",
       "rows": [
        [
         "0",
         "6804fffa239fbf0170b04a6a",
         "34.7",
         "71",
         "1685",
         "2025-04-20T19:38:59+05:3",
         "esp32_01",
         null,
         null,
         null,
         null,
         null
        ],
        [
         "1",
         "6804fffb239fbf0170b04a6b",
         "34.7",
         "71",
         "1687",
         "2025-04-20T19:39:00+05:3",
         "esp32_01",
         null,
         null,
         null,
         null,
         null
        ],
        [
         "2",
         "6804fffc239fbf0170b04a6c",
         "34.9",
         "71",
         "1690",
         "2025-04-20T19:39:01+05:3",
         "esp32_01",
         null,
         null,
         null,
         null,
         null
        ],
        [
         "3",
         "6804fffd239fbf0170b04a6d",
         "34.9",
         "71",
         "1680",
         "2025-04-20T19:39:02+05:3",
         "esp32_01",
         null,
         null,
         null,
         null,
         null
        ],
        [
         "4",
         "6804fffe239fbf0170b04a6e",
         "34.1",
         "71",
         "1692",
         "2025-04-20T19:39:03+05:3",
         "esp32_01",
         null,
         null,
         null,
         null,
         null
        ]
       ],
       "shape": {
        "columns": 11,
        "rows": 5
       }
      },
      "text/html": [
       "<div>\n",
       "<style scoped>\n",
       "    .dataframe tbody tr th:only-of-type {\n",
       "        vertical-align: middle;\n",
       "    }\n",
       "\n",
       "    .dataframe tbody tr th {\n",
       "        vertical-align: top;\n",
       "    }\n",
       "\n",
       "    .dataframe thead th {\n",
       "        text-align: right;\n",
       "    }\n",
       "</style>\n",
       "<table border=\"1\" class=\"dataframe\">\n",
       "  <thead>\n",
       "    <tr style=\"text-align: right;\">\n",
       "      <th></th>\n",
       "      <th>_id</th>\n",
       "      <th>temperature</th>\n",
       "      <th>humidity</th>\n",
       "      <th>smoke</th>\n",
       "      <th>timestamp</th>\n",
       "      <th>device_id</th>\n",
       "      <th>smoke_detected</th>\n",
       "      <th>wildfire_detected</th>\n",
       "      <th>thresholds_exceeded</th>\n",
       "      <th>ir_temperature</th>\n",
       "      <th>potential_wildfire</th>\n",
       "    </tr>\n",
       "  </thead>\n",
       "  <tbody>\n",
       "    <tr>\n",
       "      <th>0</th>\n",
       "      <td>6804fffa239fbf0170b04a6a</td>\n",
       "      <td>34.7</td>\n",
       "      <td>71</td>\n",
       "      <td>1685</td>\n",
       "      <td>2025-04-20T19:38:59+05:3</td>\n",
       "      <td>esp32_01</td>\n",
       "      <td>NaN</td>\n",
       "      <td>NaN</td>\n",
       "      <td>NaN</td>\n",
       "      <td>NaN</td>\n",
       "      <td>NaN</td>\n",
       "    </tr>\n",
       "    <tr>\n",
       "      <th>1</th>\n",
       "      <td>6804fffb239fbf0170b04a6b</td>\n",
       "      <td>34.7</td>\n",
       "      <td>71</td>\n",
       "      <td>1687</td>\n",
       "      <td>2025-04-20T19:39:00+05:3</td>\n",
       "      <td>esp32_01</td>\n",
       "      <td>NaN</td>\n",
       "      <td>NaN</td>\n",
       "      <td>NaN</td>\n",
       "      <td>NaN</td>\n",
       "      <td>NaN</td>\n",
       "    </tr>\n",
       "    <tr>\n",
       "      <th>2</th>\n",
       "      <td>6804fffc239fbf0170b04a6c</td>\n",
       "      <td>34.9</td>\n",
       "      <td>71</td>\n",
       "      <td>1690</td>\n",
       "      <td>2025-04-20T19:39:01+05:3</td>\n",
       "      <td>esp32_01</td>\n",
       "      <td>NaN</td>\n",
       "      <td>NaN</td>\n",
       "      <td>NaN</td>\n",
       "      <td>NaN</td>\n",
       "      <td>NaN</td>\n",
       "    </tr>\n",
       "    <tr>\n",
       "      <th>3</th>\n",
       "      <td>6804fffd239fbf0170b04a6d</td>\n",
       "      <td>34.9</td>\n",
       "      <td>71</td>\n",
       "      <td>1680</td>\n",
       "      <td>2025-04-20T19:39:02+05:3</td>\n",
       "      <td>esp32_01</td>\n",
       "      <td>NaN</td>\n",
       "      <td>NaN</td>\n",
       "      <td>NaN</td>\n",
       "      <td>NaN</td>\n",
       "      <td>NaN</td>\n",
       "    </tr>\n",
       "    <tr>\n",
       "      <th>4</th>\n",
       "      <td>6804fffe239fbf0170b04a6e</td>\n",
       "      <td>34.1</td>\n",
       "      <td>71</td>\n",
       "      <td>1692</td>\n",
       "      <td>2025-04-20T19:39:03+05:3</td>\n",
       "      <td>esp32_01</td>\n",
       "      <td>NaN</td>\n",
       "      <td>NaN</td>\n",
       "      <td>NaN</td>\n",
       "      <td>NaN</td>\n",
       "      <td>NaN</td>\n",
       "    </tr>\n",
       "  </tbody>\n",
       "</table>\n",
       "</div>"
      ],
      "text/plain": [
       "                        _id  temperature  humidity  smoke  \\\n",
       "0  6804fffa239fbf0170b04a6a         34.7        71   1685   \n",
       "1  6804fffb239fbf0170b04a6b         34.7        71   1687   \n",
       "2  6804fffc239fbf0170b04a6c         34.9        71   1690   \n",
       "3  6804fffd239fbf0170b04a6d         34.9        71   1680   \n",
       "4  6804fffe239fbf0170b04a6e         34.1        71   1692   \n",
       "\n",
       "                  timestamp device_id smoke_detected wildfire_detected  \\\n",
       "0  2025-04-20T19:38:59+05:3  esp32_01            NaN               NaN   \n",
       "1  2025-04-20T19:39:00+05:3  esp32_01            NaN               NaN   \n",
       "2  2025-04-20T19:39:01+05:3  esp32_01            NaN               NaN   \n",
       "3  2025-04-20T19:39:02+05:3  esp32_01            NaN               NaN   \n",
       "4  2025-04-20T19:39:03+05:3  esp32_01            NaN               NaN   \n",
       "\n",
       "   thresholds_exceeded  ir_temperature potential_wildfire  \n",
       "0                  NaN             NaN                NaN  \n",
       "1                  NaN             NaN                NaN  \n",
       "2                  NaN             NaN                NaN  \n",
       "3                  NaN             NaN                NaN  \n",
       "4                  NaN             NaN                NaN  "
      ]
     },
     "execution_count": 62,
     "metadata": {},
     "output_type": "execute_result"
    }
   ],
   "source": [
    "# Filter the dataset to only include records from device_id 'esp32_01'\n",
    "df0 = df0[df0['device_id'] == 'esp32_01']\n",
    "\n",
    "# Display first few rows of the filtered dataset\n",
    "df0.head()"
   ]
  },
  {
   "cell_type": "markdown",
   "id": "36a89aba",
   "metadata": {},
   "source": [
    "### 2.1 Data Cleaning and Preprocessing"
   ]
  },
  {
   "cell_type": "code",
   "execution_count": 63,
   "id": "b0451955",
   "metadata": {},
   "outputs": [
    {
     "name": "stdout",
     "output_type": "stream",
     "text": [
      "\n",
      "Data types:\n",
      "_id                     object\n",
      "temperature            float64\n",
      "humidity                 int64\n",
      "smoke                    int64\n",
      "timestamp               object\n",
      "device_id               object\n",
      "smoke_detected          object\n",
      "wildfire_detected       object\n",
      "thresholds_exceeded    float64\n",
      "ir_temperature         float64\n",
      "potential_wildfire      object\n",
      "dtype: object\n"
     ]
    }
   ],
   "source": [
    "# Check data types\n",
    "print(\"\\nData types:\")\n",
    "print(df0.dtypes)"
   ]
  },
  {
   "cell_type": "code",
   "execution_count": 64,
   "id": "6afaca3e",
   "metadata": {},
   "outputs": [
    {
     "name": "stdout",
     "output_type": "stream",
     "text": [
      "Missing values per column:\n",
      "_id                         0\n",
      "temperature                 0\n",
      "humidity                    0\n",
      "smoke                       0\n",
      "timestamp                   0\n",
      "device_id                   0\n",
      "smoke_detected         165018\n",
      "wildfire_detected       95485\n",
      "thresholds_exceeded    162805\n",
      "ir_temperature           6817\n",
      "potential_wildfire      74112\n",
      "dtype: int64\n"
     ]
    }
   ],
   "source": [
    "# Check for missing values\n",
    "print(\"Missing values per column:\")\n",
    "print(df0.isnull().sum())"
   ]
  },
  {
   "cell_type": "code",
   "execution_count": 65,
   "id": "e7fadc38",
   "metadata": {},
   "outputs": [
    {
     "name": "stdout",
     "output_type": "stream",
     "text": [
      "Updated DataFrame columns:\n",
      "['temperature', 'humidity', 'smoke', 'timestamp', 'ir_temperature']\n"
     ]
    }
   ],
   "source": [
    "# Drop specified columns\n",
    "df1 = df0.drop(['smoke_detected', 'wildfire_detected', 'thresholds_exceeded', 'potential_wildfire', 'device_id', '_id'], axis=1)\n",
    "\n",
    "# Display the updated DataFrame info\n",
    "print(\"Updated DataFrame columns:\")\n",
    "print(df1.columns.tolist())"
   ]
  },
  {
   "cell_type": "code",
   "execution_count": 66,
   "id": "a27395b1",
   "metadata": {},
   "outputs": [
    {
     "data": {
      "application/vnd.microsoft.datawrangler.viewer.v0+json": {
       "columns": [
        {
         "name": "index",
         "rawType": "int64",
         "type": "integer"
        },
        {
         "name": "temperature",
         "rawType": "float64",
         "type": "float"
        },
        {
         "name": "humidity",
         "rawType": "int64",
         "type": "integer"
        },
        {
         "name": "smoke",
         "rawType": "int64",
         "type": "integer"
        },
        {
         "name": "timestamp",
         "rawType": "object",
         "type": "string"
        },
        {
         "name": "ir_temperature",
         "rawType": "float64",
         "type": "float"
        }
       ],
       "conversionMethod": "pd.DataFrame",
       "ref": "109d9beb-b100-465a-b8ef-bcfe72b6b403",
       "rows": [
        [
         "0",
         "34.7",
         "71",
         "1685",
         "2025-04-20T19:38:59+05:3",
         null
        ],
        [
         "1",
         "34.7",
         "71",
         "1687",
         "2025-04-20T19:39:00+05:3",
         null
        ],
        [
         "2",
         "34.9",
         "71",
         "1690",
         "2025-04-20T19:39:01+05:3",
         null
        ],
        [
         "3",
         "34.9",
         "71",
         "1680",
         "2025-04-20T19:39:02+05:3",
         null
        ],
        [
         "4",
         "34.1",
         "71",
         "1692",
         "2025-04-20T19:39:03+05:3",
         null
        ]
       ],
       "shape": {
        "columns": 5,
        "rows": 5
       }
      },
      "text/html": [
       "<div>\n",
       "<style scoped>\n",
       "    .dataframe tbody tr th:only-of-type {\n",
       "        vertical-align: middle;\n",
       "    }\n",
       "\n",
       "    .dataframe tbody tr th {\n",
       "        vertical-align: top;\n",
       "    }\n",
       "\n",
       "    .dataframe thead th {\n",
       "        text-align: right;\n",
       "    }\n",
       "</style>\n",
       "<table border=\"1\" class=\"dataframe\">\n",
       "  <thead>\n",
       "    <tr style=\"text-align: right;\">\n",
       "      <th></th>\n",
       "      <th>temperature</th>\n",
       "      <th>humidity</th>\n",
       "      <th>smoke</th>\n",
       "      <th>timestamp</th>\n",
       "      <th>ir_temperature</th>\n",
       "    </tr>\n",
       "  </thead>\n",
       "  <tbody>\n",
       "    <tr>\n",
       "      <th>0</th>\n",
       "      <td>34.7</td>\n",
       "      <td>71</td>\n",
       "      <td>1685</td>\n",
       "      <td>2025-04-20T19:38:59+05:3</td>\n",
       "      <td>NaN</td>\n",
       "    </tr>\n",
       "    <tr>\n",
       "      <th>1</th>\n",
       "      <td>34.7</td>\n",
       "      <td>71</td>\n",
       "      <td>1687</td>\n",
       "      <td>2025-04-20T19:39:00+05:3</td>\n",
       "      <td>NaN</td>\n",
       "    </tr>\n",
       "    <tr>\n",
       "      <th>2</th>\n",
       "      <td>34.9</td>\n",
       "      <td>71</td>\n",
       "      <td>1690</td>\n",
       "      <td>2025-04-20T19:39:01+05:3</td>\n",
       "      <td>NaN</td>\n",
       "    </tr>\n",
       "    <tr>\n",
       "      <th>3</th>\n",
       "      <td>34.9</td>\n",
       "      <td>71</td>\n",
       "      <td>1680</td>\n",
       "      <td>2025-04-20T19:39:02+05:3</td>\n",
       "      <td>NaN</td>\n",
       "    </tr>\n",
       "    <tr>\n",
       "      <th>4</th>\n",
       "      <td>34.1</td>\n",
       "      <td>71</td>\n",
       "      <td>1692</td>\n",
       "      <td>2025-04-20T19:39:03+05:3</td>\n",
       "      <td>NaN</td>\n",
       "    </tr>\n",
       "  </tbody>\n",
       "</table>\n",
       "</div>"
      ],
      "text/plain": [
       "   temperature  humidity  smoke                 timestamp  ir_temperature\n",
       "0         34.7        71   1685  2025-04-20T19:38:59+05:3             NaN\n",
       "1         34.7        71   1687  2025-04-20T19:39:00+05:3             NaN\n",
       "2         34.9        71   1690  2025-04-20T19:39:01+05:3             NaN\n",
       "3         34.9        71   1680  2025-04-20T19:39:02+05:3             NaN\n",
       "4         34.1        71   1692  2025-04-20T19:39:03+05:3             NaN"
      ]
     },
     "execution_count": 66,
     "metadata": {},
     "output_type": "execute_result"
    }
   ],
   "source": [
    "df1.head()"
   ]
  },
  {
   "cell_type": "code",
   "execution_count": 67,
   "id": "a0ddb0de",
   "metadata": {},
   "outputs": [
    {
     "name": "stdout",
     "output_type": "stream",
     "text": [
      "Missing values per column:\n",
      "temperature          0\n",
      "humidity             0\n",
      "smoke                0\n",
      "timestamp            0\n",
      "ir_temperature    6817\n",
      "dtype: int64\n"
     ]
    }
   ],
   "source": [
    "# Check for missing values\n",
    "print(\"Missing values per column:\")\n",
    "print(df1.isnull().sum())"
   ]
  },
  {
   "cell_type": "code",
   "execution_count": 68,
   "id": "7203cfee",
   "metadata": {},
   "outputs": [
    {
     "name": "stdout",
     "output_type": "stream",
     "text": [
      "Data shape after removing rows with missing ir_temperature: (161594, 5)\n",
      "\n",
      "Missing values after cleaning:\n",
      "temperature       0\n",
      "humidity          0\n",
      "smoke             0\n",
      "timestamp         0\n",
      "ir_temperature    0\n",
      "dtype: int64\n"
     ]
    }
   ],
   "source": [
    "# Create a clean copy of the data for our analysis\n",
    "df2 = df1.copy()\n",
    "\n",
    "# Remove rows where ir_temperature is missing\n",
    "df3 = df2.dropna(subset=['ir_temperature'])\n",
    "\n",
    "# Check the shape after removing rows with missing ir_temperature\n",
    "print(f\"Data shape after removing rows with missing ir_temperature: {df3.shape}\")\n",
    "\n",
    "# Check for missing values in the remaining data\n",
    "print(\"\\nMissing values after cleaning:\")\n",
    "print(df3.isnull().sum())"
   ]
  },
  {
   "cell_type": "code",
   "execution_count": 69,
   "id": "8d38fa0d",
   "metadata": {},
   "outputs": [
    {
     "name": "stdout",
     "output_type": "stream",
     "text": [
      "After cleaning:\n",
      "Data shape: (161594, 5)\n"
     ]
    },
    {
     "data": {
      "application/vnd.microsoft.datawrangler.viewer.v0+json": {
       "columns": [
        {
         "name": "index",
         "rawType": "int64",
         "type": "integer"
        },
        {
         "name": "temperature",
         "rawType": "float64",
         "type": "float"
        },
        {
         "name": "humidity",
         "rawType": "int64",
         "type": "integer"
        },
        {
         "name": "smoke",
         "rawType": "int64",
         "type": "integer"
        },
        {
         "name": "timestamp",
         "rawType": "object",
         "type": "string"
        },
        {
         "name": "ir_temperature",
         "rawType": "float64",
         "type": "float"
        }
       ],
       "conversionMethod": "pd.DataFrame",
       "ref": "1fdd5ceb-a324-42b7-86a7-4ef04b5572d0",
       "rows": [
        [
         "6792",
         "34.5",
         "67",
         "1451",
         "2025-04-21T19:27:51+05:3",
         "31.67001"
        ],
        [
         "6793",
         "34.5",
         "67",
         "1467",
         "2025-04-21T19:27:52+05:3",
         "31.63"
        ],
        [
         "6794",
         "34.3",
         "67",
         "1447",
         "2025-04-21T19:27:53+05:3",
         "31.67001"
        ],
        [
         "6795",
         "34.3",
         "67",
         "1471",
         "2025-04-21T19:27:54+05:3",
         "31.67001"
        ],
        [
         "6796",
         "34.0",
         "67",
         "1454",
         "2025-04-21T19:27:55+05:3",
         "31.67001"
        ]
       ],
       "shape": {
        "columns": 5,
        "rows": 5
       }
      },
      "text/html": [
       "<div>\n",
       "<style scoped>\n",
       "    .dataframe tbody tr th:only-of-type {\n",
       "        vertical-align: middle;\n",
       "    }\n",
       "\n",
       "    .dataframe tbody tr th {\n",
       "        vertical-align: top;\n",
       "    }\n",
       "\n",
       "    .dataframe thead th {\n",
       "        text-align: right;\n",
       "    }\n",
       "</style>\n",
       "<table border=\"1\" class=\"dataframe\">\n",
       "  <thead>\n",
       "    <tr style=\"text-align: right;\">\n",
       "      <th></th>\n",
       "      <th>temperature</th>\n",
       "      <th>humidity</th>\n",
       "      <th>smoke</th>\n",
       "      <th>timestamp</th>\n",
       "      <th>ir_temperature</th>\n",
       "    </tr>\n",
       "  </thead>\n",
       "  <tbody>\n",
       "    <tr>\n",
       "      <th>6792</th>\n",
       "      <td>34.5</td>\n",
       "      <td>67</td>\n",
       "      <td>1451</td>\n",
       "      <td>2025-04-21T19:27:51+05:3</td>\n",
       "      <td>31.67001</td>\n",
       "    </tr>\n",
       "    <tr>\n",
       "      <th>6793</th>\n",
       "      <td>34.5</td>\n",
       "      <td>67</td>\n",
       "      <td>1467</td>\n",
       "      <td>2025-04-21T19:27:52+05:3</td>\n",
       "      <td>31.63000</td>\n",
       "    </tr>\n",
       "    <tr>\n",
       "      <th>6794</th>\n",
       "      <td>34.3</td>\n",
       "      <td>67</td>\n",
       "      <td>1447</td>\n",
       "      <td>2025-04-21T19:27:53+05:3</td>\n",
       "      <td>31.67001</td>\n",
       "    </tr>\n",
       "    <tr>\n",
       "      <th>6795</th>\n",
       "      <td>34.3</td>\n",
       "      <td>67</td>\n",
       "      <td>1471</td>\n",
       "      <td>2025-04-21T19:27:54+05:3</td>\n",
       "      <td>31.67001</td>\n",
       "    </tr>\n",
       "    <tr>\n",
       "      <th>6796</th>\n",
       "      <td>34.0</td>\n",
       "      <td>67</td>\n",
       "      <td>1454</td>\n",
       "      <td>2025-04-21T19:27:55+05:3</td>\n",
       "      <td>31.67001</td>\n",
       "    </tr>\n",
       "  </tbody>\n",
       "</table>\n",
       "</div>"
      ],
      "text/plain": [
       "      temperature  humidity  smoke                 timestamp  ir_temperature\n",
       "6792         34.5        67   1451  2025-04-21T19:27:51+05:3        31.67001\n",
       "6793         34.5        67   1467  2025-04-21T19:27:52+05:3        31.63000\n",
       "6794         34.3        67   1447  2025-04-21T19:27:53+05:3        31.67001\n",
       "6795         34.3        67   1471  2025-04-21T19:27:54+05:3        31.67001\n",
       "6796         34.0        67   1454  2025-04-21T19:27:55+05:3        31.67001"
      ]
     },
     "execution_count": 69,
     "metadata": {},
     "output_type": "execute_result"
    }
   ],
   "source": [
    "# Display the cleaned data\n",
    "print(\"After cleaning:\")\n",
    "print(f\"Data shape: {df3.shape}\")\n",
    "\n",
    "# Display a few rows of the cleaned data\n",
    "df3.head()"
   ]
  },
  {
   "cell_type": "code",
   "execution_count": 70,
   "id": "6b2b40d1",
   "metadata": {},
   "outputs": [],
   "source": [
    "# Convert timestamp to datetime (force UTC to handle tz‑aware strings)\n",
    "df3['timestamp'] = pd.to_datetime(df3['timestamp'], utc=True)\n",
    "\n",
    "# (Optional) Drop the timezone info to get naive datetimes\n",
    "df3['timestamp'] = df3['timestamp'].dt.tz_convert(None)\n",
    "\n",
    "# Now filter years > 2025\n",
    "df3 = df3[df3['timestamp'].dt.year >= 2025]"
   ]
  },
  {
   "cell_type": "code",
   "execution_count": 71,
   "id": "0923d14c",
   "metadata": {},
   "outputs": [
    {
     "data": {
      "application/vnd.microsoft.datawrangler.viewer.v0+json": {
       "columns": [
        {
         "name": "index",
         "rawType": "int64",
         "type": "integer"
        },
        {
         "name": "temperature",
         "rawType": "float64",
         "type": "float"
        },
        {
         "name": "humidity",
         "rawType": "int64",
         "type": "integer"
        },
        {
         "name": "smoke",
         "rawType": "int64",
         "type": "integer"
        },
        {
         "name": "timestamp",
         "rawType": "datetime64[ns]",
         "type": "datetime"
        },
        {
         "name": "ir_temperature",
         "rawType": "float64",
         "type": "float"
        }
       ],
       "conversionMethod": "pd.DataFrame",
       "ref": "89a0c990-4808-4414-9b52-0c5929c74e9f",
       "rows": [
        [
         "6792",
         "34.5",
         "67",
         "1451",
         "2025-04-21 14:24:51",
         "31.67001"
        ],
        [
         "6793",
         "34.5",
         "67",
         "1467",
         "2025-04-21 14:24:52",
         "31.63"
        ],
        [
         "6794",
         "34.3",
         "67",
         "1447",
         "2025-04-21 14:24:53",
         "31.67001"
        ],
        [
         "6795",
         "34.3",
         "67",
         "1471",
         "2025-04-21 14:24:54",
         "31.67001"
        ],
        [
         "6796",
         "34.0",
         "67",
         "1454",
         "2025-04-21 14:24:55",
         "31.67001"
        ],
        [
         "6797",
         "34.0",
         "67",
         "1463",
         "2025-04-21 14:24:56",
         "31.69"
        ],
        [
         "6798",
         "34.4",
         "67",
         "1460",
         "2025-04-21 14:24:57",
         "31.77001"
        ],
        [
         "6799",
         "34.4",
         "67",
         "1447",
         "2025-04-21 14:24:58",
         "31.67001"
        ],
        [
         "6800",
         "34.3",
         "67",
         "1466",
         "2025-04-21 14:24:59",
         "31.70999"
        ],
        [
         "6801",
         "34.3",
         "67",
         "1450",
         "2025-04-21 14:25:00",
         "31.70999"
        ],
        [
         "6802",
         "34.3",
         "67",
         "1458",
         "2025-04-21 14:25:01",
         "31.77001"
        ],
        [
         "6803",
         "34.3",
         "67",
         "1474",
         "2025-04-21 14:25:02",
         "31.77001"
        ],
        [
         "6804",
         "34.4",
         "67",
         "1464",
         "2025-04-21 14:25:03",
         "31.67001"
        ],
        [
         "6805",
         "34.4",
         "67",
         "1459",
         "2025-04-21 14:25:04",
         "31.70999"
        ],
        [
         "6806",
         "34.2",
         "67",
         "1442",
         "2025-04-21 14:25:05",
         "31.70999"
        ],
        [
         "6807",
         "34.2",
         "67",
         "1471",
         "2025-04-21 14:25:06",
         "31.70999"
        ],
        [
         "6808",
         "34.5",
         "67",
         "1453",
         "2025-04-21 14:25:08",
         "31.74999"
        ],
        [
         "6809",
         "34.5",
         "67",
         "1465",
         "2025-04-21 14:25:09",
         "31.70999"
        ],
        [
         "6810",
         "34.7",
         "67",
         "1458",
         "2025-04-21 14:25:10",
         "31.69"
        ],
        [
         "6811",
         "34.7",
         "67",
         "1456",
         "2025-04-21 14:25:11",
         "31.70999"
        ],
        [
         "6812",
         "34.0",
         "67",
         "1459",
         "2025-04-21 14:25:12",
         "31.69"
        ],
        [
         "6813",
         "34.0",
         "67",
         "1465",
         "2025-04-21 14:25:13",
         "31.70999"
        ],
        [
         "6814",
         "34.7",
         "67",
         "1460",
         "2025-04-21 14:25:14",
         "31.70999"
        ],
        [
         "6815",
         "34.7",
         "67",
         "1458",
         "2025-04-21 14:25:15",
         "31.69"
        ],
        [
         "6816",
         "34.2",
         "67",
         "1457",
         "2025-04-21 14:25:16",
         "31.61001"
        ],
        [
         "6817",
         "34.2",
         "67",
         "1468",
         "2025-04-21 14:25:17",
         "31.61001"
        ],
        [
         "6818",
         "34.7",
         "67",
         "1460",
         "2025-04-21 14:25:18",
         "31.63"
        ],
        [
         "6819",
         "34.7",
         "67",
         "1458",
         "2025-04-21 14:25:19",
         "31.63"
        ],
        [
         "6820",
         "34.7",
         "67",
         "1456",
         "2025-04-21 14:25:20",
         "31.57"
        ],
        [
         "6821",
         "34.7",
         "67",
         "1463",
         "2025-04-21 14:25:21",
         "31.67001"
        ],
        [
         "6822",
         "34.1",
         "67",
         "1462",
         "2025-04-21 14:25:22",
         "31.61001"
        ],
        [
         "6823",
         "34.1",
         "67",
         "1451",
         "2025-04-21 14:25:23",
         "31.69"
        ],
        [
         "6824",
         "34.1",
         "67",
         "1457",
         "2025-04-21 14:25:24",
         "31.69"
        ],
        [
         "6825",
         "34.1",
         "67",
         "1467",
         "2025-04-21 14:25:25",
         "31.77001"
        ],
        [
         "6826",
         "34.1",
         "67",
         "1463",
         "2025-04-21 14:25:26",
         "32.39001"
        ],
        [
         "6827",
         "34.1",
         "67",
         "1454",
         "2025-04-21 14:25:27",
         "32.49001"
        ],
        [
         "6828",
         "34.4",
         "67",
         "1472",
         "2025-04-21 14:25:28",
         "32.46999"
        ],
        [
         "6829",
         "34.4",
         "67",
         "1461",
         "2025-04-21 14:25:29",
         "32.24999"
        ],
        [
         "6830",
         "34.8",
         "67",
         "1459",
         "2025-04-21 14:25:30",
         "32.39001"
        ],
        [
         "6831",
         "34.8",
         "67",
         "1467",
         "2025-04-21 14:25:31",
         "32.33001"
        ],
        [
         "6832",
         "34.0",
         "67",
         "1456",
         "2025-04-21 14:25:32",
         "32.11001"
        ],
        [
         "6833",
         "34.0",
         "67",
         "1467",
         "2025-04-21 14:25:34",
         "32.08999"
        ],
        [
         "6834",
         "34.9",
         "67",
         "1456",
         "2025-04-21 14:25:35",
         "31.99002"
        ],
        [
         "6835",
         "34.9",
         "67",
         "1456",
         "2025-04-21 14:25:36",
         "32.05001"
        ],
        [
         "6836",
         "34.5",
         "67",
         "1441",
         "2025-04-21 14:25:37",
         "32.08999"
        ],
        [
         "6837",
         "34.5",
         "67",
         "1456",
         "2025-04-21 14:25:38",
         "32.17001"
        ],
        [
         "6838",
         "34.8",
         "67",
         "1454",
         "2025-04-21 14:25:39",
         "32.13"
        ],
        [
         "6839",
         "34.8",
         "67",
         "1469",
         "2025-04-21 14:25:40",
         "32.18999"
        ],
        [
         "6840",
         "34.2",
         "67",
         "1471",
         "2025-04-21 14:25:41",
         "32.17001"
        ],
        [
         "6841",
         "34.2",
         "67",
         "1453",
         "2025-04-21 14:25:42",
         "32.20998"
        ]
       ],
       "shape": {
        "columns": 5,
        "rows": 160072
       }
      },
      "text/html": [
       "<div>\n",
       "<style scoped>\n",
       "    .dataframe tbody tr th:only-of-type {\n",
       "        vertical-align: middle;\n",
       "    }\n",
       "\n",
       "    .dataframe tbody tr th {\n",
       "        vertical-align: top;\n",
       "    }\n",
       "\n",
       "    .dataframe thead th {\n",
       "        text-align: right;\n",
       "    }\n",
       "</style>\n",
       "<table border=\"1\" class=\"dataframe\">\n",
       "  <thead>\n",
       "    <tr style=\"text-align: right;\">\n",
       "      <th></th>\n",
       "      <th>temperature</th>\n",
       "      <th>humidity</th>\n",
       "      <th>smoke</th>\n",
       "      <th>timestamp</th>\n",
       "      <th>ir_temperature</th>\n",
       "    </tr>\n",
       "  </thead>\n",
       "  <tbody>\n",
       "    <tr>\n",
       "      <th>6792</th>\n",
       "      <td>34.5</td>\n",
       "      <td>67</td>\n",
       "      <td>1451</td>\n",
       "      <td>2025-04-21 14:24:51</td>\n",
       "      <td>31.67001</td>\n",
       "    </tr>\n",
       "    <tr>\n",
       "      <th>6793</th>\n",
       "      <td>34.5</td>\n",
       "      <td>67</td>\n",
       "      <td>1467</td>\n",
       "      <td>2025-04-21 14:24:52</td>\n",
       "      <td>31.63000</td>\n",
       "    </tr>\n",
       "    <tr>\n",
       "      <th>6794</th>\n",
       "      <td>34.3</td>\n",
       "      <td>67</td>\n",
       "      <td>1447</td>\n",
       "      <td>2025-04-21 14:24:53</td>\n",
       "      <td>31.67001</td>\n",
       "    </tr>\n",
       "    <tr>\n",
       "      <th>6795</th>\n",
       "      <td>34.3</td>\n",
       "      <td>67</td>\n",
       "      <td>1471</td>\n",
       "      <td>2025-04-21 14:24:54</td>\n",
       "      <td>31.67001</td>\n",
       "    </tr>\n",
       "    <tr>\n",
       "      <th>6796</th>\n",
       "      <td>34.0</td>\n",
       "      <td>67</td>\n",
       "      <td>1454</td>\n",
       "      <td>2025-04-21 14:24:55</td>\n",
       "      <td>31.67001</td>\n",
       "    </tr>\n",
       "    <tr>\n",
       "      <th>...</th>\n",
       "      <td>...</td>\n",
       "      <td>...</td>\n",
       "      <td>...</td>\n",
       "      <td>...</td>\n",
       "      <td>...</td>\n",
       "    </tr>\n",
       "    <tr>\n",
       "      <th>168406</th>\n",
       "      <td>34.3</td>\n",
       "      <td>74</td>\n",
       "      <td>1472</td>\n",
       "      <td>2025-04-26 08:21:49</td>\n",
       "      <td>37.41000</td>\n",
       "    </tr>\n",
       "    <tr>\n",
       "      <th>168407</th>\n",
       "      <td>34.9</td>\n",
       "      <td>74</td>\n",
       "      <td>1470</td>\n",
       "      <td>2025-04-26 08:21:50</td>\n",
       "      <td>37.36999</td>\n",
       "    </tr>\n",
       "    <tr>\n",
       "      <th>168408</th>\n",
       "      <td>34.9</td>\n",
       "      <td>74</td>\n",
       "      <td>1470</td>\n",
       "      <td>2025-04-26 08:21:51</td>\n",
       "      <td>37.35000</td>\n",
       "    </tr>\n",
       "    <tr>\n",
       "      <th>168409</th>\n",
       "      <td>34.7</td>\n",
       "      <td>74</td>\n",
       "      <td>1461</td>\n",
       "      <td>2025-04-26 08:21:53</td>\n",
       "      <td>37.35000</td>\n",
       "    </tr>\n",
       "    <tr>\n",
       "      <th>168410</th>\n",
       "      <td>34.7</td>\n",
       "      <td>74</td>\n",
       "      <td>1466</td>\n",
       "      <td>2025-04-26 08:21:54</td>\n",
       "      <td>37.41000</td>\n",
       "    </tr>\n",
       "  </tbody>\n",
       "</table>\n",
       "<p>160072 rows × 5 columns</p>\n",
       "</div>"
      ],
      "text/plain": [
       "        temperature  humidity  smoke           timestamp  ir_temperature\n",
       "6792           34.5        67   1451 2025-04-21 14:24:51        31.67001\n",
       "6793           34.5        67   1467 2025-04-21 14:24:52        31.63000\n",
       "6794           34.3        67   1447 2025-04-21 14:24:53        31.67001\n",
       "6795           34.3        67   1471 2025-04-21 14:24:54        31.67001\n",
       "6796           34.0        67   1454 2025-04-21 14:24:55        31.67001\n",
       "...             ...       ...    ...                 ...             ...\n",
       "168406         34.3        74   1472 2025-04-26 08:21:49        37.41000\n",
       "168407         34.9        74   1470 2025-04-26 08:21:50        37.36999\n",
       "168408         34.9        74   1470 2025-04-26 08:21:51        37.35000\n",
       "168409         34.7        74   1461 2025-04-26 08:21:53        37.35000\n",
       "168410         34.7        74   1466 2025-04-26 08:21:54        37.41000\n",
       "\n",
       "[160072 rows x 5 columns]"
      ]
     },
     "execution_count": 71,
     "metadata": {},
     "output_type": "execute_result"
    }
   ],
   "source": [
    "df3"
   ]
  },
  {
   "cell_type": "code",
   "execution_count": 72,
   "id": "ee375499",
   "metadata": {},
   "outputs": [
    {
     "name": "stdout",
     "output_type": "stream",
     "text": [
      "After cleaning:\n",
      "Data shape: (160072, 4)\n"
     ]
    },
    {
     "data": {
      "application/vnd.microsoft.datawrangler.viewer.v0+json": {
       "columns": [
        {
         "name": "timestamp",
         "rawType": "datetime64[ns]",
         "type": "datetime"
        },
        {
         "name": "temperature",
         "rawType": "float64",
         "type": "float"
        },
        {
         "name": "humidity",
         "rawType": "int64",
         "type": "integer"
        },
        {
         "name": "smoke",
         "rawType": "int64",
         "type": "integer"
        },
        {
         "name": "ir_temperature",
         "rawType": "float64",
         "type": "float"
        }
       ],
       "conversionMethod": "pd.DataFrame",
       "ref": "3573018f-3c84-448a-ae89-09d35a981294",
       "rows": [
        [
         "2025-04-21 14:24:51",
         "34.5",
         "67",
         "1451",
         "31.67001"
        ],
        [
         "2025-04-21 14:24:52",
         "34.5",
         "67",
         "1467",
         "31.63"
        ],
        [
         "2025-04-21 14:24:53",
         "34.3",
         "67",
         "1447",
         "31.67001"
        ],
        [
         "2025-04-21 14:24:54",
         "34.3",
         "67",
         "1471",
         "31.67001"
        ],
        [
         "2025-04-21 14:24:55",
         "34.0",
         "67",
         "1454",
         "31.67001"
        ]
       ],
       "shape": {
        "columns": 4,
        "rows": 5
       }
      },
      "text/html": [
       "<div>\n",
       "<style scoped>\n",
       "    .dataframe tbody tr th:only-of-type {\n",
       "        vertical-align: middle;\n",
       "    }\n",
       "\n",
       "    .dataframe tbody tr th {\n",
       "        vertical-align: top;\n",
       "    }\n",
       "\n",
       "    .dataframe thead th {\n",
       "        text-align: right;\n",
       "    }\n",
       "</style>\n",
       "<table border=\"1\" class=\"dataframe\">\n",
       "  <thead>\n",
       "    <tr style=\"text-align: right;\">\n",
       "      <th></th>\n",
       "      <th>temperature</th>\n",
       "      <th>humidity</th>\n",
       "      <th>smoke</th>\n",
       "      <th>ir_temperature</th>\n",
       "    </tr>\n",
       "    <tr>\n",
       "      <th>timestamp</th>\n",
       "      <th></th>\n",
       "      <th></th>\n",
       "      <th></th>\n",
       "      <th></th>\n",
       "    </tr>\n",
       "  </thead>\n",
       "  <tbody>\n",
       "    <tr>\n",
       "      <th>2025-04-21 14:24:51</th>\n",
       "      <td>34.5</td>\n",
       "      <td>67</td>\n",
       "      <td>1451</td>\n",
       "      <td>31.67001</td>\n",
       "    </tr>\n",
       "    <tr>\n",
       "      <th>2025-04-21 14:24:52</th>\n",
       "      <td>34.5</td>\n",
       "      <td>67</td>\n",
       "      <td>1467</td>\n",
       "      <td>31.63000</td>\n",
       "    </tr>\n",
       "    <tr>\n",
       "      <th>2025-04-21 14:24:53</th>\n",
       "      <td>34.3</td>\n",
       "      <td>67</td>\n",
       "      <td>1447</td>\n",
       "      <td>31.67001</td>\n",
       "    </tr>\n",
       "    <tr>\n",
       "      <th>2025-04-21 14:24:54</th>\n",
       "      <td>34.3</td>\n",
       "      <td>67</td>\n",
       "      <td>1471</td>\n",
       "      <td>31.67001</td>\n",
       "    </tr>\n",
       "    <tr>\n",
       "      <th>2025-04-21 14:24:55</th>\n",
       "      <td>34.0</td>\n",
       "      <td>67</td>\n",
       "      <td>1454</td>\n",
       "      <td>31.67001</td>\n",
       "    </tr>\n",
       "  </tbody>\n",
       "</table>\n",
       "</div>"
      ],
      "text/plain": [
       "                     temperature  humidity  smoke  ir_temperature\n",
       "timestamp                                                        \n",
       "2025-04-21 14:24:51         34.5        67   1451        31.67001\n",
       "2025-04-21 14:24:52         34.5        67   1467        31.63000\n",
       "2025-04-21 14:24:53         34.3        67   1447        31.67001\n",
       "2025-04-21 14:24:54         34.3        67   1471        31.67001\n",
       "2025-04-21 14:24:55         34.0        67   1454        31.67001"
      ]
     },
     "execution_count": 72,
     "metadata": {},
     "output_type": "execute_result"
    }
   ],
   "source": [
    "# Set timestamp as index for time-series analysis\n",
    "df3.set_index('timestamp', inplace=True)\n",
    "\n",
    "# Convert numerical columns to float\n",
    "numerical_columns = ['temperature', 'humidity', 'smoke', 'ir_temperature']\n",
    "for col in numerical_columns:\n",
    "    if col in df3.columns:\n",
    "        df3[col] = pd.to_numeric(df3[col], errors='coerce')\n",
    "\n",
    "# Handle missing values by filling with column means\n",
    "df3[numerical_columns] = df3[numerical_columns].fillna(df3[numerical_columns].mean())\n",
    "\n",
    "# Display the cleaned data\n",
    "print(\"After cleaning:\")\n",
    "print(f\"Data shape: {df3.shape}\")\n",
    "df3.head()"
   ]
  },
  {
   "cell_type": "markdown",
   "id": "521ec919",
   "metadata": {},
   "source": [
    "### 2.2 Removing Data Points Based on Thresholds\n",
    "\n",
    "Let's remove data points that fall below certain thresholds which may indicate sensor errors or irrelevant conditions for wildfire analysis:"
   ]
  },
  {
   "cell_type": "code",
   "execution_count": 73,
   "id": "c9f95db5",
   "metadata": {},
   "outputs": [
    {
     "name": "stdout",
     "output_type": "stream",
     "text": [
      "Data shape before filtering: (160072, 4)\n",
      "Data shape after filtering: (157666, 4)\n",
      "Removed 2406 rows based on threshold conditions\n",
      "Retained 98.50% of the original data after filtering\n"
     ]
    },
    {
     "data": {
      "application/vnd.microsoft.datawrangler.viewer.v0+json": {
       "columns": [
        {
         "name": "timestamp",
         "rawType": "datetime64[ns]",
         "type": "datetime"
        },
        {
         "name": "temperature",
         "rawType": "float64",
         "type": "float"
        },
        {
         "name": "humidity",
         "rawType": "int64",
         "type": "integer"
        },
        {
         "name": "smoke",
         "rawType": "int64",
         "type": "integer"
        },
        {
         "name": "ir_temperature",
         "rawType": "float64",
         "type": "float"
        }
       ],
       "conversionMethod": "pd.DataFrame",
       "ref": "7083e6d3-1342-4214-a474-1c628676ea82",
       "rows": [
        [
         "2025-04-21 14:24:51",
         "34.5",
         "67",
         "1451",
         "31.67001"
        ],
        [
         "2025-04-21 14:24:52",
         "34.5",
         "67",
         "1467",
         "31.63"
        ],
        [
         "2025-04-21 14:24:53",
         "34.3",
         "67",
         "1447",
         "31.67001"
        ],
        [
         "2025-04-21 14:24:54",
         "34.3",
         "67",
         "1471",
         "31.67001"
        ],
        [
         "2025-04-21 14:24:55",
         "34.0",
         "67",
         "1454",
         "31.67001"
        ]
       ],
       "shape": {
        "columns": 4,
        "rows": 5
       }
      },
      "text/html": [
       "<div>\n",
       "<style scoped>\n",
       "    .dataframe tbody tr th:only-of-type {\n",
       "        vertical-align: middle;\n",
       "    }\n",
       "\n",
       "    .dataframe tbody tr th {\n",
       "        vertical-align: top;\n",
       "    }\n",
       "\n",
       "    .dataframe thead th {\n",
       "        text-align: right;\n",
       "    }\n",
       "</style>\n",
       "<table border=\"1\" class=\"dataframe\">\n",
       "  <thead>\n",
       "    <tr style=\"text-align: right;\">\n",
       "      <th></th>\n",
       "      <th>temperature</th>\n",
       "      <th>humidity</th>\n",
       "      <th>smoke</th>\n",
       "      <th>ir_temperature</th>\n",
       "    </tr>\n",
       "    <tr>\n",
       "      <th>timestamp</th>\n",
       "      <th></th>\n",
       "      <th></th>\n",
       "      <th></th>\n",
       "      <th></th>\n",
       "    </tr>\n",
       "  </thead>\n",
       "  <tbody>\n",
       "    <tr>\n",
       "      <th>2025-04-21 14:24:51</th>\n",
       "      <td>34.5</td>\n",
       "      <td>67</td>\n",
       "      <td>1451</td>\n",
       "      <td>31.67001</td>\n",
       "    </tr>\n",
       "    <tr>\n",
       "      <th>2025-04-21 14:24:52</th>\n",
       "      <td>34.5</td>\n",
       "      <td>67</td>\n",
       "      <td>1467</td>\n",
       "      <td>31.63000</td>\n",
       "    </tr>\n",
       "    <tr>\n",
       "      <th>2025-04-21 14:24:53</th>\n",
       "      <td>34.3</td>\n",
       "      <td>67</td>\n",
       "      <td>1447</td>\n",
       "      <td>31.67001</td>\n",
       "    </tr>\n",
       "    <tr>\n",
       "      <th>2025-04-21 14:24:54</th>\n",
       "      <td>34.3</td>\n",
       "      <td>67</td>\n",
       "      <td>1471</td>\n",
       "      <td>31.67001</td>\n",
       "    </tr>\n",
       "    <tr>\n",
       "      <th>2025-04-21 14:24:55</th>\n",
       "      <td>34.0</td>\n",
       "      <td>67</td>\n",
       "      <td>1454</td>\n",
       "      <td>31.67001</td>\n",
       "    </tr>\n",
       "  </tbody>\n",
       "</table>\n",
       "</div>"
      ],
      "text/plain": [
       "                     temperature  humidity  smoke  ir_temperature\n",
       "timestamp                                                        \n",
       "2025-04-21 14:24:51         34.5        67   1451        31.67001\n",
       "2025-04-21 14:24:52         34.5        67   1467        31.63000\n",
       "2025-04-21 14:24:53         34.3        67   1447        31.67001\n",
       "2025-04-21 14:24:54         34.3        67   1471        31.67001\n",
       "2025-04-21 14:24:55         34.0        67   1454        31.67001"
      ]
     },
     "execution_count": 73,
     "metadata": {},
     "output_type": "execute_result"
    }
   ],
   "source": [
    "# Display shape before filtering\n",
    "print(f\"Data shape before filtering: {df3.shape}\")\n",
    "\n",
    "# Store original DataFrame for reference\n",
    "df_original = df3.copy()\n",
    "\n",
    "# Filter out rows with values below thresholds\n",
    "filtered_df = df3[\n",
    "    (df3['temperature'] > 30) &\n",
    "    (df3['humidity'] > 10) &\n",
    "    (df3['smoke'] > 1000) &\n",
    "    (df3['ir_temperature'] > 20)\n",
    "]\n",
    "\n",
    "# Reassign filtered DataFrame to df3 for subsequent analysis\n",
    "df4 = filtered_df.copy()\n",
    "\n",
    "# Display the results of filtering\n",
    "print(f\"Data shape after filtering: {df4.shape}\")\n",
    "print(f\"Removed {df3.shape[0] - df4.shape[0]} rows based on threshold conditions\")\n",
    "\n",
    "# Display percentage of data retained\n",
    "retention_percentage = (df4.shape[0] / df3.shape[0]) * 100\n",
    "print(f\"Retained {retention_percentage:.2f}% of the original data after filtering\")\n",
    "\n",
    "# Display first few rows of filtered data\n",
    "df4.head()"
   ]
  },
  {
   "cell_type": "markdown",
   "id": "fd648bb5",
   "metadata": {},
   "source": [
    "### 2.3 Data Processing Flow\n",
    "\n",
    "For clarity, here's a summary of our data processing pipeline:\n",
    "\n",
    "1. **Initial Load**: Loaded raw sensor data from CSV file\n",
    "2. **Device Filtering**: Selected only data from device 'esp32_01'\n",
    "3. **Column Reduction**: Removed non-essential columns\n",
    "4. **Missing Value Handling**: Removed rows with missing IR temperature values\n",
    "5. **Timestamp Conversion**: Converted timestamps to datetime format\n",
    "6. **Normalization**: Ensured numerical data types for sensor readings\n",
    "7. **Threshold Filtering**: Applied minimum thresholds to filter out irrelevant data\n",
    "\n",
    "This clean, time-indexed dataset (df4) will be the foundation for all subsequent analyses."
   ]
  },
  {
   "cell_type": "markdown",
   "id": "a2925114",
   "metadata": {},
   "source": [
    "## 3. Basic Statistical Summary\n",
    "\n",
    "Let's examine the basic statistics of our sensor data to understand the distribution."
   ]
  },
  {
   "cell_type": "code",
   "execution_count": 74,
   "id": "5bcdfeee",
   "metadata": {},
   "outputs": [
    {
     "data": {
      "application/vnd.microsoft.datawrangler.viewer.v0+json": {
       "columns": [
        {
         "name": "index",
         "rawType": "object",
         "type": "string"
        },
        {
         "name": "temperature",
         "rawType": "float64",
         "type": "float"
        },
        {
         "name": "humidity",
         "rawType": "float64",
         "type": "float"
        },
        {
         "name": "smoke",
         "rawType": "float64",
         "type": "float"
        },
        {
         "name": "ir_temperature",
         "rawType": "float64",
         "type": "float"
        }
       ],
       "conversionMethod": "pd.DataFrame",
       "ref": "c02cfaab-cd5a-4d4e-9d04-447314fda9cb",
       "rows": [
        [
         "count",
         "157666.0",
         "157666.0",
         "157666.0",
         "157666.0"
        ],
        [
         "mean",
         "32.39233379422324",
         "79.27000114165388",
         "1504.6864384204584",
         "31.415307823183184"
        ],
        [
         "std",
         "1.4189846436587612",
         "4.760046334719704",
         "165.2383180387661",
         "3.4547421948151893"
        ],
        [
         "min",
         "30.1",
         "11.0",
         "1102.0",
         "20.14999"
        ],
        [
         "25%",
         "31.3",
         "77.0",
         "1409.0",
         "28.77001"
        ],
        [
         "50%",
         "32.2",
         "80.0",
         "1474.0",
         "30.29"
        ],
        [
         "75%",
         "33.3",
         "83.0",
         "1584.0",
         "33.79"
        ],
        [
         "max",
         "40.9",
         "88.0",
         "4095.0",
         "224.15"
        ]
       ],
       "shape": {
        "columns": 4,
        "rows": 8
       }
      },
      "text/html": [
       "<div>\n",
       "<style scoped>\n",
       "    .dataframe tbody tr th:only-of-type {\n",
       "        vertical-align: middle;\n",
       "    }\n",
       "\n",
       "    .dataframe tbody tr th {\n",
       "        vertical-align: top;\n",
       "    }\n",
       "\n",
       "    .dataframe thead th {\n",
       "        text-align: right;\n",
       "    }\n",
       "</style>\n",
       "<table border=\"1\" class=\"dataframe\">\n",
       "  <thead>\n",
       "    <tr style=\"text-align: right;\">\n",
       "      <th></th>\n",
       "      <th>temperature</th>\n",
       "      <th>humidity</th>\n",
       "      <th>smoke</th>\n",
       "      <th>ir_temperature</th>\n",
       "    </tr>\n",
       "  </thead>\n",
       "  <tbody>\n",
       "    <tr>\n",
       "      <th>count</th>\n",
       "      <td>157666.000000</td>\n",
       "      <td>157666.000000</td>\n",
       "      <td>157666.000000</td>\n",
       "      <td>157666.000000</td>\n",
       "    </tr>\n",
       "    <tr>\n",
       "      <th>mean</th>\n",
       "      <td>32.392334</td>\n",
       "      <td>79.270001</td>\n",
       "      <td>1504.686438</td>\n",
       "      <td>31.415308</td>\n",
       "    </tr>\n",
       "    <tr>\n",
       "      <th>std</th>\n",
       "      <td>1.418985</td>\n",
       "      <td>4.760046</td>\n",
       "      <td>165.238318</td>\n",
       "      <td>3.454742</td>\n",
       "    </tr>\n",
       "    <tr>\n",
       "      <th>min</th>\n",
       "      <td>30.100000</td>\n",
       "      <td>11.000000</td>\n",
       "      <td>1102.000000</td>\n",
       "      <td>20.149990</td>\n",
       "    </tr>\n",
       "    <tr>\n",
       "      <th>25%</th>\n",
       "      <td>31.300000</td>\n",
       "      <td>77.000000</td>\n",
       "      <td>1409.000000</td>\n",
       "      <td>28.770010</td>\n",
       "    </tr>\n",
       "    <tr>\n",
       "      <th>50%</th>\n",
       "      <td>32.200000</td>\n",
       "      <td>80.000000</td>\n",
       "      <td>1474.000000</td>\n",
       "      <td>30.290000</td>\n",
       "    </tr>\n",
       "    <tr>\n",
       "      <th>75%</th>\n",
       "      <td>33.300000</td>\n",
       "      <td>83.000000</td>\n",
       "      <td>1584.000000</td>\n",
       "      <td>33.790000</td>\n",
       "    </tr>\n",
       "    <tr>\n",
       "      <th>max</th>\n",
       "      <td>40.900000</td>\n",
       "      <td>88.000000</td>\n",
       "      <td>4095.000000</td>\n",
       "      <td>224.150000</td>\n",
       "    </tr>\n",
       "  </tbody>\n",
       "</table>\n",
       "</div>"
      ],
      "text/plain": [
       "         temperature       humidity          smoke  ir_temperature\n",
       "count  157666.000000  157666.000000  157666.000000   157666.000000\n",
       "mean       32.392334      79.270001    1504.686438       31.415308\n",
       "std         1.418985       4.760046     165.238318        3.454742\n",
       "min        30.100000      11.000000    1102.000000       20.149990\n",
       "25%        31.300000      77.000000    1409.000000       28.770010\n",
       "50%        32.200000      80.000000    1474.000000       30.290000\n",
       "75%        33.300000      83.000000    1584.000000       33.790000\n",
       "max        40.900000      88.000000    4095.000000      224.150000"
      ]
     },
     "execution_count": 74,
     "metadata": {},
     "output_type": "execute_result"
    }
   ],
   "source": [
    "# Generate descriptive statistics\n",
    "df4[numerical_columns].describe()"
   ]
  },
  {
   "cell_type": "markdown",
   "id": "0d5f7f31",
   "metadata": {},
   "source": [
    "## 4. Temporal Pattern Analysis\n",
    "\n",
    "In this section, we'll analyze how sensor readings change over time, looking at both daily patterns and longer-term trends. This will help identify periods of higher wildfire risk and understand the environmental factors that contribute to those risks."
   ]
  },
  {
   "cell_type": "markdown",
   "id": "9a97d256",
   "metadata": {},
   "source": [
    "### 4.1 Sensor Data Time Series Overview\n",
    "\n",
    "First, let's visualize the overall trends in our key sensor readings across the entire dataset period."
   ]
  },
  {
   "cell_type": "markdown",
   "id": "49838711",
   "metadata": {},
   "source": [
    "### 4.2 Daily Patterns Analysis\n",
    "\n",
    "Let's extract the hour of day to analyze daily patterns."
   ]
  },
  {
   "cell_type": "code",
   "execution_count": 75,
   "id": "ed63d76c",
   "metadata": {},
   "outputs": [
    {
     "name": "stdout",
     "output_type": "stream",
     "text": [
      "Original data shape: (157666, 4)\n",
      "Filtered data shape: (64321, 4)\n",
      "\n",
      "Date range in filtered data:\n",
      "Start: 2025-04-25 04:15:00\n",
      "End: 2025-04-25 23:59:57\n"
     ]
    }
   ],
   "source": [
    "# Filter data for dates after April 25, 2025\n",
    "df5 = df4[(df4.index >= '2025-04-25') & (df4.index < '2025-04-26')]\n",
    "\n",
    "# Display basic information about the filtered dataset\n",
    "print(f\"Original data shape: {df4.shape}\")\n",
    "print(f\"Filtered data shape: {df5.shape}\")\n",
    "print(\"\\nDate range in filtered data:\")\n",
    "print(f\"Start: {df5.index.min()}\")\n",
    "print(f\"End: {df5.index.max()}\")"
   ]
  },
  {
   "cell_type": "code",
   "execution_count": 76,
   "id": "ce99dfcd",
   "metadata": {},
   "outputs": [
    {
     "data": {
      "application/vnd.microsoft.datawrangler.viewer.v0+json": {
       "columns": [
        {
         "name": "timestamp",
         "rawType": "datetime64[ns]",
         "type": "datetime"
        },
        {
         "name": "temperature",
         "rawType": "float64",
         "type": "float"
        },
        {
         "name": "humidity",
         "rawType": "int64",
         "type": "integer"
        },
        {
         "name": "smoke",
         "rawType": "int64",
         "type": "integer"
        },
        {
         "name": "ir_temperature",
         "rawType": "float64",
         "type": "float"
        }
       ],
       "conversionMethod": "pd.DataFrame",
       "ref": "6e2a477e-96bc-47b7-acd8-6afebedca420",
       "rows": [
        [
         "2025-04-25 04:15:00",
         "30.7",
         "87",
         "2241",
         "33.86999"
        ],
        [
         "2025-04-25 04:15:01",
         "30.4",
         "87",
         "2235",
         "33.83001"
        ],
        [
         "2025-04-25 04:15:02",
         "30.4",
         "87",
         "2235",
         "33.83001"
        ],
        [
         "2025-04-25 04:15:03",
         "30.6",
         "87",
         "2234",
         "33.91"
        ],
        [
         "2025-04-25 04:15:04",
         "30.6",
         "87",
         "2236",
         "33.83001"
        ],
        [
         "2025-04-25 04:15:05",
         "30.6",
         "86",
         "2231",
         "33.83001"
        ],
        [
         "2025-04-25 04:15:06",
         "30.6",
         "86",
         "2233",
         "33.86999"
        ],
        [
         "2025-04-25 04:15:07",
         "30.2",
         "87",
         "2231",
         "33.83001"
        ],
        [
         "2025-04-25 04:15:09",
         "30.2",
         "87",
         "2224",
         "33.91"
        ],
        [
         "2025-04-25 04:15:10",
         "30.1",
         "86",
         "2223",
         "33.92999"
        ],
        [
         "2025-04-25 04:15:11",
         "30.1",
         "86",
         "2223",
         "33.83001"
        ],
        [
         "2025-04-25 04:15:12",
         "30.1",
         "86",
         "2218",
         "33.70998"
        ],
        [
         "2025-04-25 04:15:13",
         "30.1",
         "86",
         "2205",
         "33.92999"
        ],
        [
         "2025-04-25 04:15:14",
         "30.7",
         "86",
         "2214",
         "33.91"
        ],
        [
         "2025-04-25 04:15:15",
         "30.7",
         "86",
         "2208",
         "34.02999"
        ],
        [
         "2025-04-25 04:15:16",
         "30.9",
         "86",
         "2211",
         "33.95"
        ],
        [
         "2025-04-25 04:15:17",
         "30.9",
         "86",
         "2206",
         "33.77001"
        ],
        [
         "2025-04-25 04:15:18",
         "30.2",
         "86",
         "2203",
         "33.79"
        ],
        [
         "2025-04-25 04:15:19",
         "30.2",
         "86",
         "2202",
         "33.77001"
        ],
        [
         "2025-04-25 04:15:20",
         "30.7",
         "86",
         "2214",
         "33.73"
        ],
        [
         "2025-04-25 04:15:21",
         "30.7",
         "86",
         "2197",
         "33.79"
        ],
        [
         "2025-04-25 04:15:22",
         "30.1",
         "86",
         "2196",
         "33.77001"
        ],
        [
         "2025-04-25 04:15:23",
         "30.1",
         "86",
         "2192",
         "33.91"
        ],
        [
         "2025-04-25 04:15:24",
         "30.6",
         "86",
         "2197",
         "33.77001"
        ],
        [
         "2025-04-25 04:15:25",
         "30.6",
         "86",
         "2189",
         "33.79"
        ],
        [
         "2025-04-25 04:15:26",
         "30.5",
         "86",
         "2184",
         "33.83001"
        ],
        [
         "2025-04-25 04:15:27",
         "30.5",
         "86",
         "2187",
         "33.77001"
        ],
        [
         "2025-04-25 04:15:28",
         "30.3",
         "86",
         "2180",
         "33.73"
        ],
        [
         "2025-04-25 04:15:29",
         "30.3",
         "86",
         "2178",
         "33.86999"
        ],
        [
         "2025-04-25 04:15:30",
         "30.3",
         "86",
         "2176",
         "33.83001"
        ],
        [
         "2025-04-25 04:15:31",
         "30.3",
         "86",
         "2175",
         "33.85"
        ],
        [
         "2025-04-25 04:15:32",
         "30.5",
         "86",
         "2176",
         "33.86999"
        ],
        [
         "2025-04-25 04:15:33",
         "30.5",
         "86",
         "2170",
         "33.79"
        ],
        [
         "2025-04-25 04:15:35",
         "30.4",
         "86",
         "2174",
         "33.85"
        ],
        [
         "2025-04-25 04:15:36",
         "30.4",
         "86",
         "2167",
         "33.86999"
        ],
        [
         "2025-04-25 04:15:37",
         "30.4",
         "86",
         "2173",
         "33.83001"
        ],
        [
         "2025-04-25 04:15:38",
         "30.4",
         "86",
         "2167",
         "33.79"
        ],
        [
         "2025-04-25 04:15:39",
         "30.8",
         "86",
         "2165",
         "33.83001"
        ],
        [
         "2025-04-25 04:15:40",
         "30.8",
         "86",
         "2161",
         "33.79"
        ],
        [
         "2025-04-25 04:15:41",
         "30.5",
         "85",
         "2160",
         "33.83001"
        ],
        [
         "2025-04-25 04:15:42",
         "30.5",
         "85",
         "2160",
         "33.85"
        ],
        [
         "2025-04-25 04:15:43",
         "30.4",
         "85",
         "2158",
         "33.83001"
        ],
        [
         "2025-04-25 04:15:44",
         "30.4",
         "85",
         "2155",
         "33.95"
        ],
        [
         "2025-04-25 04:15:45",
         "30.3",
         "85",
         "2158",
         "33.83001"
        ],
        [
         "2025-04-25 04:15:46",
         "30.3",
         "85",
         "2157",
         "33.85"
        ],
        [
         "2025-04-25 04:15:47",
         "31.9",
         "84",
         "2151",
         "33.91"
        ],
        [
         "2025-04-25 04:15:48",
         "31.9",
         "84",
         "2155",
         "33.85"
        ],
        [
         "2025-04-25 04:15:50",
         "31.4",
         "84",
         "2144",
         "33.85"
        ],
        [
         "2025-04-25 04:15:49",
         "31.4",
         "84",
         "2145",
         "33.86999"
        ],
        [
         "2025-04-25 04:15:52",
         "31.6",
         "85",
         "2138",
         "33.86999"
        ]
       ],
       "shape": {
        "columns": 4,
        "rows": 64321
       }
      },
      "text/html": [
       "<div>\n",
       "<style scoped>\n",
       "    .dataframe tbody tr th:only-of-type {\n",
       "        vertical-align: middle;\n",
       "    }\n",
       "\n",
       "    .dataframe tbody tr th {\n",
       "        vertical-align: top;\n",
       "    }\n",
       "\n",
       "    .dataframe thead th {\n",
       "        text-align: right;\n",
       "    }\n",
       "</style>\n",
       "<table border=\"1\" class=\"dataframe\">\n",
       "  <thead>\n",
       "    <tr style=\"text-align: right;\">\n",
       "      <th></th>\n",
       "      <th>temperature</th>\n",
       "      <th>humidity</th>\n",
       "      <th>smoke</th>\n",
       "      <th>ir_temperature</th>\n",
       "    </tr>\n",
       "    <tr>\n",
       "      <th>timestamp</th>\n",
       "      <th></th>\n",
       "      <th></th>\n",
       "      <th></th>\n",
       "      <th></th>\n",
       "    </tr>\n",
       "  </thead>\n",
       "  <tbody>\n",
       "    <tr>\n",
       "      <th>2025-04-25 04:15:00</th>\n",
       "      <td>30.7</td>\n",
       "      <td>87</td>\n",
       "      <td>2241</td>\n",
       "      <td>33.86999</td>\n",
       "    </tr>\n",
       "    <tr>\n",
       "      <th>2025-04-25 04:15:01</th>\n",
       "      <td>30.4</td>\n",
       "      <td>87</td>\n",
       "      <td>2235</td>\n",
       "      <td>33.83001</td>\n",
       "    </tr>\n",
       "    <tr>\n",
       "      <th>2025-04-25 04:15:02</th>\n",
       "      <td>30.4</td>\n",
       "      <td>87</td>\n",
       "      <td>2235</td>\n",
       "      <td>33.83001</td>\n",
       "    </tr>\n",
       "    <tr>\n",
       "      <th>2025-04-25 04:15:03</th>\n",
       "      <td>30.6</td>\n",
       "      <td>87</td>\n",
       "      <td>2234</td>\n",
       "      <td>33.91000</td>\n",
       "    </tr>\n",
       "    <tr>\n",
       "      <th>2025-04-25 04:15:04</th>\n",
       "      <td>30.6</td>\n",
       "      <td>87</td>\n",
       "      <td>2236</td>\n",
       "      <td>33.83001</td>\n",
       "    </tr>\n",
       "    <tr>\n",
       "      <th>...</th>\n",
       "      <td>...</td>\n",
       "      <td>...</td>\n",
       "      <td>...</td>\n",
       "      <td>...</td>\n",
       "    </tr>\n",
       "    <tr>\n",
       "      <th>2025-04-25 23:59:51</th>\n",
       "      <td>30.9</td>\n",
       "      <td>83</td>\n",
       "      <td>1443</td>\n",
       "      <td>27.86999</td>\n",
       "    </tr>\n",
       "    <tr>\n",
       "      <th>2025-04-25 23:59:54</th>\n",
       "      <td>30.1</td>\n",
       "      <td>83</td>\n",
       "      <td>1443</td>\n",
       "      <td>27.86999</td>\n",
       "    </tr>\n",
       "    <tr>\n",
       "      <th>2025-04-25 23:59:55</th>\n",
       "      <td>30.1</td>\n",
       "      <td>83</td>\n",
       "      <td>1434</td>\n",
       "      <td>27.85000</td>\n",
       "    </tr>\n",
       "    <tr>\n",
       "      <th>2025-04-25 23:59:56</th>\n",
       "      <td>30.3</td>\n",
       "      <td>83</td>\n",
       "      <td>1445</td>\n",
       "      <td>27.86999</td>\n",
       "    </tr>\n",
       "    <tr>\n",
       "      <th>2025-04-25 23:59:57</th>\n",
       "      <td>30.3</td>\n",
       "      <td>83</td>\n",
       "      <td>1443</td>\n",
       "      <td>27.91000</td>\n",
       "    </tr>\n",
       "  </tbody>\n",
       "</table>\n",
       "<p>64321 rows × 4 columns</p>\n",
       "</div>"
      ],
      "text/plain": [
       "                     temperature  humidity  smoke  ir_temperature\n",
       "timestamp                                                        \n",
       "2025-04-25 04:15:00         30.7        87   2241        33.86999\n",
       "2025-04-25 04:15:01         30.4        87   2235        33.83001\n",
       "2025-04-25 04:15:02         30.4        87   2235        33.83001\n",
       "2025-04-25 04:15:03         30.6        87   2234        33.91000\n",
       "2025-04-25 04:15:04         30.6        87   2236        33.83001\n",
       "...                          ...       ...    ...             ...\n",
       "2025-04-25 23:59:51         30.9        83   1443        27.86999\n",
       "2025-04-25 23:59:54         30.1        83   1443        27.86999\n",
       "2025-04-25 23:59:55         30.1        83   1434        27.85000\n",
       "2025-04-25 23:59:56         30.3        83   1445        27.86999\n",
       "2025-04-25 23:59:57         30.3        83   1443        27.91000\n",
       "\n",
       "[64321 rows x 4 columns]"
      ]
     },
     "execution_count": 76,
     "metadata": {},
     "output_type": "execute_result"
    }
   ],
   "source": [
    "df5"
   ]
  },
  {
   "cell_type": "code",
   "execution_count": 77,
   "id": "5f95766e",
   "metadata": {},
   "outputs": [],
   "source": [
    "# Resample data to 5-minute intervals to reduce noise and smooth visualization\n",
    "# This is important for clearer pattern recognition in time series data\n",
    "df5_downsampled = df5.resample('5T').mean()"
   ]
  },
  {
   "cell_type": "markdown",
   "id": "ac8f59e5",
   "metadata": {},
   "source": [
    "### 4.2.1 Individual Sensor Visualizations\n",
    "\n",
    "Below we plot each sensor's readings over the course of April 25, 2025. These visualizations help identify how different environmental factors change throughout the day and may reveal patterns related to wildfire risk."
   ]
  },
  {
   "cell_type": "code",
   "execution_count": 78,
   "id": "3e6248d2",
   "metadata": {},
   "outputs": [
    {
     "data": {
      "image/png": "[encoded data removed]",
      "text/plain": [
       "<Figure size 1400x600 with 1 Axes>"
      ]
     },
     "metadata": {},
     "output_type": "display_data"
    }
   ],
   "source": [
    "# 3. Plot\n",
    "plt.figure(figsize=(14, 6))\n",
    "ax = sns.lineplot(\n",
    "    x=df5_downsampled.index,\n",
    "    y=df5_downsampled['temperature'],\n",
    "    color='orangered',\n",
    "    linewidth=1\n",
    ")\n",
    "ax.xaxis.set_major_formatter(mdates.DateFormatter('%H:%M'))\n",
    "ax.xaxis.set_major_locator(mdates.HourLocator(interval=5))\n",
    "plt.title('Temperature Readings Over Time')\n",
    "plt.xlabel('Hour of Day')\n",
    "plt.ylabel('Temperature (°C)')\n",
    "plt.tight_layout()\n",
    "plt.show()\n"
   ]
  },
  {
   "cell_type": "code",
   "execution_count": 79,
   "id": "e694acf5",
   "metadata": {},
   "outputs": [
    {
     "data": {
      "application/vnd.plotly.v1+json": {
       "config": {
        "plotlyServerURL": "https://plot.ly"
       },
       "data": [
        {
         "hovertemplate": "timestamp=%{x}<br>Temperature (°C)=%{y}<extra></extra>",
         "legendgroup": "",
         "line": {
          "color": "#636efa",
          "dash": "solid"
         },
         "marker": {
          "symbol": "circle"
         },
         "mode": "lines",
         "name": "",
         "orientation": "v",
         "showlegend": false,
         "type": "scatter",
         "x": [
          "2025-04-25T04:15:00.000000000",
          "2025-04-25T04:20:00.000000000",
          "2025-04-25T04:25:00.000000000",
          "2025-04-25T04:30:00.000000000",
          "2025-04-25T04:35:00.000000000",
          "2025-04-25T04:40:00.000000000",
          "2025-04-25T04:45:00.000000000",
          "2025-04-25T04:50:00.000000000",
          "2025-04-25T04:55:00.000000000",
          "2025-04-25T05:00:00.000000000",
          "2025-04-25T05:05:00.000000000",
          "2025-04-25T05:10:00.000000000",
          "2025-04-25T05:15:00.000000000",
          "2025-04-25T05:20:00.000000000",
          "2025-04-25T05:25:00.000000000",
          "2025-04-25T05:30:00.000000000",
          "2025-04-25T05:35:00.000000000",
          "2025-04-25T05:40:00.000000000",
          "2025-04-25T05:45:00.000000000",
          "2025-04-25T05:50:00.000000000",
          "2025-04-25T05:55:00.000000000",
          "2025-04-25T06:00:00.000000000",
          "2025-04-25T06:05:00.000000000",
          "2025-04-25T06:10:00.000000000",
          "2025-04-25T06:15:00.000000000",
          "2025-04-25T06:20:00.000000000",
          "2025-04-25T06:25:00.000000000",
          "2025-04-25T06:30:00.000000000",
          "2025-04-25T06:35:00.000000000",
          "2025-04-25T06:40:00.000000000",
          "2025-04-25T06:45:00.000000000",
          "2025-04-25T06:50:00.000000000",
          "2025-04-25T06:55:00.000000000",
          "2025-04-25T07:00:00.000000000",
          "2025-04-25T07:05:00.000000000",
          "2025-04-25T07:10:00.000000000",
          "2025-04-25T07:15:00.000000000",
          "2025-04-25T07:20:00.000000000",
          "2025-04-25T07:25:00.000000000",
          "2025-04-25T07:30:00.000000000",
          "2025-04-25T07:35:00.000000000",
          "2025-04-25T07:40:00.000000000",
          "2025-04-25T07:45:00.000000000",
          "2025-04-25T07:50:00.000000000",
          "2025-04-25T07:55:00.000000000",
          "2025-04-25T08:00:00.000000000",
          "2025-04-25T08:05:00.000000000",
          "2025-04-25T08:10:00.000000000",
          "2025-04-25T08:15:00.000000000",
          "2025-04-25T08:20:00.000000000",
          "2025-04-25T08:25:00.000000000",
          "2025-04-25T08:30:00.000000000",
          "2025-04-25T08:35:00.000000000",
          "2025-04-25T08:40:00.000000000",
          "2025-04-25T08:45:00.000000000",
          "2025-04-25T08:50:00.000000000",
          "2025-04-25T08:55:00.000000000",
          "2025-04-25T09:00:00.000000000",
          "2025-04-25T09:05:00.000000000",
          "2025-04-25T09:10:00.000000000",
          "2025-04-25T09:15:00.000000000",
          "2025-04-25T09:20:00.000000000",
          "2025-04-25T09:25:00.000000000",
          "2025-04-25T09:30:00.000000000",
          "2025-04-25T09:35:00.000000000",
          "2025-04-25T09:40:00.000000000",
          "2025-04-25T09:45:00.000000000",
          "2025-04-25T09:50:00.000000000",
          "2025-04-25T09:55:00.000000000",
          "2025-04-25T10:00:00.000000000",
          "2025-04-25T10:05:00.000000000",
          "2025-04-25T10:10:00.000000000",
          "2025-04-25T10:15:00.000000000",
          "2025-04-25T10:20:00.000000000",
          "2025-04-25T10:25:00.000000000",
          "2025-04-25T10:30:00.000000000",
          "2025-04-25T10:35:00.000000000",
          "2025-04-25T10:40:00.000000000",
          "2025-04-25T10:45:00.000000000",
          "2025-04-25T10:50:00.000000000",
          "2025-04-25T10:55:00.000000000",
          "2025-04-25T11:00:00.000000000",
          "2025-04-25T11:05:00.000000000",
          "2025-04-25T11:10:00.000000000",
          "2025-04-25T11:15:00.000000000",
          "2025-04-25T11:20:00.000000000",
          "2025-04-25T11:25:00.000000000",
          "2025-04-25T11:30:00.000000000",
          "2025-04-25T11:35:00.000000000",
          "2025-04-25T11:40:00.000000000",
          "2025-04-25T11:45:00.000000000",
          "2025-04-25T11:50:00.000000000",
          "2025-04-25T11:55:00.000000000",
          "2025-04-25T12:00:00.000000000",
          "2025-04-25T12:05:00.000000000",
          "2025-04-25T12:10:00.000000000",
          "2025-04-25T12:15:00.000000000",
          "2025-04-25T12:20:00.000000000",
          "2025-04-25T12:25:00.000000000",
          "2025-04-25T12:30:00.000000000",
          "2025-04-25T12:35:00.000000000",
          "2025-04-25T12:40:00.000000000",
          "2025-04-25T12:45:00.000000000",
          "2025-04-25T12:50:00.000000000",
          "2025-04-25T12:55:00.000000000",
          "2025-04-25T13:00:00.000000000",
          "2025-04-25T13:05:00.000000000",
          "2025-04-25T13:10:00.000000000",
          "2025-04-25T13:15:00.000000000",
          "2025-04-25T13:20:00.000000000",
          "2025-04-25T13:25:00.000000000",
          "2025-04-25T13:30:00.000000000",
          "2025-04-25T13:35:00.000000000",
          "2025-04-25T13:40:00.000000000",
          "2025-04-25T13:45:00.000000000",
          "2025-04-25T13:50:00.000000000",
          "2025-04-25T13:55:00.000000000",
          "2025-04-25T14:00:00.000000000",
          "2025-04-25T14:05:00.000000000",
          "2025-04-25T14:10:00.000000000",
          "2025-04-25T14:15:00.000000000",
          "2025-04-25T14:20:00.000000000",
          "2025-04-25T14:25:00.000000000",
          "2025-04-25T14:30:00.000000000",
          "2025-04-25T14:35:00.000000000",
          "2025-04-25T14:40:00.000000000",
          "2025-04-25T14:45:00.000000000",
          "2025-04-25T14:50:00.000000000",
          "2025-04-25T14:55:00.000000000",
          "2025-04-25T15:00:00.000000000",
          "2025-04-25T15:05:00.000000000",
          "2025-04-25T15:10:00.000000000",
          "2025-04-25T15:15:00.000000000",
          "2025-04-25T15:20:00.000000000",
          "2025-04-25T15:25:00.000000000",
          "2025-04-25T15:30:00.000000000",
          "2025-04-25T15:35:00.000000000",
          "2025-04-25T15:40:00.000000000",
          "2025-04-25T15:45:00.000000000",
          "2025-04-25T15:50:00.000000000",
          "2025-04-25T15:55:00.000000000",
          "2025-04-25T16:00:00.000000000",
          "2025-04-25T16:05:00.000000000",
          "2025-04-25T16:10:00.000000000",
          "2025-04-25T16:15:00.000000000",
          "2025-04-25T16:20:00.000000000",
          "2025-04-25T16:25:00.000000000",
          "2025-04-25T16:30:00.000000000",
          "2025-04-25T16:35:00.000000000",
          "2025-04-25T16:40:00.000000000",
          "2025-04-25T16:45:00.000000000",
          "2025-04-25T16:50:00.000000000",
          "2025-04-25T16:55:00.000000000",
          "2025-04-25T17:00:00.000000000",
          "2025-04-25T17:05:00.000000000",
          "2025-04-25T17:10:00.000000000",
          "2025-04-25T17:15:00.000000000",
          "2025-04-25T17:20:00.000000000",
          "2025-04-25T17:25:00.000000000",
          "2025-04-25T17:30:00.000000000",
          "2025-04-25T17:35:00.000000000",
          "2025-04-25T17:40:00.000000000",
          "2025-04-25T17:45:00.000000000",
          "2025-04-25T17:50:00.000000000",
          "2025-04-25T17:55:00.000000000",
          "2025-04-25T18:00:00.000000000",
          "2025-04-25T18:05:00.000000000",
          "2025-04-25T18:10:00.000000000",
          "2025-04-25T18:15:00.000000000",
          "2025-04-25T18:20:00.000000000",
          "2025-04-25T18:25:00.000000000",
          "2025-04-25T18:30:00.000000000",
          "2025-04-25T18:35:00.000000000",
          "2025-04-25T18:40:00.000000000",
          "2025-04-25T18:45:00.000000000",
          "2025-04-25T18:50:00.000000000",
          "2025-04-25T18:55:00.000000000",
          "2025-04-25T19:00:00.000000000",
          "2025-04-25T19:05:00.000000000",
          "2025-04-25T19:10:00.000000000",
          "2025-04-25T19:15:00.000000000",
          "2025-04-25T19:20:00.000000000",
          "2025-04-25T19:25:00.000000000",
          "2025-04-25T19:30:00.000000000",
          "2025-04-25T19:35:00.000000000",
          "2025-04-25T19:40:00.000000000",
          "2025-04-25T19:45:00.000000000",
          "2025-04-25T19:50:00.000000000",
          "2025-04-25T19:55:00.000000000",
          "2025-04-25T20:00:00.000000000",
          "2025-04-25T20:05:00.000000000",
          "2025-04-25T20:10:00.000000000",
          "2025-04-25T20:15:00.000000000",
          "2025-04-25T20:20:00.000000000",
          "2025-04-25T20:25:00.000000000",
          "2025-04-25T20:30:00.000000000",
          "2025-04-25T20:35:00.000000000",
          "2025-04-25T20:40:00.000000000",
          "2025-04-25T20:45:00.000000000",
          "2025-04-25T20:50:00.000000000",
          "2025-04-25T20:55:00.000000000",
          "2025-04-25T21:00:00.000000000",
          "2025-04-25T21:05:00.000000000",
          "2025-04-25T21:10:00.000000000",
          "2025-04-25T21:15:00.000000000",
          "2025-04-25T21:20:00.000000000",
          "2025-04-25T21:25:00.000000000",
          "2025-04-25T21:30:00.000000000",
          "2025-04-25T21:35:00.000000000",
          "2025-04-25T21:40:00.000000000",
          "2025-04-25T21:45:00.000000000",
          "2025-04-25T21:50:00.000000000",
          "2025-04-25T21:55:00.000000000",
          "2025-04-25T22:00:00.000000000",
          "2025-04-25T22:05:00.000000000",
          "2025-04-25T22:10:00.000000000",
          "2025-04-25T22:15:00.000000000",
          "2025-04-25T22:20:00.000000000",
          "2025-04-25T22:25:00.000000000",
          "2025-04-25T22:30:00.000000000",
          "2025-04-25T22:35:00.000000000",
          "2025-04-25T22:40:00.000000000",
          "2025-04-25T22:45:00.000000000",
          "2025-04-25T22:50:00.000000000",
          "2025-04-25T22:55:00.000000000",
          "2025-04-25T23:00:00.000000000",
          "2025-04-25T23:05:00.000000000",
          "2025-04-25T23:10:00.000000000",
          "2025-04-25T23:15:00.000000000",
          "2025-04-25T23:20:00.000000000",
          "2025-04-25T23:25:00.000000000",
          "2025-04-25T23:30:00.000000000",
          "2025-04-25T23:35:00.000000000",
          "2025-04-25T23:40:00.000000000",
          "2025-04-25T23:45:00.000000000",
          "2025-04-25T23:50:00.000000000",
          "2025-04-25T23:55:00.000000000"
         ],
         "xaxis": "x",
         "y": {
          "bdata": "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",
          "dtype": "f8"
         },
         "yaxis": "y"
        }
       ],
       "layout": {
        "legend": {
         "tracegroupgap": 0
        },
        "template": {
         "data": {
          "bar": [
           {
            "error_x": {
             "color": "#2a3f5f"
            },
            "error_y": {
             "color": "#2a3f5f"
            },
            "marker": {
             "line": {
              "color": "#E5ECF6",
              "width": 0.5
             },
             "pattern": {
              "fillmode": "overlay",
              "size": 10,
              "solidity": 0.2
             }
            },
            "type": "bar"
           }
          ],
          "barpolar": [
           {
            "marker": {
             "line": {
              "color": "#E5ECF6",
              "width": 0.5
             },
             "pattern": {
              "fillmode": "overlay",
              "size": 10,
              "solidity": 0.2
             }
            },
            "type": "barpolar"
           }
          ],
          "carpet": [
           {
            "aaxis": {
             "endlinecolor": "#2a3f5f",
             "gridcolor": "white",
             "linecolor": "white",
             "minorgridcolor": "white",
             "startlinecolor": "#2a3f5f"
            },
            "baxis": {
             "endlinecolor": "#2a3f5f",
             "gridcolor": "white",
             "linecolor": "white",
             "minorgridcolor": "white",
             "startlinecolor": "#2a3f5f"
            },
            "type": "carpet"
           }
          ],
          "choropleth": [
           {
            "colorbar": {
             "outlinewidth": 0,
             "ticks": ""
            },
            "type": "choropleth"
           }
          ],
          "contour": [
           {
            "colorbar": {
             "outlinewidth": 0,
             "ticks": ""
            },
            "colorscale": [
             [
              0,
              "#0d0887"
             ],
             [
              0.1111111111111111,
              "#46039f"
             ],
             [
              0.2222222222222222,
              "#7201a8"
             ],
             [
              0.3333333333333333,
              "#9c179e"
             ],
             [
              0.4444444444444444,
              "#bd3786"
             ],
             [
              0.5555555555555556,
              "#d8576b"
             ],
             [
              0.6666666666666666,
              "#ed7953"
             ],
             [
              0.7777777777777778,
              "#fb9f3a"
             ],
             [
              0.8888888888888888,
              "#fdca26"
             ],
             [
              1,
              "#f0f921"
             ]
            ],
            "type": "contour"
           }
          ],
          "contourcarpet": [
           {
            "colorbar": {
             "outlinewidth": 0,
             "ticks": ""
            },
            "type": "contourcarpet"
           }
          ],
          "heatmap": [
           {
            "colorbar": {
             "outlinewidth": 0,
             "ticks": ""
            },
            "colorscale": [
             [
              0,
              "#0d0887"
             ],
             [
              0.1111111111111111,
              "#46039f"
             ],
             [
              0.2222222222222222,
              "#7201a8"
             ],
             [
              0.3333333333333333,
              "#9c179e"
             ],
             [
              0.4444444444444444,
              "#bd3786"
             ],
             [
              0.5555555555555556,
              "#d8576b"
             ],
             [
              0.6666666666666666,
              "#ed7953"
             ],
             [
              0.7777777777777778,
              "#fb9f3a"
             ],
             [
              0.8888888888888888,
              "#fdca26"
             ],
             [
              1,
              "#f0f921"
             ]
            ],
            "type": "heatmap"
           }
          ],
          "histogram": [
           {
            "marker": {
             "pattern": {
              "fillmode": "overlay",
              "size": 10,
              "solidity": 0.2
             }
            },
            "type": "histogram"
           }
          ],
          "histogram2d": [
           {
            "colorbar": {
             "outlinewidth": 0,
             "ticks": ""
            },
            "colorscale": [
             [
              0,
              "#0d0887"
             ],
             [
              0.1111111111111111,
              "#46039f"
             ],
             [
              0.2222222222222222,
              "#7201a8"
             ],
             [
              0.3333333333333333,
              "#9c179e"
             ],
             [
              0.4444444444444444,
              "#bd3786"
             ],
             [
              0.5555555555555556,
              "#d8576b"
             ],
             [
              0.6666666666666666,
              "#ed7953"
             ],
             [
              0.7777777777777778,
              "#fb9f3a"
             ],
             [
              0.8888888888888888,
              "#fdca26"
             ],
             [
              1,
              "#f0f921"
             ]
            ],
            "type": "histogram2d"
           }
          ],
          "histogram2dcontour": [
           {
            "colorbar": {
             "outlinewidth": 0,
             "ticks": ""
            },
            "colorscale": [
             [
              0,
              "#0d0887"
             ],
             [
              0.1111111111111111,
              "#46039f"
             ],
             [
              0.2222222222222222,
              "#7201a8"
             ],
             [
              0.3333333333333333,
              "#9c179e"
             ],
             [
              0.4444444444444444,
              "#bd3786"
             ],
             [
              0.5555555555555556,
              "#d8576b"
             ],
             [
              0.6666666666666666,
              "#ed7953"
             ],
             [
              0.7777777777777778,
              "#fb9f3a"
             ],
             [
              0.8888888888888888,
              "#fdca26"
             ],
             [
              1,
              "#f0f921"
             ]
            ],
            "type": "histogram2dcontour"
           }
          ],
          "mesh3d": [
           {
            "colorbar": {
             "outlinewidth": 0,
             "ticks": ""
            },
            "type": "mesh3d"
           }
          ],
          "parcoords": [
           {
            "line": {
             "colorbar": {
              "outlinewidth": 0,
              "ticks": ""
             }
            },
            "type": "parcoords"
           }
          ],
          "pie": [
           {
            "automargin": true,
            "type": "pie"
           }
          ],
          "scatter": [
           {
            "fillpattern": {
             "fillmode": "overlay",
             "size": 10,
             "solidity": 0.2
            },
            "type": "scatter"
           }
          ],
          "scatter3d": [
           {
            "line": {
             "colorbar": {
              "outlinewidth": 0,
              "ticks": ""
             }
            },
            "marker": {
             "colorbar": {
              "outlinewidth": 0,
              "ticks": ""
             }
            },
            "type": "scatter3d"
           }
          ],
          "scattercarpet": [
           {
            "marker": {
             "colorbar": {
              "outlinewidth": 0,
              "ticks": ""
             }
            },
            "type": "scattercarpet"
           }
          ],
          "scattergeo": [
           {
            "marker": {
             "colorbar": {
              "outlinewidth": 0,
              "ticks": ""
             }
            },
            "type": "scattergeo"
           }
          ],
          "scattergl": [
           {
            "marker": {
             "colorbar": {
              "outlinewidth": 0,
              "ticks": ""
             }
            },
            "type": "scattergl"
           }
          ],
          "scattermap": [
           {
            "marker": {
             "colorbar": {
              "outlinewidth": 0,
              "ticks": ""
             }
            },
            "type": "scattermap"
           }
          ],
          "scattermapbox": [
           {
            "marker": {
             "colorbar": {
              "outlinewidth": 0,
              "ticks": ""
             }
            },
            "type": "scattermapbox"
           }
          ],
          "scatterpolar": [
           {
            "marker": {
             "colorbar": {
              "outlinewidth": 0,
              "ticks": ""
             }
            },
            "type": "scatterpolar"
           }
          ],
          "scatterpolargl": [
           {
            "marker": {
             "colorbar": {
              "outlinewidth": 0,
              "ticks": ""
             }
            },
            "type": "scatterpolargl"
           }
          ],
          "scatterternary": [
           {
            "marker": {
             "colorbar": {
              "outlinewidth": 0,
              "ticks": ""
             }
            },
            "type": "scatterternary"
           }
          ],
          "surface": [
           {
            "colorbar": {
             "outlinewidth": 0,
             "ticks": ""
            },
            "colorscale": [
             [
              0,
              "#0d0887"
             ],
             [
              0.1111111111111111,
              "#46039f"
             ],
             [
              0.2222222222222222,
              "#7201a8"
             ],
             [
              0.3333333333333333,
              "#9c179e"
             ],
             [
              0.4444444444444444,
              "#bd3786"
             ],
             [
              0.5555555555555556,
              "#d8576b"
             ],
             [
              0.6666666666666666,
              "#ed7953"
             ],
             [
              0.7777777777777778,
              "#fb9f3a"
             ],
             [
              0.8888888888888888,
              "#fdca26"
             ],
             [
              1,
              "#f0f921"
             ]
            ],
            "type": "surface"
           }
          ],
          "table": [
           {
            "cells": {
             "fill": {
              "color": "#EBF0F8"
             },
             "line": {
              "color": "white"
             }
            },
            "header": {
             "fill": {
              "color": "#C8D4E3"
             },
             "line": {
              "color": "white"
             }
            },
            "type": "table"
           }
          ]
         },
         "layout": {
          "annotationdefaults": {
           "arrowcolor": "#2a3f5f",
           "arrowhead": 0,
           "arrowwidth": 1
          },
          "autotypenumbers": "strict",
          "coloraxis": {
           "colorbar": {
            "outlinewidth": 0,
            "ticks": ""
           }
          },
          "colorscale": {
           "diverging": [
            [
             0,
             "#8e0152"
            ],
            [
             0.1,
             "#c51b7d"
            ],
            [
             0.2,
             "#de77ae"
            ],
            [
             0.3,
             "#f1b6da"
            ],
            [
             0.4,
             "#fde0ef"
            ],
            [
             0.5,
             "#f7f7f7"
            ],
            [
             0.6,
             "#e6f5d0"
            ],
            [
             0.7,
             "#b8e186"
            ],
            [
             0.8,
             "#7fbc41"
            ],
            [
             0.9,
             "#4d9221"
            ],
            [
             1,
             "#276419"
            ]
           ],
           "sequential": [
            [
             0,
             "#0d0887"
            ],
            [
             0.1111111111111111,
             "#46039f"
            ],
            [
             0.2222222222222222,
             "#7201a8"
            ],
            [
             0.3333333333333333,
             "#9c179e"
            ],
            [
             0.4444444444444444,
             "#bd3786"
            ],
            [
             0.5555555555555556,
             "#d8576b"
            ],
            [
             0.6666666666666666,
             "#ed7953"
            ],
            [
             0.7777777777777778,
             "#fb9f3a"
            ],
            [
             0.8888888888888888,
             "#fdca26"
            ],
            [
             1,
             "#f0f921"
            ]
           ],
           "sequentialminus": [
            [
             0,
             "#0d0887"
            ],
            [
             0.1111111111111111,
             "#46039f"
            ],
            [
             0.2222222222222222,
             "#7201a8"
            ],
            [
             0.3333333333333333,
             "#9c179e"
            ],
            [
             0.4444444444444444,
             "#bd3786"
            ],
            [
             0.5555555555555556,
             "#d8576b"
            ],
            [
             0.6666666666666666,
             "#ed7953"
            ],
            [
             0.7777777777777778,
             "#fb9f3a"
            ],
            [
             0.8888888888888888,
             "#fdca26"
            ],
            [
             1,
             "#f0f921"
            ]
           ]
          },
          "colorway": [
           "#636efa",
           "#EF553B",
           "#00cc96",
           "#ab63fa",
           "#FFA15A",
           "#19d3f3",
           "#FF6692",
           "#B6E880",
           "#FF97FF",
           "#FECB52"
          ],
          "font": {
           "color": "#2a3f5f"
          },
          "geo": {
           "bgcolor": "white",
           "lakecolor": "white",
           "landcolor": "#E5ECF6",
           "showlakes": true,
           "showland": true,
           "subunitcolor": "white"
          },
          "hoverlabel": {
           "align": "left"
          },
          "hovermode": "closest",
          "mapbox": {
           "style": "light"
          },
          "paper_bgcolor": "white",
          "plot_bgcolor": "#E5ECF6",
          "polar": {
           "angularaxis": {
            "gridcolor": "white",
            "linecolor": "white",
            "ticks": ""
           },
           "bgcolor": "#E5ECF6",
           "radialaxis": {
            "gridcolor": "white",
            "linecolor": "white",
            "ticks": ""
           }
          },
          "scene": {
           "xaxis": {
            "backgroundcolor": "#E5ECF6",
            "gridcolor": "white",
            "gridwidth": 2,
            "linecolor": "white",
            "showbackground": true,
            "ticks": "",
            "zerolinecolor": "white"
           },
           "yaxis": {
            "backgroundcolor": "#E5ECF6",
            "gridcolor": "white",
            "gridwidth": 2,
            "linecolor": "white",
            "showbackground": true,
            "ticks": "",
            "zerolinecolor": "white"
           },
           "zaxis": {
            "backgroundcolor": "#E5ECF6",
            "gridcolor": "white",
            "gridwidth": 2,
            "linecolor": "white",
            "showbackground": true,
            "ticks": "",
            "zerolinecolor": "white"
           }
          },
          "shapedefaults": {
           "line": {
            "color": "#2a3f5f"
           }
          },
          "ternary": {
           "aaxis": {
            "gridcolor": "white",
            "linecolor": "white",
            "ticks": ""
           },
           "baxis": {
            "gridcolor": "white",
            "linecolor": "white",
            "ticks": ""
           },
           "bgcolor": "#E5ECF6",
           "caxis": {
            "gridcolor": "white",
            "linecolor": "white",
            "ticks": ""
           }
          },
          "title": {
           "x": 0.05
          },
          "xaxis": {
           "automargin": true,
           "gridcolor": "white",
           "linecolor": "white",
           "ticks": "",
           "title": {
            "standoff": 15
           },
           "zerolinecolor": "white",
           "zerolinewidth": 2
          },
          "yaxis": {
           "automargin": true,
           "gridcolor": "white",
           "linecolor": "white",
           "ticks": "",
           "title": {
            "standoff": 15
           },
           "zerolinecolor": "white",
           "zerolinewidth": 2
          }
         }
        },
        "title": {
         "text": "Temperature Readings Over Time"
        },
        "xaxis": {
         "anchor": "y",
         "domain": [
          0,
          1
         ],
         "title": {
          "text": "timestamp"
         }
        },
        "yaxis": {
         "anchor": "x",
         "domain": [
          0,
          1
         ],
         "title": {
          "text": "Temperature (°C)"
         }
        }
       }
      }
     },
     "metadata": {},
     "output_type": "display_data"
    }
   ],
   "source": [
    "fig = px.line(\n",
    "    df5_downsampled,\n",
    "    x=df5_downsampled.index,\n",
    "    y=\"temperature\",\n",
    "    labels={\"temperature\": \"Temperature (°C)\", \"index\": \"Time\"},\n",
    "    title=\"Temperature Readings Over Time\"\n",
    ")\n",
    "fig.show()"
   ]
  },
  {
   "cell_type": "code",
   "execution_count": 80,
   "id": "f757ac92",
   "metadata": {},
   "outputs": [
    {
     "data": {
      "application/vnd.plotly.v1+json": {
       "config": {
        "plotlyServerURL": "https://plot.ly"
       },
       "data": [
        {
         "hovertemplate": "timestamp=%{x}<br>Smoke (°C)=%{y}<extra></extra>",
         "legendgroup": "",
         "line": {
          "color": "#636efa",
          "dash": "solid"
         },
         "marker": {
          "symbol": "circle"
         },
         "mode": "lines",
         "name": "",
         "orientation": "v",
         "showlegend": false,
         "type": "scatter",
         "x": [
          "2025-04-25T04:15:00.000000000",
          "2025-04-25T04:20:00.000000000",
          "2025-04-25T04:25:00.000000000",
          "2025-04-25T04:30:00.000000000",
          "2025-04-25T04:35:00.000000000",
          "2025-04-25T04:40:00.000000000",
          "2025-04-25T04:45:00.000000000",
          "2025-04-25T04:50:00.000000000",
          "2025-04-25T04:55:00.000000000",
          "2025-04-25T05:00:00.000000000",
          "2025-04-25T05:05:00.000000000",
          "2025-04-25T05:10:00.000000000",
          "2025-04-25T05:15:00.000000000",
          "2025-04-25T05:20:00.000000000",
          "2025-04-25T05:25:00.000000000",
          "2025-04-25T05:30:00.000000000",
          "2025-04-25T05:35:00.000000000",
          "2025-04-25T05:40:00.000000000",
          "2025-04-25T05:45:00.000000000",
          "2025-04-25T05:50:00.000000000",
          "2025-04-25T05:55:00.000000000",
          "2025-04-25T06:00:00.000000000",
          "2025-04-25T06:05:00.000000000",
          "2025-04-25T06:10:00.000000000",
          "2025-04-25T06:15:00.000000000",
          "2025-04-25T06:20:00.000000000",
          "2025-04-25T06:25:00.000000000",
          "2025-04-25T06:30:00.000000000",
          "2025-04-25T06:35:00.000000000",
          "2025-04-25T06:40:00.000000000",
          "2025-04-25T06:45:00.000000000",
          "2025-04-25T06:50:00.000000000",
          "2025-04-25T06:55:00.000000000",
          "2025-04-25T07:00:00.000000000",
          "2025-04-25T07:05:00.000000000",
          "2025-04-25T07:10:00.000000000",
          "2025-04-25T07:15:00.000000000",
          "2025-04-25T07:20:00.000000000",
          "2025-04-25T07:25:00.000000000",
          "2025-04-25T07:30:00.000000000",
          "2025-04-25T07:35:00.000000000",
          "2025-04-25T07:40:00.000000000",
          "2025-04-25T07:45:00.000000000",
          "2025-04-25T07:50:00.000000000",
          "2025-04-25T07:55:00.000000000",
          "2025-04-25T08:00:00.000000000",
          "2025-04-25T08:05:00.000000000",
          "2025-04-25T08:10:00.000000000",
          "2025-04-25T08:15:00.000000000",
          "2025-04-25T08:20:00.000000000",
          "2025-04-25T08:25:00.000000000",
          "2025-04-25T08:30:00.000000000",
          "2025-04-25T08:35:00.000000000",
          "2025-04-25T08:40:00.000000000",
          "2025-04-25T08:45:00.000000000",
          "2025-04-25T08:50:00.000000000",
          "2025-04-25T08:55:00.000000000",
          "2025-04-25T09:00:00.000000000",
          "2025-04-25T09:05:00.000000000",
          "2025-04-25T09:10:00.000000000",
          "2025-04-25T09:15:00.000000000",
          "2025-04-25T09:20:00.000000000",
          "2025-04-25T09:25:00.000000000",
          "2025-04-25T09:30:00.000000000",
          "2025-04-25T09:35:00.000000000",
          "2025-04-25T09:40:00.000000000",
          "2025-04-25T09:45:00.000000000",
          "2025-04-25T09:50:00.000000000",
          "2025-04-25T09:55:00.000000000",
          "2025-04-25T10:00:00.000000000",
          "2025-04-25T10:05:00.000000000",
          "2025-04-25T10:10:00.000000000",
          "2025-04-25T10:15:00.000000000",
          "2025-04-25T10:20:00.000000000",
          "2025-04-25T10:25:00.000000000",
          "2025-04-25T10:30:00.000000000",
          "2025-04-25T10:35:00.000000000",
          "2025-04-25T10:40:00.000000000",
          "2025-04-25T10:45:00.000000000",
          "2025-04-25T10:50:00.000000000",
          "2025-04-25T10:55:00.000000000",
          "2025-04-25T11:00:00.000000000",
          "2025-04-25T11:05:00.000000000",
          "2025-04-25T11:10:00.000000000",
          "2025-04-25T11:15:00.000000000",
          "2025-04-25T11:20:00.000000000",
          "2025-04-25T11:25:00.000000000",
          "2025-04-25T11:30:00.000000000",
          "2025-04-25T11:35:00.000000000",
          "2025-04-25T11:40:00.000000000",
          "2025-04-25T11:45:00.000000000",
          "2025-04-25T11:50:00.000000000",
          "2025-04-25T11:55:00.000000000",
          "2025-04-25T12:00:00.000000000",
          "2025-04-25T12:05:00.000000000",
          "2025-04-25T12:10:00.000000000",
          "2025-04-25T12:15:00.000000000",
          "2025-04-25T12:20:00.000000000",
          "2025-04-25T12:25:00.000000000",
          "2025-04-25T12:30:00.000000000",
          "2025-04-25T12:35:00.000000000",
          "2025-04-25T12:40:00.000000000",
          "2025-04-25T12:45:00.000000000",
          "2025-04-25T12:50:00.000000000",
          "2025-04-25T12:55:00.000000000",
          "2025-04-25T13:00:00.000000000",
          "2025-04-25T13:05:00.000000000",
          "2025-04-25T13:10:00.000000000",
          "2025-04-25T13:15:00.000000000",
          "2025-04-25T13:20:00.000000000",
          "2025-04-25T13:25:00.000000000",
          "2025-04-25T13:30:00.000000000",
          "2025-04-25T13:35:00.000000000",
          "2025-04-25T13:40:00.000000000",
          "2025-04-25T13:45:00.000000000",
          "2025-04-25T13:50:00.000000000",
          "2025-04-25T13:55:00.000000000",
          "2025-04-25T14:00:00.000000000",
          "2025-04-25T14:05:00.000000000",
          "2025-04-25T14:10:00.000000000",
          "2025-04-25T14:15:00.000000000",
          "2025-04-25T14:20:00.000000000",
          "2025-04-25T14:25:00.000000000",
          "2025-04-25T14:30:00.000000000",
          "2025-04-25T14:35:00.000000000",
          "2025-04-25T14:40:00.000000000",
          "2025-04-25T14:45:00.000000000",
          "2025-04-25T14:50:00.000000000",
          "2025-04-25T14:55:00.000000000",
          "2025-04-25T15:00:00.000000000",
          "2025-04-25T15:05:00.000000000",
          "2025-04-25T15:10:00.000000000",
          "2025-04-25T15:15:00.000000000",
          "2025-04-25T15:20:00.000000000",
          "2025-04-25T15:25:00.000000000",
          "2025-04-25T15:30:00.000000000",
          "2025-04-25T15:35:00.000000000",
          "2025-04-25T15:40:00.000000000",
          "2025-04-25T15:45:00.000000000",
          "2025-04-25T15:50:00.000000000",
          "2025-04-25T15:55:00.000000000",
          "2025-04-25T16:00:00.000000000",
          "2025-04-25T16:05:00.000000000",
          "2025-04-25T16:10:00.000000000",
          "2025-04-25T16:15:00.000000000",
          "2025-04-25T16:20:00.000000000",
          "2025-04-25T16:25:00.000000000",
          "2025-04-25T16:30:00.000000000",
          "2025-04-25T16:35:00.000000000",
          "2025-04-25T16:40:00.000000000",
          "2025-04-25T16:45:00.000000000",
          "2025-04-25T16:50:00.000000000",
          "2025-04-25T16:55:00.000000000",
          "2025-04-25T17:00:00.000000000",
          "2025-04-25T17:05:00.000000000",
          "2025-04-25T17:10:00.000000000",
          "2025-04-25T17:15:00.000000000",
          "2025-04-25T17:20:00.000000000",
          "2025-04-25T17:25:00.000000000",
          "2025-04-25T17:30:00.000000000",
          "2025-04-25T17:35:00.000000000",
          "2025-04-25T17:40:00.000000000",
          "2025-04-25T17:45:00.000000000",
          "2025-04-25T17:50:00.000000000",
          "2025-04-25T17:55:00.000000000",
          "2025-04-25T18:00:00.000000000",
          "2025-04-25T18:05:00.000000000",
          "2025-04-25T18:10:00.000000000",
          "2025-04-25T18:15:00.000000000",
          "2025-04-25T18:20:00.000000000",
          "2025-04-25T18:25:00.000000000",
          "2025-04-25T18:30:00.000000000",
          "2025-04-25T18:35:00.000000000",
          "2025-04-25T18:40:00.000000000",
          "2025-04-25T18:45:00.000000000",
          "2025-04-25T18:50:00.000000000",
          "2025-04-25T18:55:00.000000000",
          "2025-04-25T19:00:00.000000000",
          "2025-04-25T19:05:00.000000000",
          "2025-04-25T19:10:00.000000000",
          "2025-04-25T19:15:00.000000000",
          "2025-04-25T19:20:00.000000000",
          "2025-04-25T19:25:00.000000000",
          "2025-04-25T19:30:00.000000000",
          "2025-04-25T19:35:00.000000000",
          "2025-04-25T19:40:00.000000000",
          "2025-04-25T19:45:00.000000000",
          "2025-04-25T19:50:00.000000000",
          "2025-04-25T19:55:00.000000000",
          "2025-04-25T20:00:00.000000000",
          "2025-04-25T20:05:00.000000000",
          "2025-04-25T20:10:00.000000000",
          "2025-04-25T20:15:00.000000000",
          "2025-04-25T20:20:00.000000000",
          "2025-04-25T20:25:00.000000000",
          "2025-04-25T20:30:00.000000000",
          "2025-04-25T20:35:00.000000000",
          "2025-04-25T20:40:00.000000000",
          "2025-04-25T20:45:00.000000000",
          "2025-04-25T20:50:00.000000000",
          "2025-04-25T20:55:00.000000000",
          "2025-04-25T21:00:00.000000000",
          "2025-04-25T21:05:00.000000000",
          "2025-04-25T21:10:00.000000000",
          "2025-04-25T21:15:00.000000000",
          "2025-04-25T21:20:00.000000000",
          "2025-04-25T21:25:00.000000000",
          "2025-04-25T21:30:00.000000000",
          "2025-04-25T21:35:00.000000000",
          "2025-04-25T21:40:00.000000000",
          "2025-04-25T21:45:00.000000000",
          "2025-04-25T21:50:00.000000000",
          "2025-04-25T21:55:00.000000000",
          "2025-04-25T22:00:00.000000000",
          "2025-04-25T22:05:00.000000000",
          "2025-04-25T22:10:00.000000000",
          "2025-04-25T22:15:00.000000000",
          "2025-04-25T22:20:00.000000000",
          "2025-04-25T22:25:00.000000000",
          "2025-04-25T22:30:00.000000000",
          "2025-04-25T22:35:00.000000000",
          "2025-04-25T22:40:00.000000000",
          "2025-04-25T22:45:00.000000000",
          "2025-04-25T22:50:00.000000000",
          "2025-04-25T22:55:00.000000000",
          "2025-04-25T23:00:00.000000000",
          "2025-04-25T23:05:00.000000000",
          "2025-04-25T23:10:00.000000000",
          "2025-04-25T23:15:00.000000000",
          "2025-04-25T23:20:00.000000000",
          "2025-04-25T23:25:00.000000000",
          "2025-04-25T23:30:00.000000000",
          "2025-04-25T23:35:00.000000000",
          "2025-04-25T23:40:00.000000000",
          "2025-04-25T23:45:00.000000000",
          "2025-04-25T23:50:00.000000000",
          "2025-04-25T23:55:00.000000000"
         ],
         "xaxis": "x",
         "y": {
          "bdata": "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",
          "dtype": "f8"
         },
         "yaxis": "y"
        }
       ],
       "layout": {
        "legend": {
         "tracegroupgap": 0
        },
        "template": {
         "data": {
          "bar": [
           {
            "error_x": {
             "color": "#2a3f5f"
            },
            "error_y": {
             "color": "#2a3f5f"
            },
            "marker": {
             "line": {
              "color": "#E5ECF6",
              "width": 0.5
             },
             "pattern": {
              "fillmode": "overlay",
              "size": 10,
              "solidity": 0.2
             }
            },
            "type": "bar"
           }
          ],
          "barpolar": [
           {
            "marker": {
             "line": {
              "color": "#E5ECF6",
              "width": 0.5
             },
             "pattern": {
              "fillmode": "overlay",
              "size": 10,
              "solidity": 0.2
             }
            },
            "type": "barpolar"
           }
          ],
          "carpet": [
           {
            "aaxis": {
             "endlinecolor": "#2a3f5f",
             "gridcolor": "white",
             "linecolor": "white",
             "minorgridcolor": "white",
             "startlinecolor": "#2a3f5f"
            },
            "baxis": {
             "endlinecolor": "#2a3f5f",
             "gridcolor": "white",
             "linecolor": "white",
             "minorgridcolor": "white",
             "startlinecolor": "#2a3f5f"
            },
            "type": "carpet"
           }
          ],
          "choropleth": [
           {
            "colorbar": {
             "outlinewidth": 0,
             "ticks": ""
            },
            "type": "choropleth"
           }
          ],
          "contour": [
           {
            "colorbar": {
             "outlinewidth": 0,
             "ticks": ""
            },
            "colorscale": [
             [
              0,
              "#0d0887"
             ],
             [
              0.1111111111111111,
              "#46039f"
             ],
             [
              0.2222222222222222,
              "#7201a8"
             ],
             [
              0.3333333333333333,
              "#9c179e"
             ],
             [
              0.4444444444444444,
              "#bd3786"
             ],
             [
              0.5555555555555556,
              "#d8576b"
             ],
             [
              0.6666666666666666,
              "#ed7953"
             ],
             [
              0.7777777777777778,
              "#fb9f3a"
             ],
             [
              0.8888888888888888,
              "#fdca26"
             ],
             [
              1,
              "#f0f921"
             ]
            ],
            "type": "contour"
           }
          ],
          "contourcarpet": [
           {
            "colorbar": {
             "outlinewidth": 0,
             "ticks": ""
            },
            "type": "contourcarpet"
           }
          ],
          "heatmap": [
           {
            "colorbar": {
             "outlinewidth": 0,
             "ticks": ""
            },
            "colorscale": [
             [
              0,
              "#0d0887"
             ],
             [
              0.1111111111111111,
              "#46039f"
             ],
             [
              0.2222222222222222,
              "#7201a8"
             ],
             [
              0.3333333333333333,
              "#9c179e"
             ],
             [
              0.4444444444444444,
              "#bd3786"
             ],
             [
              0.5555555555555556,
              "#d8576b"
             ],
             [
              0.6666666666666666,
              "#ed7953"
             ],
             [
              0.7777777777777778,
              "#fb9f3a"
             ],
             [
              0.8888888888888888,
              "#fdca26"
             ],
             [
              1,
              "#f0f921"
             ]
            ],
            "type": "heatmap"
           }
          ],
          "histogram": [
           {
            "marker": {
             "pattern": {
              "fillmode": "overlay",
              "size": 10,
              "solidity": 0.2
             }
            },
            "type": "histogram"
           }
          ],
          "histogram2d": [
           {
            "colorbar": {
             "outlinewidth": 0,
             "ticks": ""
            },
            "colorscale": [
             [
              0,
              "#0d0887"
             ],
             [
              0.1111111111111111,
              "#46039f"
             ],
             [
              0.2222222222222222,
              "#7201a8"
             ],
             [
              0.3333333333333333,
              "#9c179e"
             ],
             [
              0.4444444444444444,
              "#bd3786"
             ],
             [
              0.5555555555555556,
              "#d8576b"
             ],
             [
              0.6666666666666666,
              "#ed7953"
             ],
             [
              0.7777777777777778,
              "#fb9f3a"
             ],
             [
              0.8888888888888888,
              "#fdca26"
             ],
             [
              1,
              "#f0f921"
             ]
            ],
            "type": "histogram2d"
           }
          ],
          "histogram2dcontour": [
           {
            "colorbar": {
             "outlinewidth": 0,
             "ticks": ""
            },
            "colorscale": [
             [
              0,
              "#0d0887"
             ],
             [
              0.1111111111111111,
              "#46039f"
             ],
             [
              0.2222222222222222,
              "#7201a8"
             ],
             [
              0.3333333333333333,
              "#9c179e"
             ],
             [
              0.4444444444444444,
              "#bd3786"
             ],
             [
              0.5555555555555556,
              "#d8576b"
             ],
             [
              0.6666666666666666,
              "#ed7953"
             ],
             [
              0.7777777777777778,
              "#fb9f3a"
             ],
             [
              0.8888888888888888,
              "#fdca26"
             ],
             [
              1,
              "#f0f921"
             ]
            ],
            "type": "histogram2dcontour"
           }
          ],
          "mesh3d": [
           {
            "colorbar": {
             "outlinewidth": 0,
             "ticks": ""
            },
            "type": "mesh3d"
           }
          ],
          "parcoords": [
           {
            "line": {
             "colorbar": {
              "outlinewidth": 0,
              "ticks": ""
             }
            },
            "type": "parcoords"
           }
          ],
          "pie": [
           {
            "automargin": true,
            "type": "pie"
           }
          ],
          "scatter": [
           {
            "fillpattern": {
             "fillmode": "overlay",
             "size": 10,
             "solidity": 0.2
            },
            "type": "scatter"
           }
          ],
          "scatter3d": [
           {
            "line": {
             "colorbar": {
              "outlinewidth": 0,
              "ticks": ""
             }
            },
            "marker": {
             "colorbar": {
              "outlinewidth": 0,
              "ticks": ""
             }
            },
            "type": "scatter3d"
           }
          ],
          "scattercarpet": [
           {
            "marker": {
             "colorbar": {
              "outlinewidth": 0,
              "ticks": ""
             }
            },
            "type": "scattercarpet"
           }
          ],
          "scattergeo": [
           {
            "marker": {
             "colorbar": {
              "outlinewidth": 0,
              "ticks": ""
             }
            },
            "type": "scattergeo"
           }
          ],
          "scattergl": [
           {
            "marker": {
             "colorbar": {
              "outlinewidth": 0,
              "ticks": ""
             }
            },
            "type": "scattergl"
           }
          ],
          "scattermap": [
           {
            "marker": {
             "colorbar": {
              "outlinewidth": 0,
              "ticks": ""
             }
            },
            "type": "scattermap"
           }
          ],
          "scattermapbox": [
           {
            "marker": {
             "colorbar": {
              "outlinewidth": 0,
              "ticks": ""
             }
            },
            "type": "scattermapbox"
           }
          ],
          "scatterpolar": [
           {
            "marker": {
             "colorbar": {
              "outlinewidth": 0,
              "ticks": ""
             }
            },
            "type": "scatterpolar"
           }
          ],
          "scatterpolargl": [
           {
            "marker": {
             "colorbar": {
              "outlinewidth": 0,
              "ticks": ""
             }
            },
            "type": "scatterpolargl"
           }
          ],
          "scatterternary": [
           {
            "marker": {
             "colorbar": {
              "outlinewidth": 0,
              "ticks": ""
             }
            },
            "type": "scatterternary"
           }
          ],
          "surface": [
           {
            "colorbar": {
             "outlinewidth": 0,
             "ticks": ""
            },
            "colorscale": [
             [
              0,
              "#0d0887"
             ],
             [
              0.1111111111111111,
              "#46039f"
             ],
             [
              0.2222222222222222,
              "#7201a8"
             ],
             [
              0.3333333333333333,
              "#9c179e"
             ],
             [
              0.4444444444444444,
              "#bd3786"
             ],
             [
              0.5555555555555556,
              "#d8576b"
             ],
             [
              0.6666666666666666,
              "#ed7953"
             ],
             [
              0.7777777777777778,
              "#fb9f3a"
             ],
             [
              0.8888888888888888,
              "#fdca26"
             ],
             [
              1,
              "#f0f921"
             ]
            ],
            "type": "surface"
           }
          ],
          "table": [
           {
            "cells": {
             "fill": {
              "color": "#EBF0F8"
             },
             "line": {
              "color": "white"
             }
            },
            "header": {
             "fill": {
              "color": "#C8D4E3"
             },
             "line": {
              "color": "white"
             }
            },
            "type": "table"
           }
          ]
         },
         "layout": {
          "annotationdefaults": {
           "arrowcolor": "#2a3f5f",
           "arrowhead": 0,
           "arrowwidth": 1
          },
          "autotypenumbers": "strict",
          "coloraxis": {
           "colorbar": {
            "outlinewidth": 0,
            "ticks": ""
           }
          },
          "colorscale": {
           "diverging": [
            [
             0,
             "#8e0152"
            ],
            [
             0.1,
             "#c51b7d"
            ],
            [
             0.2,
             "#de77ae"
            ],
            [
             0.3,
             "#f1b6da"
            ],
            [
             0.4,
             "#fde0ef"
            ],
            [
             0.5,
             "#f7f7f7"
            ],
            [
             0.6,
             "#e6f5d0"
            ],
            [
             0.7,
             "#b8e186"
            ],
            [
             0.8,
             "#7fbc41"
            ],
            [
             0.9,
             "#4d9221"
            ],
            [
             1,
             "#276419"
            ]
           ],
           "sequential": [
            [
             0,
             "#0d0887"
            ],
            [
             0.1111111111111111,
             "#46039f"
            ],
            [
             0.2222222222222222,
             "#7201a8"
            ],
            [
             0.3333333333333333,
             "#9c179e"
            ],
            [
             0.4444444444444444,
             "#bd3786"
            ],
            [
             0.5555555555555556,
             "#d8576b"
            ],
            [
             0.6666666666666666,
             "#ed7953"
            ],
            [
             0.7777777777777778,
             "#fb9f3a"
            ],
            [
             0.8888888888888888,
             "#fdca26"
            ],
            [
             1,
             "#f0f921"
            ]
           ],
           "sequentialminus": [
            [
             0,
             "#0d0887"
            ],
            [
             0.1111111111111111,
             "#46039f"
            ],
            [
             0.2222222222222222,
             "#7201a8"
            ],
            [
             0.3333333333333333,
             "#9c179e"
            ],
            [
             0.4444444444444444,
             "#bd3786"
            ],
            [
             0.5555555555555556,
             "#d8576b"
            ],
            [
             0.6666666666666666,
             "#ed7953"
            ],
            [
             0.7777777777777778,
             "#fb9f3a"
            ],
            [
             0.8888888888888888,
             "#fdca26"
            ],
            [
             1,
             "#f0f921"
            ]
           ]
          },
          "colorway": [
           "#636efa",
           "#EF553B",
           "#00cc96",
           "#ab63fa",
           "#FFA15A",
           "#19d3f3",
           "#FF6692",
           "#B6E880",
           "#FF97FF",
           "#FECB52"
          ],
          "font": {
           "color": "#2a3f5f"
          },
          "geo": {
           "bgcolor": "white",
           "lakecolor": "white",
           "landcolor": "#E5ECF6",
           "showlakes": true,
           "showland": true,
           "subunitcolor": "white"
          },
          "hoverlabel": {
           "align": "left"
          },
          "hovermode": "closest",
          "mapbox": {
           "style": "light"
          },
          "paper_bgcolor": "white",
          "plot_bgcolor": "#E5ECF6",
          "polar": {
           "angularaxis": {
            "gridcolor": "white",
            "linecolor": "white",
            "ticks": ""
           },
           "bgcolor": "#E5ECF6",
           "radialaxis": {
            "gridcolor": "white",
            "linecolor": "white",
            "ticks": ""
           }
          },
          "scene": {
           "xaxis": {
            "backgroundcolor": "#E5ECF6",
            "gridcolor": "white",
            "gridwidth": 2,
            "linecolor": "white",
            "showbackground": true,
            "ticks": "",
            "zerolinecolor": "white"
           },
           "yaxis": {
            "backgroundcolor": "#E5ECF6",
            "gridcolor": "white",
            "gridwidth": 2,
            "linecolor": "white",
            "showbackground": true,
            "ticks": "",
            "zerolinecolor": "white"
           },
           "zaxis": {
            "backgroundcolor": "#E5ECF6",
            "gridcolor": "white",
            "gridwidth": 2,
            "linecolor": "white",
            "showbackground": true,
            "ticks": "",
            "zerolinecolor": "white"
           }
          },
          "shapedefaults": {
           "line": {
            "color": "#2a3f5f"
           }
          },
          "ternary": {
           "aaxis": {
            "gridcolor": "white",
            "linecolor": "white",
            "ticks": ""
           },
           "baxis": {
            "gridcolor": "white",
            "linecolor": "white",
            "ticks": ""
           },
           "bgcolor": "#E5ECF6",
           "caxis": {
            "gridcolor": "white",
            "linecolor": "white",
            "ticks": ""
           }
          },
          "title": {
           "x": 0.05
          },
          "xaxis": {
           "automargin": true,
           "gridcolor": "white",
           "linecolor": "white",
           "ticks": "",
           "title": {
            "standoff": 15
           },
           "zerolinecolor": "white",
           "zerolinewidth": 2
          },
          "yaxis": {
           "automargin": true,
           "gridcolor": "white",
           "linecolor": "white",
           "ticks": "",
           "title": {
            "standoff": 15
           },
           "zerolinecolor": "white",
           "zerolinewidth": 2
          }
         }
        },
        "title": {
         "text": "Smoke Readings Over Time"
        },
        "xaxis": {
         "anchor": "y",
         "domain": [
          0,
          1
         ],
         "title": {
          "text": "timestamp"
         }
        },
        "yaxis": {
         "anchor": "x",
         "domain": [
          0,
          1
         ],
         "title": {
          "text": "Smoke (°C)"
         }
        }
       }
      }
     },
     "metadata": {},
     "output_type": "display_data"
    }
   ],
   "source": [
    "fig = px.line(\n",
    "    df5_downsampled,\n",
    "    x=df5_downsampled.index,\n",
    "    y=\"smoke\",\n",
    "    labels={\"smoke\": \"Smoke (°C)\", \"index\": \"Time\"},\n",
    "    title=\"Smoke Readings Over Time\"\n",
    ")\n",
    "fig.show()"
   ]
  },
  {
   "cell_type": "code",
   "execution_count": 81,
   "id": "fc3a7235",
   "metadata": {},
   "outputs": [
    {
     "data": {
      "application/vnd.plotly.v1+json": {
       "config": {
        "plotlyServerURL": "https://plot.ly"
       },
       "data": [
        {
         "hovertemplate": "timestamp=%{x}<br>Humidity (°C)=%{y}<extra></extra>",
         "legendgroup": "",
         "line": {
          "color": "#636efa",
          "dash": "solid"
         },
         "marker": {
          "symbol": "circle"
         },
         "mode": "lines",
         "name": "",
         "orientation": "v",
         "showlegend": false,
         "type": "scatter",
         "x": [
          "2025-04-25T04:15:00.000000000",
          "2025-04-25T04:20:00.000000000",
          "2025-04-25T04:25:00.000000000",
          "2025-04-25T04:30:00.000000000",
          "2025-04-25T04:35:00.000000000",
          "2025-04-25T04:40:00.000000000",
          "2025-04-25T04:45:00.000000000",
          "2025-04-25T04:50:00.000000000",
          "2025-04-25T04:55:00.000000000",
          "2025-04-25T05:00:00.000000000",
          "2025-04-25T05:05:00.000000000",
          "2025-04-25T05:10:00.000000000",
          "2025-04-25T05:15:00.000000000",
          "2025-04-25T05:20:00.000000000",
          "2025-04-25T05:25:00.000000000",
          "2025-04-25T05:30:00.000000000",
          "2025-04-25T05:35:00.000000000",
          "2025-04-25T05:40:00.000000000",
          "2025-04-25T05:45:00.000000000",
          "2025-04-25T05:50:00.000000000",
          "2025-04-25T05:55:00.000000000",
          "2025-04-25T06:00:00.000000000",
          "2025-04-25T06:05:00.000000000",
          "2025-04-25T06:10:00.000000000",
          "2025-04-25T06:15:00.000000000",
          "2025-04-25T06:20:00.000000000",
          "2025-04-25T06:25:00.000000000",
          "2025-04-25T06:30:00.000000000",
          "2025-04-25T06:35:00.000000000",
          "2025-04-25T06:40:00.000000000",
          "2025-04-25T06:45:00.000000000",
          "2025-04-25T06:50:00.000000000",
          "2025-04-25T06:55:00.000000000",
          "2025-04-25T07:00:00.000000000",
          "2025-04-25T07:05:00.000000000",
          "2025-04-25T07:10:00.000000000",
          "2025-04-25T07:15:00.000000000",
          "2025-04-25T07:20:00.000000000",
          "2025-04-25T07:25:00.000000000",
          "2025-04-25T07:30:00.000000000",
          "2025-04-25T07:35:00.000000000",
          "2025-04-25T07:40:00.000000000",
          "2025-04-25T07:45:00.000000000",
          "2025-04-25T07:50:00.000000000",
          "2025-04-25T07:55:00.000000000",
          "2025-04-25T08:00:00.000000000",
          "2025-04-25T08:05:00.000000000",
          "2025-04-25T08:10:00.000000000",
          "2025-04-25T08:15:00.000000000",
          "2025-04-25T08:20:00.000000000",
          "2025-04-25T08:25:00.000000000",
          "2025-04-25T08:30:00.000000000",
          "2025-04-25T08:35:00.000000000",
          "2025-04-25T08:40:00.000000000",
          "2025-04-25T08:45:00.000000000",
          "2025-04-25T08:50:00.000000000",
          "2025-04-25T08:55:00.000000000",
          "2025-04-25T09:00:00.000000000",
          "2025-04-25T09:05:00.000000000",
          "2025-04-25T09:10:00.000000000",
          "2025-04-25T09:15:00.000000000",
          "2025-04-25T09:20:00.000000000",
          "2025-04-25T09:25:00.000000000",
          "2025-04-25T09:30:00.000000000",
          "2025-04-25T09:35:00.000000000",
          "2025-04-25T09:40:00.000000000",
          "2025-04-25T09:45:00.000000000",
          "2025-04-25T09:50:00.000000000",
          "2025-04-25T09:55:00.000000000",
          "2025-04-25T10:00:00.000000000",
          "2025-04-25T10:05:00.000000000",
          "2025-04-25T10:10:00.000000000",
          "2025-04-25T10:15:00.000000000",
          "2025-04-25T10:20:00.000000000",
          "2025-04-25T10:25:00.000000000",
          "2025-04-25T10:30:00.000000000",
          "2025-04-25T10:35:00.000000000",
          "2025-04-25T10:40:00.000000000",
          "2025-04-25T10:45:00.000000000",
          "2025-04-25T10:50:00.000000000",
          "2025-04-25T10:55:00.000000000",
          "2025-04-25T11:00:00.000000000",
          "2025-04-25T11:05:00.000000000",
          "2025-04-25T11:10:00.000000000",
          "2025-04-25T11:15:00.000000000",
          "2025-04-25T11:20:00.000000000",
          "2025-04-25T11:25:00.000000000",
          "2025-04-25T11:30:00.000000000",
          "2025-04-25T11:35:00.000000000",
          "2025-04-25T11:40:00.000000000",
          "2025-04-25T11:45:00.000000000",
          "2025-04-25T11:50:00.000000000",
          "2025-04-25T11:55:00.000000000",
          "2025-04-25T12:00:00.000000000",
          "2025-04-25T12:05:00.000000000",
          "2025-04-25T12:10:00.000000000",
          "2025-04-25T12:15:00.000000000",
          "2025-04-25T12:20:00.000000000",
          "2025-04-25T12:25:00.000000000",
          "2025-04-25T12:30:00.000000000",
          "2025-04-25T12:35:00.000000000",
          "2025-04-25T12:40:00.000000000",
          "2025-04-25T12:45:00.000000000",
          "2025-04-25T12:50:00.000000000",
          "2025-04-25T12:55:00.000000000",
          "2025-04-25T13:00:00.000000000",
          "2025-04-25T13:05:00.000000000",
          "2025-04-25T13:10:00.000000000",
          "2025-04-25T13:15:00.000000000",
          "2025-04-25T13:20:00.000000000",
          "2025-04-25T13:25:00.000000000",
          "2025-04-25T13:30:00.000000000",
          "2025-04-25T13:35:00.000000000",
          "2025-04-25T13:40:00.000000000",
          "2025-04-25T13:45:00.000000000",
          "2025-04-25T13:50:00.000000000",
          "2025-04-25T13:55:00.000000000",
          "2025-04-25T14:00:00.000000000",
          "2025-04-25T14:05:00.000000000",
          "2025-04-25T14:10:00.000000000",
          "2025-04-25T14:15:00.000000000",
          "2025-04-25T14:20:00.000000000",
          "2025-04-25T14:25:00.000000000",
          "2025-04-25T14:30:00.000000000",
          "2025-04-25T14:35:00.000000000",
          "2025-04-25T14:40:00.000000000",
          "2025-04-25T14:45:00.000000000",
          "2025-04-25T14:50:00.000000000",
          "2025-04-25T14:55:00.000000000",
          "2025-04-25T15:00:00.000000000",
          "2025-04-25T15:05:00.000000000",
          "2025-04-25T15:10:00.000000000",
          "2025-04-25T15:15:00.000000000",
          "2025-04-25T15:20:00.000000000",
          "2025-04-25T15:25:00.000000000",
          "2025-04-25T15:30:00.000000000",
          "2025-04-25T15:35:00.000000000",
          "2025-04-25T15:40:00.000000000",
          "2025-04-25T15:45:00.000000000",
          "2025-04-25T15:50:00.000000000",
          "2025-04-25T15:55:00.000000000",
          "2025-04-25T16:00:00.000000000",
          "2025-04-25T16:05:00.000000000",
          "2025-04-25T16:10:00.000000000",
          "2025-04-25T16:15:00.000000000",
          "2025-04-25T16:20:00.000000000",
          "2025-04-25T16:25:00.000000000",
          "2025-04-25T16:30:00.000000000",
          "2025-04-25T16:35:00.000000000",
          "2025-04-25T16:40:00.000000000",
          "2025-04-25T16:45:00.000000000",
          "2025-04-25T16:50:00.000000000",
          "2025-04-25T16:55:00.000000000",
          "2025-04-25T17:00:00.000000000",
          "2025-04-25T17:05:00.000000000",
          "2025-04-25T17:10:00.000000000",
          "2025-04-25T17:15:00.000000000",
          "2025-04-25T17:20:00.000000000",
          "2025-04-25T17:25:00.000000000",
          "2025-04-25T17:30:00.000000000",
          "2025-04-25T17:35:00.000000000",
          "2025-04-25T17:40:00.000000000",
          "2025-04-25T17:45:00.000000000",
          "2025-04-25T17:50:00.000000000",
          "2025-04-25T17:55:00.000000000",
          "2025-04-25T18:00:00.000000000",
          "2025-04-25T18:05:00.000000000",
          "2025-04-25T18:10:00.000000000",
          "2025-04-25T18:15:00.000000000",
          "2025-04-25T18:20:00.000000000",
          "2025-04-25T18:25:00.000000000",
          "2025-04-25T18:30:00.000000000",
          "2025-04-25T18:35:00.000000000",
          "2025-04-25T18:40:00.000000000",
          "2025-04-25T18:45:00.000000000",
          "2025-04-25T18:50:00.000000000",
          "2025-04-25T18:55:00.000000000",
          "2025-04-25T19:00:00.000000000",
          "2025-04-25T19:05:00.000000000",
          "2025-04-25T19:10:00.000000000",
          "2025-04-25T19:15:00.000000000",
          "2025-04-25T19:20:00.000000000",
          "2025-04-25T19:25:00.000000000",
          "2025-04-25T19:30:00.000000000",
          "2025-04-25T19:35:00.000000000",
          "2025-04-25T19:40:00.000000000",
          "2025-04-25T19:45:00.000000000",
          "2025-04-25T19:50:00.000000000",
          "2025-04-25T19:55:00.000000000",
          "2025-04-25T20:00:00.000000000",
          "2025-04-25T20:05:00.000000000",
          "2025-04-25T20:10:00.000000000",
          "2025-04-25T20:15:00.000000000",
          "2025-04-25T20:20:00.000000000",
          "2025-04-25T20:25:00.000000000",
          "2025-04-25T20:30:00.000000000",
          "2025-04-25T20:35:00.000000000",
          "2025-04-25T20:40:00.000000000",
          "2025-04-25T20:45:00.000000000",
          "2025-04-25T20:50:00.000000000",
          "2025-04-25T20:55:00.000000000",
          "2025-04-25T21:00:00.000000000",
          "2025-04-25T21:05:00.000000000",
          "2025-04-25T21:10:00.000000000",
          "2025-04-25T21:15:00.000000000",
          "2025-04-25T21:20:00.000000000",
          "2025-04-25T21:25:00.000000000",
          "2025-04-25T21:30:00.000000000",
          "2025-04-25T21:35:00.000000000",
          "2025-04-25T21:40:00.000000000",
          "2025-04-25T21:45:00.000000000",
          "2025-04-25T21:50:00.000000000",
          "2025-04-25T21:55:00.000000000",
          "2025-04-25T22:00:00.000000000",
          "2025-04-25T22:05:00.000000000",
          "2025-04-25T22:10:00.000000000",
          "2025-04-25T22:15:00.000000000",
          "2025-04-25T22:20:00.000000000",
          "2025-04-25T22:25:00.000000000",
          "2025-04-25T22:30:00.000000000",
          "2025-04-25T22:35:00.000000000",
          "2025-04-25T22:40:00.000000000",
          "2025-04-25T22:45:00.000000000",
          "2025-04-25T22:50:00.000000000",
          "2025-04-25T22:55:00.000000000",
          "2025-04-25T23:00:00.000000000",
          "2025-04-25T23:05:00.000000000",
          "2025-04-25T23:10:00.000000000",
          "2025-04-25T23:15:00.000000000",
          "2025-04-25T23:20:00.000000000",
          "2025-04-25T23:25:00.000000000",
          "2025-04-25T23:30:00.000000000",
          "2025-04-25T23:35:00.000000000",
          "2025-04-25T23:40:00.000000000",
          "2025-04-25T23:45:00.000000000",
          "2025-04-25T23:50:00.000000000",
          "2025-04-25T23:55:00.000000000"
         ],
         "xaxis": "x",
         "y": {
          "bdata": "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",
          "dtype": "f8"
         },
         "yaxis": "y"
        }
       ],
       "layout": {
        "legend": {
         "tracegroupgap": 0
        },
        "template": {
         "data": {
          "bar": [
           {
            "error_x": {
             "color": "#2a3f5f"
            },
            "error_y": {
             "color": "#2a3f5f"
            },
            "marker": {
             "line": {
              "color": "#E5ECF6",
              "width": 0.5
             },
             "pattern": {
              "fillmode": "overlay",
              "size": 10,
              "solidity": 0.2
             }
            },
            "type": "bar"
           }
          ],
          "barpolar": [
           {
            "marker": {
             "line": {
              "color": "#E5ECF6",
              "width": 0.5
             },
             "pattern": {
              "fillmode": "overlay",
              "size": 10,
              "solidity": 0.2
             }
            },
            "type": "barpolar"
           }
          ],
          "carpet": [
           {
            "aaxis": {
             "endlinecolor": "#2a3f5f",
             "gridcolor": "white",
             "linecolor": "white",
             "minorgridcolor": "white",
             "startlinecolor": "#2a3f5f"
            },
            "baxis": {
             "endlinecolor": "#2a3f5f",
             "gridcolor": "white",
             "linecolor": "white",
             "minorgridcolor": "white",
             "startlinecolor": "#2a3f5f"
            },
            "type": "carpet"
           }
          ],
          "choropleth": [
           {
            "colorbar": {
             "outlinewidth": 0,
             "ticks": ""
            },
            "type": "choropleth"
           }
          ],
          "contour": [
           {
            "colorbar": {
             "outlinewidth": 0,
             "ticks": ""
            },
            "colorscale": [
             [
              0,
              "#0d0887"
             ],
             [
              0.1111111111111111,
              "#46039f"
             ],
             [
              0.2222222222222222,
              "#7201a8"
             ],
             [
              0.3333333333333333,
              "#9c179e"
             ],
             [
              0.4444444444444444,
              "#bd3786"
             ],
             [
              0.5555555555555556,
              "#d8576b"
             ],
             [
              0.6666666666666666,
              "#ed7953"
             ],
             [
              0.7777777777777778,
              "#fb9f3a"
             ],
             [
              0.8888888888888888,
              "#fdca26"
             ],
             [
              1,
              "#f0f921"
             ]
            ],
            "type": "contour"
           }
          ],
          "contourcarpet": [
           {
            "colorbar": {
             "outlinewidth": 0,
             "ticks": ""
            },
            "type": "contourcarpet"
           }
          ],
          "heatmap": [
           {
            "colorbar": {
             "outlinewidth": 0,
             "ticks": ""
            },
            "colorscale": [
             [
              0,
              "#0d0887"
             ],
             [
              0.1111111111111111,
              "#46039f"
             ],
             [
              0.2222222222222222,
              "#7201a8"
             ],
             [
              0.3333333333333333,
              "#9c179e"
             ],
             [
              0.4444444444444444,
              "#bd3786"
             ],
             [
              0.5555555555555556,
              "#d8576b"
             ],
             [
              0.6666666666666666,
              "#ed7953"
             ],
             [
              0.7777777777777778,
              "#fb9f3a"
             ],
             [
              0.8888888888888888,
              "#fdca26"
             ],
             [
              1,
              "#f0f921"
             ]
            ],
            "type": "heatmap"
           }
          ],
          "histogram": [
           {
            "marker": {
             "pattern": {
              "fillmode": "overlay",
              "size": 10,
              "solidity": 0.2
             }
            },
            "type": "histogram"
           }
          ],
          "histogram2d": [
           {
            "colorbar": {
             "outlinewidth": 0,
             "ticks": ""
            },
            "colorscale": [
             [
              0,
              "#0d0887"
             ],
             [
              0.1111111111111111,
              "#46039f"
             ],
             [
              0.2222222222222222,
              "#7201a8"
             ],
             [
              0.3333333333333333,
              "#9c179e"
             ],
             [
              0.4444444444444444,
              "#bd3786"
             ],
             [
              0.5555555555555556,
              "#d8576b"
             ],
             [
              0.6666666666666666,
              "#ed7953"
             ],
             [
              0.7777777777777778,
              "#fb9f3a"
             ],
             [
              0.8888888888888888,
              "#fdca26"
             ],
             [
              1,
              "#f0f921"
             ]
            ],
            "type": "histogram2d"
           }
          ],
          "histogram2dcontour": [
           {
            "colorbar": {
             "outlinewidth": 0,
             "ticks": ""
            },
            "colorscale": [
             [
              0,
              "#0d0887"
             ],
             [
              0.1111111111111111,
              "#46039f"
             ],
             [
              0.2222222222222222,
              "#7201a8"
             ],
             [
              0.3333333333333333,
              "#9c179e"
             ],
             [
              0.4444444444444444,
              "#bd3786"
             ],
             [
              0.5555555555555556,
              "#d8576b"
             ],
             [
              0.6666666666666666,
              "#ed7953"
             ],
             [
              0.7777777777777778,
              "#fb9f3a"
             ],
             [
              0.8888888888888888,
              "#fdca26"
             ],
             [
              1,
              "#f0f921"
             ]
            ],
            "type": "histogram2dcontour"
           }
          ],
          "mesh3d": [
           {
            "colorbar": {
             "outlinewidth": 0,
             "ticks": ""
            },
            "type": "mesh3d"
           }
          ],
          "parcoords": [
           {
            "line": {
             "colorbar": {
              "outlinewidth": 0,
              "ticks": ""
             }
            },
            "type": "parcoords"
           }
          ],
          "pie": [
           {
            "automargin": true,
            "type": "pie"
           }
          ],
          "scatter": [
           {
            "fillpattern": {
             "fillmode": "overlay",
             "size": 10,
             "solidity": 0.2
            },
            "type": "scatter"
           }
          ],
          "scatter3d": [
           {
            "line": {
             "colorbar": {
              "outlinewidth": 0,
              "ticks": ""
             }
            },
            "marker": {
             "colorbar": {
              "outlinewidth": 0,
              "ticks": ""
             }
            },
            "type": "scatter3d"
           }
          ],
          "scattercarpet": [
           {
            "marker": {
             "colorbar": {
              "outlinewidth": 0,
              "ticks": ""
             }
            },
            "type": "scattercarpet"
           }
          ],
          "scattergeo": [
           {
            "marker": {
             "colorbar": {
              "outlinewidth": 0,
              "ticks": ""
             }
            },
            "type": "scattergeo"
           }
          ],
          "scattergl": [
           {
            "marker": {
             "colorbar": {
              "outlinewidth": 0,
              "ticks": ""
             }
            },
            "type": "scattergl"
           }
          ],
          "scattermap": [
           {
            "marker": {
             "colorbar": {
              "outlinewidth": 0,
              "ticks": ""
             }
            },
            "type": "scattermap"
           }
          ],
          "scattermapbox": [
           {
            "marker": {
             "colorbar": {
              "outlinewidth": 0,
              "ticks": ""
             }
            },
            "type": "scattermapbox"
           }
          ],
          "scatterpolar": [
           {
            "marker": {
             "colorbar": {
              "outlinewidth": 0,
              "ticks": ""
             }
            },
            "type": "scatterpolar"
           }
          ],
          "scatterpolargl": [
           {
            "marker": {
             "colorbar": {
              "outlinewidth": 0,
              "ticks": ""
             }
            },
            "type": "scatterpolargl"
           }
          ],
          "scatterternary": [
           {
            "marker": {
             "colorbar": {
              "outlinewidth": 0,
              "ticks": ""
             }
            },
            "type": "scatterternary"
           }
          ],
          "surface": [
           {
            "colorbar": {
             "outlinewidth": 0,
             "ticks": ""
            },
            "colorscale": [
             [
              0,
              "#0d0887"
             ],
             [
              0.1111111111111111,
              "#46039f"
             ],
             [
              0.2222222222222222,
              "#7201a8"
             ],
             [
              0.3333333333333333,
              "#9c179e"
             ],
             [
              0.4444444444444444,
              "#bd3786"
             ],
             [
              0.5555555555555556,
              "#d8576b"
             ],
             [
              0.6666666666666666,
              "#ed7953"
             ],
             [
              0.7777777777777778,
              "#fb9f3a"
             ],
             [
              0.8888888888888888,
              "#fdca26"
             ],
             [
              1,
              "#f0f921"
             ]
            ],
            "type": "surface"
           }
          ],
          "table": [
           {
            "cells": {
             "fill": {
              "color": "#EBF0F8"
             },
             "line": {
              "color": "white"
             }
            },
            "header": {
             "fill": {
              "color": "#C8D4E3"
             },
             "line": {
              "color": "white"
             }
            },
            "type": "table"
           }
          ]
         },
         "layout": {
          "annotationdefaults": {
           "arrowcolor": "#2a3f5f",
           "arrowhead": 0,
           "arrowwidth": 1
          },
          "autotypenumbers": "strict",
          "coloraxis": {
           "colorbar": {
            "outlinewidth": 0,
            "ticks": ""
           }
          },
          "colorscale": {
           "diverging": [
            [
             0,
             "#8e0152"
            ],
            [
             0.1,
             "#c51b7d"
            ],
            [
             0.2,
             "#de77ae"
            ],
            [
             0.3,
             "#f1b6da"
            ],
            [
             0.4,
             "#fde0ef"
            ],
            [
             0.5,
             "#f7f7f7"
            ],
            [
             0.6,
             "#e6f5d0"
            ],
            [
             0.7,
             "#b8e186"
            ],
            [
             0.8,
             "#7fbc41"
            ],
            [
             0.9,
             "#4d9221"
            ],
            [
             1,
             "#276419"
            ]
           ],
           "sequential": [
            [
             0,
             "#0d0887"
            ],
            [
             0.1111111111111111,
             "#46039f"
            ],
            [
             0.2222222222222222,
             "#7201a8"
            ],
            [
             0.3333333333333333,
             "#9c179e"
            ],
            [
             0.4444444444444444,
             "#bd3786"
            ],
            [
             0.5555555555555556,
             "#d8576b"
            ],
            [
             0.6666666666666666,
             "#ed7953"
            ],
            [
             0.7777777777777778,
             "#fb9f3a"
            ],
            [
             0.8888888888888888,
             "#fdca26"
            ],
            [
             1,
             "#f0f921"
            ]
           ],
           "sequentialminus": [
            [
             0,
             "#0d0887"
            ],
            [
             0.1111111111111111,
             "#46039f"
            ],
            [
             0.2222222222222222,
             "#7201a8"
            ],
            [
             0.3333333333333333,
             "#9c179e"
            ],
            [
             0.4444444444444444,
             "#bd3786"
            ],
            [
             0.5555555555555556,
             "#d8576b"
            ],
            [
             0.6666666666666666,
             "#ed7953"
            ],
            [
             0.7777777777777778,
             "#fb9f3a"
            ],
            [
             0.8888888888888888,
             "#fdca26"
            ],
            [
             1,
             "#f0f921"
            ]
           ]
          },
          "colorway": [
           "#636efa",
           "#EF553B",
           "#00cc96",
           "#ab63fa",
           "#FFA15A",
           "#19d3f3",
           "#FF6692",
           "#B6E880",
           "#FF97FF",
           "#FECB52"
          ],
          "font": {
           "color": "#2a3f5f"
          },
          "geo": {
           "bgcolor": "white",
           "lakecolor": "white",
           "landcolor": "#E5ECF6",
           "showlakes": true,
           "showland": true,
           "subunitcolor": "white"
          },
          "hoverlabel": {
           "align": "left"
          },
          "hovermode": "closest",
          "mapbox": {
           "style": "light"
          },
          "paper_bgcolor": "white",
          "plot_bgcolor": "#E5ECF6",
          "polar": {
           "angularaxis": {
            "gridcolor": "white",
            "linecolor": "white",
            "ticks": ""
           },
           "bgcolor": "#E5ECF6",
           "radialaxis": {
            "gridcolor": "white",
            "linecolor": "white",
            "ticks": ""
           }
          },
          "scene": {
           "xaxis": {
            "backgroundcolor": "#E5ECF6",
            "gridcolor": "white",
            "gridwidth": 2,
            "linecolor": "white",
            "showbackground": true,
            "ticks": "",
            "zerolinecolor": "white"
           },
           "yaxis": {
            "backgroundcolor": "#E5ECF6",
            "gridcolor": "white",
            "gridwidth": 2,
            "linecolor": "white",
            "showbackground": true,
            "ticks": "",
            "zerolinecolor": "white"
           },
           "zaxis": {
            "backgroundcolor": "#E5ECF6",
            "gridcolor": "white",
            "gridwidth": 2,
            "linecolor": "white",
            "showbackground": true,
            "ticks": "",
            "zerolinecolor": "white"
           }
          },
          "shapedefaults": {
           "line": {
            "color": "#2a3f5f"
           }
          },
          "ternary": {
           "aaxis": {
            "gridcolor": "white",
            "linecolor": "white",
            "ticks": ""
           },
           "baxis": {
            "gridcolor": "white",
            "linecolor": "white",
            "ticks": ""
           },
           "bgcolor": "#E5ECF6",
           "caxis": {
            "gridcolor": "white",
            "linecolor": "white",
            "ticks": ""
           }
          },
          "title": {
           "x": 0.05
          },
          "xaxis": {
           "automargin": true,
           "gridcolor": "white",
           "linecolor": "white",
           "ticks": "",
           "title": {
            "standoff": 15
           },
           "zerolinecolor": "white",
           "zerolinewidth": 2
          },
          "yaxis": {
           "automargin": true,
           "gridcolor": "white",
           "linecolor": "white",
           "ticks": "",
           "title": {
            "standoff": 15
           },
           "zerolinecolor": "white",
           "zerolinewidth": 2
          }
         }
        },
        "title": {
         "text": "Humidity Readings Over Time"
        },
        "xaxis": {
         "anchor": "y",
         "domain": [
          0,
          1
         ],
         "title": {
          "text": "timestamp"
         }
        },
        "yaxis": {
         "anchor": "x",
         "domain": [
          0,
          1
         ],
         "title": {
          "text": "Humidity (°C)"
         }
        }
       }
      }
     },
     "metadata": {},
     "output_type": "display_data"
    }
   ],
   "source": [
    "fig = px.line(\n",
    "    df5_downsampled,\n",
    "    x=df5_downsampled.index,\n",
    "    y=\"humidity\",\n",
    "    labels={\"humidity\": \"Humidity (°C)\", \"index\": \"Time\"},\n",
    "    title=\"Humidity Readings Over Time\"\n",
    ")\n",
    "fig.show()"
   ]
  },
  {
   "cell_type": "code",
   "execution_count": 82,
   "id": "ddff7e34",
   "metadata": {},
   "outputs": [
    {
     "data": {
      "application/vnd.plotly.v1+json": {
       "config": {
        "plotlyServerURL": "https://plot.ly"
       },
       "data": [
        {
         "hovertemplate": "timestamp=%{x}<br>Inferred Temperature (°C)=%{y}<extra></extra>",
         "legendgroup": "",
         "line": {
          "color": "#636efa",
          "dash": "solid"
         },
         "marker": {
          "symbol": "circle"
         },
         "mode": "lines",
         "name": "",
         "orientation": "v",
         "showlegend": false,
         "type": "scatter",
         "x": [
          "2025-04-25T04:15:00.000000000",
          "2025-04-25T04:20:00.000000000",
          "2025-04-25T04:25:00.000000000",
          "2025-04-25T04:30:00.000000000",
          "2025-04-25T04:35:00.000000000",
          "2025-04-25T04:40:00.000000000",
          "2025-04-25T04:45:00.000000000",
          "2025-04-25T04:50:00.000000000",
          "2025-04-25T04:55:00.000000000",
          "2025-04-25T05:00:00.000000000",
          "2025-04-25T05:05:00.000000000",
          "2025-04-25T05:10:00.000000000",
          "2025-04-25T05:15:00.000000000",
          "2025-04-25T05:20:00.000000000",
          "2025-04-25T05:25:00.000000000",
          "2025-04-25T05:30:00.000000000",
          "2025-04-25T05:35:00.000000000",
          "2025-04-25T05:40:00.000000000",
          "2025-04-25T05:45:00.000000000",
          "2025-04-25T05:50:00.000000000",
          "2025-04-25T05:55:00.000000000",
          "2025-04-25T06:00:00.000000000",
          "2025-04-25T06:05:00.000000000",
          "2025-04-25T06:10:00.000000000",
          "2025-04-25T06:15:00.000000000",
          "2025-04-25T06:20:00.000000000",
          "2025-04-25T06:25:00.000000000",
          "2025-04-25T06:30:00.000000000",
          "2025-04-25T06:35:00.000000000",
          "2025-04-25T06:40:00.000000000",
          "2025-04-25T06:45:00.000000000",
          "2025-04-25T06:50:00.000000000",
          "2025-04-25T06:55:00.000000000",
          "2025-04-25T07:00:00.000000000",
          "2025-04-25T07:05:00.000000000",
          "2025-04-25T07:10:00.000000000",
          "2025-04-25T07:15:00.000000000",
          "2025-04-25T07:20:00.000000000",
          "2025-04-25T07:25:00.000000000",
          "2025-04-25T07:30:00.000000000",
          "2025-04-25T07:35:00.000000000",
          "2025-04-25T07:40:00.000000000",
          "2025-04-25T07:45:00.000000000",
          "2025-04-25T07:50:00.000000000",
          "2025-04-25T07:55:00.000000000",
          "2025-04-25T08:00:00.000000000",
          "2025-04-25T08:05:00.000000000",
          "2025-04-25T08:10:00.000000000",
          "2025-04-25T08:15:00.000000000",
          "2025-04-25T08:20:00.000000000",
          "2025-04-25T08:25:00.000000000",
          "2025-04-25T08:30:00.000000000",
          "2025-04-25T08:35:00.000000000",
          "2025-04-25T08:40:00.000000000",
          "2025-04-25T08:45:00.000000000",
          "2025-04-25T08:50:00.000000000",
          "2025-04-25T08:55:00.000000000",
          "2025-04-25T09:00:00.000000000",
          "2025-04-25T09:05:00.000000000",
          "2025-04-25T09:10:00.000000000",
          "2025-04-25T09:15:00.000000000",
          "2025-04-25T09:20:00.000000000",
          "2025-04-25T09:25:00.000000000",
          "2025-04-25T09:30:00.000000000",
          "2025-04-25T09:35:00.000000000",
          "2025-04-25T09:40:00.000000000",
          "2025-04-25T09:45:00.000000000",
          "2025-04-25T09:50:00.000000000",
          "2025-04-25T09:55:00.000000000",
          "2025-04-25T10:00:00.000000000",
          "2025-04-25T10:05:00.000000000",
          "2025-04-25T10:10:00.000000000",
          "2025-04-25T10:15:00.000000000",
          "2025-04-25T10:20:00.000000000",
          "2025-04-25T10:25:00.000000000",
          "2025-04-25T10:30:00.000000000",
          "2025-04-25T10:35:00.000000000",
          "2025-04-25T10:40:00.000000000",
          "2025-04-25T10:45:00.000000000",
          "2025-04-25T10:50:00.000000000",
          "2025-04-25T10:55:00.000000000",
          "2025-04-25T11:00:00.000000000",
          "2025-04-25T11:05:00.000000000",
          "2025-04-25T11:10:00.000000000",
          "2025-04-25T11:15:00.000000000",
          "2025-04-25T11:20:00.000000000",
          "2025-04-25T11:25:00.000000000",
          "2025-04-25T11:30:00.000000000",
          "2025-04-25T11:35:00.000000000",
          "2025-04-25T11:40:00.000000000",
          "2025-04-25T11:45:00.000000000",
          "2025-04-25T11:50:00.000000000",
          "2025-04-25T11:55:00.000000000",
          "2025-04-25T12:00:00.000000000",
          "2025-04-25T12:05:00.000000000",
          "2025-04-25T12:10:00.000000000",
          "2025-04-25T12:15:00.000000000",
          "2025-04-25T12:20:00.000000000",
          "2025-04-25T12:25:00.000000000",
          "2025-04-25T12:30:00.000000000",
          "2025-04-25T12:35:00.000000000",
          "2025-04-25T12:40:00.000000000",
          "2025-04-25T12:45:00.000000000",
          "2025-04-25T12:50:00.000000000",
          "2025-04-25T12:55:00.000000000",
          "2025-04-25T13:00:00.000000000",
          "2025-04-25T13:05:00.000000000",
          "2025-04-25T13:10:00.000000000",
          "2025-04-25T13:15:00.000000000",
          "2025-04-25T13:20:00.000000000",
          "2025-04-25T13:25:00.000000000",
          "2025-04-25T13:30:00.000000000",
          "2025-04-25T13:35:00.000000000",
          "2025-04-25T13:40:00.000000000",
          "2025-04-25T13:45:00.000000000",
          "2025-04-25T13:50:00.000000000",
          "2025-04-25T13:55:00.000000000",
          "2025-04-25T14:00:00.000000000",
          "2025-04-25T14:05:00.000000000",
          "2025-04-25T14:10:00.000000000",
          "2025-04-25T14:15:00.000000000",
          "2025-04-25T14:20:00.000000000",
          "2025-04-25T14:25:00.000000000",
          "2025-04-25T14:30:00.000000000",
          "2025-04-25T14:35:00.000000000",
          "2025-04-25T14:40:00.000000000",
          "2025-04-25T14:45:00.000000000",
          "2025-04-25T14:50:00.000000000",
          "2025-04-25T14:55:00.000000000",
          "2025-04-25T15:00:00.000000000",
          "2025-04-25T15:05:00.000000000",
          "2025-04-25T15:10:00.000000000",
          "2025-04-25T15:15:00.000000000",
          "2025-04-25T15:20:00.000000000",
          "2025-04-25T15:25:00.000000000",
          "2025-04-25T15:30:00.000000000",
          "2025-04-25T15:35:00.000000000",
          "2025-04-25T15:40:00.000000000",
          "2025-04-25T15:45:00.000000000",
          "2025-04-25T15:50:00.000000000",
          "2025-04-25T15:55:00.000000000",
          "2025-04-25T16:00:00.000000000",
          "2025-04-25T16:05:00.000000000",
          "2025-04-25T16:10:00.000000000",
          "2025-04-25T16:15:00.000000000",
          "2025-04-25T16:20:00.000000000",
          "2025-04-25T16:25:00.000000000",
          "2025-04-25T16:30:00.000000000",
          "2025-04-25T16:35:00.000000000",
          "2025-04-25T16:40:00.000000000",
          "2025-04-25T16:45:00.000000000",
          "2025-04-25T16:50:00.000000000",
          "2025-04-25T16:55:00.000000000",
          "2025-04-25T17:00:00.000000000",
          "2025-04-25T17:05:00.000000000",
          "2025-04-25T17:10:00.000000000",
          "2025-04-25T17:15:00.000000000",
          "2025-04-25T17:20:00.000000000",
          "2025-04-25T17:25:00.000000000",
          "2025-04-25T17:30:00.000000000",
          "2025-04-25T17:35:00.000000000",
          "2025-04-25T17:40:00.000000000",
          "2025-04-25T17:45:00.000000000",
          "2025-04-25T17:50:00.000000000",
          "2025-04-25T17:55:00.000000000",
          "2025-04-25T18:00:00.000000000",
          "2025-04-25T18:05:00.000000000",
          "2025-04-25T18:10:00.000000000",
          "2025-04-25T18:15:00.000000000",
          "2025-04-25T18:20:00.000000000",
          "2025-04-25T18:25:00.000000000",
          "2025-04-25T18:30:00.000000000",
          "2025-04-25T18:35:00.000000000",
          "2025-04-25T18:40:00.000000000",
          "2025-04-25T18:45:00.000000000",
          "2025-04-25T18:50:00.000000000",
          "2025-04-25T18:55:00.000000000",
          "2025-04-25T19:00:00.000000000",
          "2025-04-25T19:05:00.000000000",
          "2025-04-25T19:10:00.000000000",
          "2025-04-25T19:15:00.000000000",
          "2025-04-25T19:20:00.000000000",
          "2025-04-25T19:25:00.000000000",
          "2025-04-25T19:30:00.000000000",
          "2025-04-25T19:35:00.000000000",
          "2025-04-25T19:40:00.000000000",
          "2025-04-25T19:45:00.000000000",
          "2025-04-25T19:50:00.000000000",
          "2025-04-25T19:55:00.000000000",
          "2025-04-25T20:00:00.000000000",
          "2025-04-25T20:05:00.000000000",
          "2025-04-25T20:10:00.000000000",
          "2025-04-25T20:15:00.000000000",
          "2025-04-25T20:20:00.000000000",
          "2025-04-25T20:25:00.000000000",
          "2025-04-25T20:30:00.000000000",
          "2025-04-25T20:35:00.000000000",
          "2025-04-25T20:40:00.000000000",
          "2025-04-25T20:45:00.000000000",
          "2025-04-25T20:50:00.000000000",
          "2025-04-25T20:55:00.000000000",
          "2025-04-25T21:00:00.000000000",
          "2025-04-25T21:05:00.000000000",
          "2025-04-25T21:10:00.000000000",
          "2025-04-25T21:15:00.000000000",
          "2025-04-25T21:20:00.000000000",
          "2025-04-25T21:25:00.000000000",
          "2025-04-25T21:30:00.000000000",
          "2025-04-25T21:35:00.000000000",
          "2025-04-25T21:40:00.000000000",
          "2025-04-25T21:45:00.000000000",
          "2025-04-25T21:50:00.000000000",
          "2025-04-25T21:55:00.000000000",
          "2025-04-25T22:00:00.000000000",
          "2025-04-25T22:05:00.000000000",
          "2025-04-25T22:10:00.000000000",
          "2025-04-25T22:15:00.000000000",
          "2025-04-25T22:20:00.000000000",
          "2025-04-25T22:25:00.000000000",
          "2025-04-25T22:30:00.000000000",
          "2025-04-25T22:35:00.000000000",
          "2025-04-25T22:40:00.000000000",
          "2025-04-25T22:45:00.000000000",
          "2025-04-25T22:50:00.000000000",
          "2025-04-25T22:55:00.000000000",
          "2025-04-25T23:00:00.000000000",
          "2025-04-25T23:05:00.000000000",
          "2025-04-25T23:10:00.000000000",
          "2025-04-25T23:15:00.000000000",
          "2025-04-25T23:20:00.000000000",
          "2025-04-25T23:25:00.000000000",
          "2025-04-25T23:30:00.000000000",
          "2025-04-25T23:35:00.000000000",
          "2025-04-25T23:40:00.000000000",
          "2025-04-25T23:45:00.000000000",
          "2025-04-25T23:50:00.000000000",
          "2025-04-25T23:55:00.000000000"
         ],
         "xaxis": "x",
         "y": {
          "bdata": "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",
          "dtype": "f8"
         },
         "yaxis": "y"
        }
       ],
       "layout": {
        "legend": {
         "tracegroupgap": 0
        },
        "template": {
         "data": {
          "bar": [
           {
            "error_x": {
             "color": "#2a3f5f"
            },
            "error_y": {
             "color": "#2a3f5f"
            },
            "marker": {
             "line": {
              "color": "#E5ECF6",
              "width": 0.5
             },
             "pattern": {
              "fillmode": "overlay",
              "size": 10,
              "solidity": 0.2
             }
            },
            "type": "bar"
           }
          ],
          "barpolar": [
           {
            "marker": {
             "line": {
              "color": "#E5ECF6",
              "width": 0.5
             },
             "pattern": {
              "fillmode": "overlay",
              "size": 10,
              "solidity": 0.2
             }
            },
            "type": "barpolar"
           }
          ],
          "carpet": [
           {
            "aaxis": {
             "endlinecolor": "#2a3f5f",
             "gridcolor": "white",
             "linecolor": "white",
             "minorgridcolor": "white",
             "startlinecolor": "#2a3f5f"
            },
            "baxis": {
             "endlinecolor": "#2a3f5f",
             "gridcolor": "white",
             "linecolor": "white",
             "minorgridcolor": "white",
             "startlinecolor": "#2a3f5f"
            },
            "type": "carpet"
           }
          ],
          "choropleth": [
           {
            "colorbar": {
             "outlinewidth": 0,
             "ticks": ""
            },
            "type": "choropleth"
           }
          ],
          "contour": [
           {
            "colorbar": {
             "outlinewidth": 0,
             "ticks": ""
            },
            "colorscale": [
             [
              0,
              "#0d0887"
             ],
             [
              0.1111111111111111,
              "#46039f"
             ],
             [
              0.2222222222222222,
              "#7201a8"
             ],
             [
              0.3333333333333333,
              "#9c179e"
             ],
             [
              0.4444444444444444,
              "#bd3786"
             ],
             [
              0.5555555555555556,
              "#d8576b"
             ],
             [
              0.6666666666666666,
              "#ed7953"
             ],
             [
              0.7777777777777778,
              "#fb9f3a"
             ],
             [
              0.8888888888888888,
              "#fdca26"
             ],
             [
              1,
              "#f0f921"
             ]
            ],
            "type": "contour"
           }
          ],
          "contourcarpet": [
           {
            "colorbar": {
             "outlinewidth": 0,
             "ticks": ""
            },
            "type": "contourcarpet"
           }
          ],
          "heatmap": [
           {
            "colorbar": {
             "outlinewidth": 0,
             "ticks": ""
            },
            "colorscale": [
             [
              0,
              "#0d0887"
             ],
             [
              0.1111111111111111,
              "#46039f"
             ],
             [
              0.2222222222222222,
              "#7201a8"
             ],
             [
              0.3333333333333333,
              "#9c179e"
             ],
             [
              0.4444444444444444,
              "#bd3786"
             ],
             [
              0.5555555555555556,
              "#d8576b"
             ],
             [
              0.6666666666666666,
              "#ed7953"
             ],
             [
              0.7777777777777778,
              "#fb9f3a"
             ],
             [
              0.8888888888888888,
              "#fdca26"
             ],
             [
              1,
              "#f0f921"
             ]
            ],
            "type": "heatmap"
           }
          ],
          "histogram": [
           {
            "marker": {
             "pattern": {
              "fillmode": "overlay",
              "size": 10,
              "solidity": 0.2
             }
            },
            "type": "histogram"
           }
          ],
          "histogram2d": [
           {
            "colorbar": {
             "outlinewidth": 0,
             "ticks": ""
            },
            "colorscale": [
             [
              0,
              "#0d0887"
             ],
             [
              0.1111111111111111,
              "#46039f"
             ],
             [
              0.2222222222222222,
              "#7201a8"
             ],
             [
              0.3333333333333333,
              "#9c179e"
             ],
             [
              0.4444444444444444,
              "#bd3786"
             ],
             [
              0.5555555555555556,
              "#d8576b"
             ],
             [
              0.6666666666666666,
              "#ed7953"
             ],
             [
              0.7777777777777778,
              "#fb9f3a"
             ],
             [
              0.8888888888888888,
              "#fdca26"
             ],
             [
              1,
              "#f0f921"
             ]
            ],
            "type": "histogram2d"
           }
          ],
          "histogram2dcontour": [
           {
            "colorbar": {
             "outlinewidth": 0,
             "ticks": ""
            },
            "colorscale": [
             [
              0,
              "#0d0887"
             ],
             [
              0.1111111111111111,
              "#46039f"
             ],
             [
              0.2222222222222222,
              "#7201a8"
             ],
             [
              0.3333333333333333,
              "#9c179e"
             ],
             [
              0.4444444444444444,
              "#bd3786"
             ],
             [
              0.5555555555555556,
              "#d8576b"
             ],
             [
              0.6666666666666666,
              "#ed7953"
             ],
             [
              0.7777777777777778,
              "#fb9f3a"
             ],
             [
              0.8888888888888888,
              "#fdca26"
             ],
             [
              1,
              "#f0f921"
             ]
            ],
            "type": "histogram2dcontour"
           }
          ],
          "mesh3d": [
           {
            "colorbar": {
             "outlinewidth": 0,
             "ticks": ""
            },
            "type": "mesh3d"
           }
          ],
          "parcoords": [
           {
            "line": {
             "colorbar": {
              "outlinewidth": 0,
              "ticks": ""
             }
            },
            "type": "parcoords"
           }
          ],
          "pie": [
           {
            "automargin": true,
            "type": "pie"
           }
          ],
          "scatter": [
           {
            "fillpattern": {
             "fillmode": "overlay",
             "size": 10,
             "solidity": 0.2
            },
            "type": "scatter"
           }
          ],
          "scatter3d": [
           {
            "line": {
             "colorbar": {
              "outlinewidth": 0,
              "ticks": ""
             }
            },
            "marker": {
             "colorbar": {
              "outlinewidth": 0,
              "ticks": ""
             }
            },
            "type": "scatter3d"
           }
          ],
          "scattercarpet": [
           {
            "marker": {
             "colorbar": {
              "outlinewidth": 0,
              "ticks": ""
             }
            },
            "type": "scattercarpet"
           }
          ],
          "scattergeo": [
           {
            "marker": {
             "colorbar": {
              "outlinewidth": 0,
              "ticks": ""
             }
            },
            "type": "scattergeo"
           }
          ],
          "scattergl": [
           {
            "marker": {
             "colorbar": {
              "outlinewidth": 0,
              "ticks": ""
             }
            },
            "type": "scattergl"
           }
          ],
          "scattermap": [
           {
            "marker": {
             "colorbar": {
              "outlinewidth": 0,
              "ticks": ""
             }
            },
            "type": "scattermap"
           }
          ],
          "scattermapbox": [
           {
            "marker": {
             "colorbar": {
              "outlinewidth": 0,
              "ticks": ""
             }
            },
            "type": "scattermapbox"
           }
          ],
          "scatterpolar": [
           {
            "marker": {
             "colorbar": {
              "outlinewidth": 0,
              "ticks": ""
             }
            },
            "type": "scatterpolar"
           }
          ],
          "scatterpolargl": [
           {
            "marker": {
             "colorbar": {
              "outlinewidth": 0,
              "ticks": ""
             }
            },
            "type": "scatterpolargl"
           }
          ],
          "scatterternary": [
           {
            "marker": {
             "colorbar": {
              "outlinewidth": 0,
              "ticks": ""
             }
            },
            "type": "scatterternary"
           }
          ],
          "surface": [
           {
            "colorbar": {
             "outlinewidth": 0,
             "ticks": ""
            },
            "colorscale": [
             [
              0,
              "#0d0887"
             ],
             [
              0.1111111111111111,
              "#46039f"
             ],
             [
              0.2222222222222222,
              "#7201a8"
             ],
             [
              0.3333333333333333,
              "#9c179e"
             ],
             [
              0.4444444444444444,
              "#bd3786"
             ],
             [
              0.5555555555555556,
              "#d8576b"
             ],
             [
              0.6666666666666666,
              "#ed7953"
             ],
             [
              0.7777777777777778,
              "#fb9f3a"
             ],
             [
              0.8888888888888888,
              "#fdca26"
             ],
             [
              1,
              "#f0f921"
             ]
            ],
            "type": "surface"
           }
          ],
          "table": [
           {
            "cells": {
             "fill": {
              "color": "#EBF0F8"
             },
             "line": {
              "color": "white"
             }
            },
            "header": {
             "fill": {
              "color": "#C8D4E3"
             },
             "line": {
              "color": "white"
             }
            },
            "type": "table"
           }
          ]
         },
         "layout": {
          "annotationdefaults": {
           "arrowcolor": "#2a3f5f",
           "arrowhead": 0,
           "arrowwidth": 1
          },
          "autotypenumbers": "strict",
          "coloraxis": {
           "colorbar": {
            "outlinewidth": 0,
            "ticks": ""
           }
          },
          "colorscale": {
           "diverging": [
            [
             0,
             "#8e0152"
            ],
            [
             0.1,
             "#c51b7d"
            ],
            [
             0.2,
             "#de77ae"
            ],
            [
             0.3,
             "#f1b6da"
            ],
            [
             0.4,
             "#fde0ef"
            ],
            [
             0.5,
             "#f7f7f7"
            ],
            [
             0.6,
             "#e6f5d0"
            ],
            [
             0.7,
             "#b8e186"
            ],
            [
             0.8,
             "#7fbc41"
            ],
            [
             0.9,
             "#4d9221"
            ],
            [
             1,
             "#276419"
            ]
           ],
           "sequential": [
            [
             0,
             "#0d0887"
            ],
            [
             0.1111111111111111,
             "#46039f"
            ],
            [
             0.2222222222222222,
             "#7201a8"
            ],
            [
             0.3333333333333333,
             "#9c179e"
            ],
            [
             0.4444444444444444,
             "#bd3786"
            ],
            [
             0.5555555555555556,
             "#d8576b"
            ],
            [
             0.6666666666666666,
             "#ed7953"
            ],
            [
             0.7777777777777778,
             "#fb9f3a"
            ],
            [
             0.8888888888888888,
             "#fdca26"
            ],
            [
             1,
             "#f0f921"
            ]
           ],
           "sequentialminus": [
            [
             0,
             "#0d0887"
            ],
            [
             0.1111111111111111,
             "#46039f"
            ],
            [
             0.2222222222222222,
             "#7201a8"
            ],
            [
             0.3333333333333333,
             "#9c179e"
            ],
            [
             0.4444444444444444,
             "#bd3786"
            ],
            [
             0.5555555555555556,
             "#d8576b"
            ],
            [
             0.6666666666666666,
             "#ed7953"
            ],
            [
             0.7777777777777778,
             "#fb9f3a"
            ],
            [
             0.8888888888888888,
             "#fdca26"
            ],
            [
             1,
             "#f0f921"
            ]
           ]
          },
          "colorway": [
           "#636efa",
           "#EF553B",
           "#00cc96",
           "#ab63fa",
           "#FFA15A",
           "#19d3f3",
           "#FF6692",
           "#B6E880",
           "#FF97FF",
           "#FECB52"
          ],
          "font": {
           "color": "#2a3f5f"
          },
          "geo": {
           "bgcolor": "white",
           "lakecolor": "white",
           "landcolor": "#E5ECF6",
           "showlakes": true,
           "showland": true,
           "subunitcolor": "white"
          },
          "hoverlabel": {
           "align": "left"
          },
          "hovermode": "closest",
          "mapbox": {
           "style": "light"
          },
          "paper_bgcolor": "white",
          "plot_bgcolor": "#E5ECF6",
          "polar": {
           "angularaxis": {
            "gridcolor": "white",
            "linecolor": "white",
            "ticks": ""
           },
           "bgcolor": "#E5ECF6",
           "radialaxis": {
            "gridcolor": "white",
            "linecolor": "white",
            "ticks": ""
           }
          },
          "scene": {
           "xaxis": {
            "backgroundcolor": "#E5ECF6",
            "gridcolor": "white",
            "gridwidth": 2,
            "linecolor": "white",
            "showbackground": true,
            "ticks": "",
            "zerolinecolor": "white"
           },
           "yaxis": {
            "backgroundcolor": "#E5ECF6",
            "gridcolor": "white",
            "gridwidth": 2,
            "linecolor": "white",
            "showbackground": true,
            "ticks": "",
            "zerolinecolor": "white"
           },
           "zaxis": {
            "backgroundcolor": "#E5ECF6",
            "gridcolor": "white",
            "gridwidth": 2,
            "linecolor": "white",
            "showbackground": true,
            "ticks": "",
            "zerolinecolor": "white"
           }
          },
          "shapedefaults": {
           "line": {
            "color": "#2a3f5f"
           }
          },
          "ternary": {
           "aaxis": {
            "gridcolor": "white",
            "linecolor": "white",
            "ticks": ""
           },
           "baxis": {
            "gridcolor": "white",
            "linecolor": "white",
            "ticks": ""
           },
           "bgcolor": "#E5ECF6",
           "caxis": {
            "gridcolor": "white",
            "linecolor": "white",
            "ticks": ""
           }
          },
          "title": {
           "x": 0.05
          },
          "xaxis": {
           "automargin": true,
           "gridcolor": "white",
           "linecolor": "white",
           "ticks": "",
           "title": {
            "standoff": 15
           },
           "zerolinecolor": "white",
           "zerolinewidth": 2
          },
          "yaxis": {
           "automargin": true,
           "gridcolor": "white",
           "linecolor": "white",
           "ticks": "",
           "title": {
            "standoff": 15
           },
           "zerolinecolor": "white",
           "zerolinewidth": 2
          }
         }
        },
        "title": {
         "text": "Inferred Temperature Readings Over Time"
        },
        "xaxis": {
         "anchor": "y",
         "domain": [
          0,
          1
         ],
         "title": {
          "text": "timestamp"
         }
        },
        "yaxis": {
         "anchor": "x",
         "domain": [
          0,
          1
         ],
         "title": {
          "text": "Inferred Temperature (°C)"
         }
        }
       }
      }
     },
     "metadata": {},
     "output_type": "display_data"
    }
   ],
   "source": [
    "fig = px.line(\n",
    "    df5_downsampled,\n",
    "    x=df5_downsampled.index,\n",
    "    y=\"ir_temperature\",\n",
    "    labels={\"ir_temperature\": \"Inferred Temperature (°C)\", \"index\": \"Time\"},\n",
    "    title=\"Inferred Temperature Readings Over Time\"\n",
    ")\n",
    "fig.show()"
   ]
  },
  {
   "cell_type": "code",
   "execution_count": 83,
   "id": "5ba5786e",
   "metadata": {},
   "outputs": [
    {
     "data": {
      "application/vnd.plotly.v1+json": {
       "config": {
        "plotlyServerURL": "https://plot.ly"
       },
       "data": [
        {
         "name": "Temperature",
         "type": "scatter",
         "x": [
          "2025-04-25T04:15:00.000000000",
          "2025-04-25T04:20:00.000000000",
          "2025-04-25T04:25:00.000000000",
          "2025-04-25T04:30:00.000000000",
          "2025-04-25T04:35:00.000000000",
          "2025-04-25T04:40:00.000000000",
          "2025-04-25T04:45:00.000000000",
          "2025-04-25T04:50:00.000000000",
          "2025-04-25T04:55:00.000000000",
          "2025-04-25T05:00:00.000000000",
          "2025-04-25T05:05:00.000000000",
          "2025-04-25T05:10:00.000000000",
          "2025-04-25T05:15:00.000000000",
          "2025-04-25T05:20:00.000000000",
          "2025-04-25T05:25:00.000000000",
          "2025-04-25T05:30:00.000000000",
          "2025-04-25T05:35:00.000000000",
          "2025-04-25T05:40:00.000000000",
          "2025-04-25T05:45:00.000000000",
          "2025-04-25T05:50:00.000000000",
          "2025-04-25T05:55:00.000000000",
          "2025-04-25T06:00:00.000000000",
          "2025-04-25T06:05:00.000000000",
          "2025-04-25T06:10:00.000000000",
          "2025-04-25T06:15:00.000000000",
          "2025-04-25T06:20:00.000000000",
          "2025-04-25T06:25:00.000000000",
          "2025-04-25T06:30:00.000000000",
          "2025-04-25T06:35:00.000000000",
          "2025-04-25T06:40:00.000000000",
          "2025-04-25T06:45:00.000000000",
          "2025-04-25T06:50:00.000000000",
          "2025-04-25T06:55:00.000000000",
          "2025-04-25T07:00:00.000000000",
          "2025-04-25T07:05:00.000000000",
          "2025-04-25T07:10:00.000000000",
          "2025-04-25T07:15:00.000000000",
          "2025-04-25T07:20:00.000000000",
          "2025-04-25T07:25:00.000000000",
          "2025-04-25T07:30:00.000000000",
          "2025-04-25T07:35:00.000000000",
          "2025-04-25T07:40:00.000000000",
          "2025-04-25T07:45:00.000000000",
          "2025-04-25T07:50:00.000000000",
          "2025-04-25T07:55:00.000000000",
          "2025-04-25T08:00:00.000000000",
          "2025-04-25T08:05:00.000000000",
          "2025-04-25T08:10:00.000000000",
          "2025-04-25T08:15:00.000000000",
          "2025-04-25T08:20:00.000000000",
          "2025-04-25T08:25:00.000000000",
          "2025-04-25T08:30:00.000000000",
          "2025-04-25T08:35:00.000000000",
          "2025-04-25T08:40:00.000000000",
          "2025-04-25T08:45:00.000000000",
          "2025-04-25T08:50:00.000000000",
          "2025-04-25T08:55:00.000000000",
          "2025-04-25T09:00:00.000000000",
          "2025-04-25T09:05:00.000000000",
          "2025-04-25T09:10:00.000000000",
          "2025-04-25T09:15:00.000000000",
          "2025-04-25T09:20:00.000000000",
          "2025-04-25T09:25:00.000000000",
          "2025-04-25T09:30:00.000000000",
          "2025-04-25T09:35:00.000000000",
          "2025-04-25T09:40:00.000000000",
          "2025-04-25T09:45:00.000000000",
          "2025-04-25T09:50:00.000000000",
          "2025-04-25T09:55:00.000000000",
          "2025-04-25T10:00:00.000000000",
          "2025-04-25T10:05:00.000000000",
          "2025-04-25T10:10:00.000000000",
          "2025-04-25T10:15:00.000000000",
          "2025-04-25T10:20:00.000000000",
          "2025-04-25T10:25:00.000000000",
          "2025-04-25T10:30:00.000000000",
          "2025-04-25T10:35:00.000000000",
          "2025-04-25T10:40:00.000000000",
          "2025-04-25T10:45:00.000000000",
          "2025-04-25T10:50:00.000000000",
          "2025-04-25T10:55:00.000000000",
          "2025-04-25T11:00:00.000000000",
          "2025-04-25T11:05:00.000000000",
          "2025-04-25T11:10:00.000000000",
          "2025-04-25T11:15:00.000000000",
          "2025-04-25T11:20:00.000000000",
          "2025-04-25T11:25:00.000000000",
          "2025-04-25T11:30:00.000000000",
          "2025-04-25T11:35:00.000000000",
          "2025-04-25T11:40:00.000000000",
          "2025-04-25T11:45:00.000000000",
          "2025-04-25T11:50:00.000000000",
          "2025-04-25T11:55:00.000000000",
          "2025-04-25T12:00:00.000000000",
          "2025-04-25T12:05:00.000000000",
          "2025-04-25T12:10:00.000000000",
          "2025-04-25T12:15:00.000000000",
          "2025-04-25T12:20:00.000000000",
          "2025-04-25T12:25:00.000000000",
          "2025-04-25T12:30:00.000000000",
          "2025-04-25T12:35:00.000000000",
          "2025-04-25T12:40:00.000000000",
          "2025-04-25T12:45:00.000000000",
          "2025-04-25T12:50:00.000000000",
          "2025-04-25T12:55:00.000000000",
          "2025-04-25T13:00:00.000000000",
          "2025-04-25T13:05:00.000000000",
          "2025-04-25T13:10:00.000000000",
          "2025-04-25T13:15:00.000000000",
          "2025-04-25T13:20:00.000000000",
          "2025-04-25T13:25:00.000000000",
          "2025-04-25T13:30:00.000000000",
          "2025-04-25T13:35:00.000000000",
          "2025-04-25T13:40:00.000000000",
          "2025-04-25T13:45:00.000000000",
          "2025-04-25T13:50:00.000000000",
          "2025-04-25T13:55:00.000000000",
          "2025-04-25T14:00:00.000000000",
          "2025-04-25T14:05:00.000000000",
          "2025-04-25T14:10:00.000000000",
          "2025-04-25T14:15:00.000000000",
          "2025-04-25T14:20:00.000000000",
          "2025-04-25T14:25:00.000000000",
          "2025-04-25T14:30:00.000000000",
          "2025-04-25T14:35:00.000000000",
          "2025-04-25T14:40:00.000000000",
          "2025-04-25T14:45:00.000000000",
          "2025-04-25T14:50:00.000000000",
          "2025-04-25T14:55:00.000000000",
          "2025-04-25T15:00:00.000000000",
          "2025-04-25T15:05:00.000000000",
          "2025-04-25T15:10:00.000000000",
          "2025-04-25T15:15:00.000000000",
          "2025-04-25T15:20:00.000000000",
          "2025-04-25T15:25:00.000000000",
          "2025-04-25T15:30:00.000000000",
          "2025-04-25T15:35:00.000000000",
          "2025-04-25T15:40:00.000000000",
          "2025-04-25T15:45:00.000000000",
          "2025-04-25T15:50:00.000000000",
          "2025-04-25T15:55:00.000000000",
          "2025-04-25T16:00:00.000000000",
          "2025-04-25T16:05:00.000000000",
          "2025-04-25T16:10:00.000000000",
          "2025-04-25T16:15:00.000000000",
          "2025-04-25T16:20:00.000000000",
          "2025-04-25T16:25:00.000000000",
          "2025-04-25T16:30:00.000000000",
          "2025-04-25T16:35:00.000000000",
          "2025-04-25T16:40:00.000000000",
          "2025-04-25T16:45:00.000000000",
          "2025-04-25T16:50:00.000000000",
          "2025-04-25T16:55:00.000000000",
          "2025-04-25T17:00:00.000000000",
          "2025-04-25T17:05:00.000000000",
          "2025-04-25T17:10:00.000000000",
          "2025-04-25T17:15:00.000000000",
          "2025-04-25T17:20:00.000000000",
          "2025-04-25T17:25:00.000000000",
          "2025-04-25T17:30:00.000000000",
          "2025-04-25T17:35:00.000000000",
          "2025-04-25T17:40:00.000000000",
          "2025-04-25T17:45:00.000000000",
          "2025-04-25T17:50:00.000000000",
          "2025-04-25T17:55:00.000000000",
          "2025-04-25T18:00:00.000000000",
          "2025-04-25T18:05:00.000000000",
          "2025-04-25T18:10:00.000000000",
          "2025-04-25T18:15:00.000000000",
          "2025-04-25T18:20:00.000000000",
          "2025-04-25T18:25:00.000000000",
          "2025-04-25T18:30:00.000000000",
          "2025-04-25T18:35:00.000000000",
          "2025-04-25T18:40:00.000000000",
          "2025-04-25T18:45:00.000000000",
          "2025-04-25T18:50:00.000000000",
          "2025-04-25T18:55:00.000000000",
          "2025-04-25T19:00:00.000000000",
          "2025-04-25T19:05:00.000000000",
          "2025-04-25T19:10:00.000000000",
          "2025-04-25T19:15:00.000000000",
          "2025-04-25T19:20:00.000000000",
          "2025-04-25T19:25:00.000000000",
          "2025-04-25T19:30:00.000000000",
          "2025-04-25T19:35:00.000000000",
          "2025-04-25T19:40:00.000000000",
          "2025-04-25T19:45:00.000000000",
          "2025-04-25T19:50:00.000000000",
          "2025-04-25T19:55:00.000000000",
          "2025-04-25T20:00:00.000000000",
          "2025-04-25T20:05:00.000000000",
          "2025-04-25T20:10:00.000000000",
          "2025-04-25T20:15:00.000000000",
          "2025-04-25T20:20:00.000000000",
          "2025-04-25T20:25:00.000000000",
          "2025-04-25T20:30:00.000000000",
          "2025-04-25T20:35:00.000000000",
          "2025-04-25T20:40:00.000000000",
          "2025-04-25T20:45:00.000000000",
          "2025-04-25T20:50:00.000000000",
          "2025-04-25T20:55:00.000000000",
          "2025-04-25T21:00:00.000000000",
          "2025-04-25T21:05:00.000000000",
          "2025-04-25T21:10:00.000000000",
          "2025-04-25T21:15:00.000000000",
          "2025-04-25T21:20:00.000000000",
          "2025-04-25T21:25:00.000000000",
          "2025-04-25T21:30:00.000000000",
          "2025-04-25T21:35:00.000000000",
          "2025-04-25T21:40:00.000000000",
          "2025-04-25T21:45:00.000000000",
          "2025-04-25T21:50:00.000000000",
          "2025-04-25T21:55:00.000000000",
          "2025-04-25T22:00:00.000000000",
          "2025-04-25T22:05:00.000000000",
          "2025-04-25T22:10:00.000000000",
          "2025-04-25T22:15:00.000000000",
          "2025-04-25T22:20:00.000000000",
          "2025-04-25T22:25:00.000000000",
          "2025-04-25T22:30:00.000000000",
          "2025-04-25T22:35:00.000000000",
          "2025-04-25T22:40:00.000000000",
          "2025-04-25T22:45:00.000000000",
          "2025-04-25T22:50:00.000000000",
          "2025-04-25T22:55:00.000000000",
          "2025-04-25T23:00:00.000000000",
          "2025-04-25T23:05:00.000000000",
          "2025-04-25T23:10:00.000000000",
          "2025-04-25T23:15:00.000000000",
          "2025-04-25T23:20:00.000000000",
          "2025-04-25T23:25:00.000000000",
          "2025-04-25T23:30:00.000000000",
          "2025-04-25T23:35:00.000000000",
          "2025-04-25T23:40:00.000000000",
          "2025-04-25T23:45:00.000000000",
          "2025-04-25T23:50:00.000000000",
          "2025-04-25T23:55:00.000000000"
         ],
         "xaxis": "x",
         "y": {
          "bdata": "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",
          "dtype": "f8"
         },
         "yaxis": "y"
        },
        {
         "name": "IR Temperature",
         "type": "scatter",
         "x": [
          "2025-04-25T04:15:00.000000000",
          "2025-04-25T04:20:00.000000000",
          "2025-04-25T04:25:00.000000000",
          "2025-04-25T04:30:00.000000000",
          "2025-04-25T04:35:00.000000000",
          "2025-04-25T04:40:00.000000000",
          "2025-04-25T04:45:00.000000000",
          "2025-04-25T04:50:00.000000000",
          "2025-04-25T04:55:00.000000000",
          "2025-04-25T05:00:00.000000000",
          "2025-04-25T05:05:00.000000000",
          "2025-04-25T05:10:00.000000000",
          "2025-04-25T05:15:00.000000000",
          "2025-04-25T05:20:00.000000000",
          "2025-04-25T05:25:00.000000000",
          "2025-04-25T05:30:00.000000000",
          "2025-04-25T05:35:00.000000000",
          "2025-04-25T05:40:00.000000000",
          "2025-04-25T05:45:00.000000000",
          "2025-04-25T05:50:00.000000000",
          "2025-04-25T05:55:00.000000000",
          "2025-04-25T06:00:00.000000000",
          "2025-04-25T06:05:00.000000000",
          "2025-04-25T06:10:00.000000000",
          "2025-04-25T06:15:00.000000000",
          "2025-04-25T06:20:00.000000000",
          "2025-04-25T06:25:00.000000000",
          "2025-04-25T06:30:00.000000000",
          "2025-04-25T06:35:00.000000000",
          "2025-04-25T06:40:00.000000000",
          "2025-04-25T06:45:00.000000000",
          "2025-04-25T06:50:00.000000000",
          "2025-04-25T06:55:00.000000000",
          "2025-04-25T07:00:00.000000000",
          "2025-04-25T07:05:00.000000000",
          "2025-04-25T07:10:00.000000000",
          "2025-04-25T07:15:00.000000000",
          "2025-04-25T07:20:00.000000000",
          "2025-04-25T07:25:00.000000000",
          "2025-04-25T07:30:00.000000000",
          "2025-04-25T07:35:00.000000000",
          "2025-04-25T07:40:00.000000000",
          "2025-04-25T07:45:00.000000000",
          "2025-04-25T07:50:00.000000000",
          "2025-04-25T07:55:00.000000000",
          "2025-04-25T08:00:00.000000000",
          "2025-04-25T08:05:00.000000000",
          "2025-04-25T08:10:00.000000000",
          "2025-04-25T08:15:00.000000000",
          "2025-04-25T08:20:00.000000000",
          "2025-04-25T08:25:00.000000000",
          "2025-04-25T08:30:00.000000000",
          "2025-04-25T08:35:00.000000000",
          "2025-04-25T08:40:00.000000000",
          "2025-04-25T08:45:00.000000000",
          "2025-04-25T08:50:00.000000000",
          "2025-04-25T08:55:00.000000000",
          "2025-04-25T09:00:00.000000000",
          "2025-04-25T09:05:00.000000000",
          "2025-04-25T09:10:00.000000000",
          "2025-04-25T09:15:00.000000000",
          "2025-04-25T09:20:00.000000000",
          "2025-04-25T09:25:00.000000000",
          "2025-04-25T09:30:00.000000000",
          "2025-04-25T09:35:00.000000000",
          "2025-04-25T09:40:00.000000000",
          "2025-04-25T09:45:00.000000000",
          "2025-04-25T09:50:00.000000000",
          "2025-04-25T09:55:00.000000000",
          "2025-04-25T10:00:00.000000000",
          "2025-04-25T10:05:00.000000000",
          "2025-04-25T10:10:00.000000000",
          "2025-04-25T10:15:00.000000000",
          "2025-04-25T10:20:00.000000000",
          "2025-04-25T10:25:00.000000000",
          "2025-04-25T10:30:00.000000000",
          "2025-04-25T10:35:00.000000000",
          "2025-04-25T10:40:00.000000000",
          "2025-04-25T10:45:00.000000000",
          "2025-04-25T10:50:00.000000000",
          "2025-04-25T10:55:00.000000000",
          "2025-04-25T11:00:00.000000000",
          "2025-04-25T11:05:00.000000000",
          "2025-04-25T11:10:00.000000000",
          "2025-04-25T11:15:00.000000000",
          "2025-04-25T11:20:00.000000000",
          "2025-04-25T11:25:00.000000000",
          "2025-04-25T11:30:00.000000000",
          "2025-04-25T11:35:00.000000000",
          "2025-04-25T11:40:00.000000000",
          "2025-04-25T11:45:00.000000000",
          "2025-04-25T11:50:00.000000000",
          "2025-04-25T11:55:00.000000000",
          "2025-04-25T12:00:00.000000000",
          "2025-04-25T12:05:00.000000000",
          "2025-04-25T12:10:00.000000000",
          "2025-04-25T12:15:00.000000000",
          "2025-04-25T12:20:00.000000000",
          "2025-04-25T12:25:00.000000000",
          "2025-04-25T12:30:00.000000000",
          "2025-04-25T12:35:00.000000000",
          "2025-04-25T12:40:00.000000000",
          "2025-04-25T12:45:00.000000000",
          "2025-04-25T12:50:00.000000000",
          "2025-04-25T12:55:00.000000000",
          "2025-04-25T13:00:00.000000000",
          "2025-04-25T13:05:00.000000000",
          "2025-04-25T13:10:00.000000000",
          "2025-04-25T13:15:00.000000000",
          "2025-04-25T13:20:00.000000000",
          "2025-04-25T13:25:00.000000000",
          "2025-04-25T13:30:00.000000000",
          "2025-04-25T13:35:00.000000000",
          "2025-04-25T13:40:00.000000000",
          "2025-04-25T13:45:00.000000000",
          "2025-04-25T13:50:00.000000000",
          "2025-04-25T13:55:00.000000000",
          "2025-04-25T14:00:00.000000000",
          "2025-04-25T14:05:00.000000000",
          "2025-04-25T14:10:00.000000000",
          "2025-04-25T14:15:00.000000000",
          "2025-04-25T14:20:00.000000000",
          "2025-04-25T14:25:00.000000000",
          "2025-04-25T14:30:00.000000000",
          "2025-04-25T14:35:00.000000000",
          "2025-04-25T14:40:00.000000000",
          "2025-04-25T14:45:00.000000000",
          "2025-04-25T14:50:00.000000000",
          "2025-04-25T14:55:00.000000000",
          "2025-04-25T15:00:00.000000000",
          "2025-04-25T15:05:00.000000000",
          "2025-04-25T15:10:00.000000000",
          "2025-04-25T15:15:00.000000000",
          "2025-04-25T15:20:00.000000000",
          "2025-04-25T15:25:00.000000000",
          "2025-04-25T15:30:00.000000000",
          "2025-04-25T15:35:00.000000000",
          "2025-04-25T15:40:00.000000000",
          "2025-04-25T15:45:00.000000000",
          "2025-04-25T15:50:00.000000000",
          "2025-04-25T15:55:00.000000000",
          "2025-04-25T16:00:00.000000000",
          "2025-04-25T16:05:00.000000000",
          "2025-04-25T16:10:00.000000000",
          "2025-04-25T16:15:00.000000000",
          "2025-04-25T16:20:00.000000000",
          "2025-04-25T16:25:00.000000000",
          "2025-04-25T16:30:00.000000000",
          "2025-04-25T16:35:00.000000000",
          "2025-04-25T16:40:00.000000000",
          "2025-04-25T16:45:00.000000000",
          "2025-04-25T16:50:00.000000000",
          "2025-04-25T16:55:00.000000000",
          "2025-04-25T17:00:00.000000000",
          "2025-04-25T17:05:00.000000000",
          "2025-04-25T17:10:00.000000000",
          "2025-04-25T17:15:00.000000000",
          "2025-04-25T17:20:00.000000000",
          "2025-04-25T17:25:00.000000000",
          "2025-04-25T17:30:00.000000000",
          "2025-04-25T17:35:00.000000000",
          "2025-04-25T17:40:00.000000000",
          "2025-04-25T17:45:00.000000000",
          "2025-04-25T17:50:00.000000000",
          "2025-04-25T17:55:00.000000000",
          "2025-04-25T18:00:00.000000000",
          "2025-04-25T18:05:00.000000000",
          "2025-04-25T18:10:00.000000000",
          "2025-04-25T18:15:00.000000000",
          "2025-04-25T18:20:00.000000000",
          "2025-04-25T18:25:00.000000000",
          "2025-04-25T18:30:00.000000000",
          "2025-04-25T18:35:00.000000000",
          "2025-04-25T18:40:00.000000000",
          "2025-04-25T18:45:00.000000000",
          "2025-04-25T18:50:00.000000000",
          "2025-04-25T18:55:00.000000000",
          "2025-04-25T19:00:00.000000000",
          "2025-04-25T19:05:00.000000000",
          "2025-04-25T19:10:00.000000000",
          "2025-04-25T19:15:00.000000000",
          "2025-04-25T19:20:00.000000000",
          "2025-04-25T19:25:00.000000000",
          "2025-04-25T19:30:00.000000000",
          "2025-04-25T19:35:00.000000000",
          "2025-04-25T19:40:00.000000000",
          "2025-04-25T19:45:00.000000000",
          "2025-04-25T19:50:00.000000000",
          "2025-04-25T19:55:00.000000000",
          "2025-04-25T20:00:00.000000000",
          "2025-04-25T20:05:00.000000000",
          "2025-04-25T20:10:00.000000000",
          "2025-04-25T20:15:00.000000000",
          "2025-04-25T20:20:00.000000000",
          "2025-04-25T20:25:00.000000000",
          "2025-04-25T20:30:00.000000000",
          "2025-04-25T20:35:00.000000000",
          "2025-04-25T20:40:00.000000000",
          "2025-04-25T20:45:00.000000000",
          "2025-04-25T20:50:00.000000000",
          "2025-04-25T20:55:00.000000000",
          "2025-04-25T21:00:00.000000000",
          "2025-04-25T21:05:00.000000000",
          "2025-04-25T21:10:00.000000000",
          "2025-04-25T21:15:00.000000000",
          "2025-04-25T21:20:00.000000000",
          "2025-04-25T21:25:00.000000000",
          "2025-04-25T21:30:00.000000000",
          "2025-04-25T21:35:00.000000000",
          "2025-04-25T21:40:00.000000000",
          "2025-04-25T21:45:00.000000000",
          "2025-04-25T21:50:00.000000000",
          "2025-04-25T21:55:00.000000000",
          "2025-04-25T22:00:00.000000000",
          "2025-04-25T22:05:00.000000000",
          "2025-04-25T22:10:00.000000000",
          "2025-04-25T22:15:00.000000000",
          "2025-04-25T22:20:00.000000000",
          "2025-04-25T22:25:00.000000000",
          "2025-04-25T22:30:00.000000000",
          "2025-04-25T22:35:00.000000000",
          "2025-04-25T22:40:00.000000000",
          "2025-04-25T22:45:00.000000000",
          "2025-04-25T22:50:00.000000000",
          "2025-04-25T22:55:00.000000000",
          "2025-04-25T23:00:00.000000000",
          "2025-04-25T23:05:00.000000000",
          "2025-04-25T23:10:00.000000000",
          "2025-04-25T23:15:00.000000000",
          "2025-04-25T23:20:00.000000000",
          "2025-04-25T23:25:00.000000000",
          "2025-04-25T23:30:00.000000000",
          "2025-04-25T23:35:00.000000000",
          "2025-04-25T23:40:00.000000000",
          "2025-04-25T23:45:00.000000000",
          "2025-04-25T23:50:00.000000000",
          "2025-04-25T23:55:00.000000000"
         ],
         "xaxis": "x2",
         "y": {
          "bdata": "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",
          "dtype": "f8"
         },
         "yaxis": "y2"
        },
        {
         "name": "Humidity",
         "type": "scatter",
         "x": [
          "2025-04-25T04:15:00.000000000",
          "2025-04-25T04:20:00.000000000",
          "2025-04-25T04:25:00.000000000",
          "2025-04-25T04:30:00.000000000",
          "2025-04-25T04:35:00.000000000",
          "2025-04-25T04:40:00.000000000",
          "2025-04-25T04:45:00.000000000",
          "2025-04-25T04:50:00.000000000",
          "2025-04-25T04:55:00.000000000",
          "2025-04-25T05:00:00.000000000",
          "2025-04-25T05:05:00.000000000",
          "2025-04-25T05:10:00.000000000",
          "2025-04-25T05:15:00.000000000",
          "2025-04-25T05:20:00.000000000",
          "2025-04-25T05:25:00.000000000",
          "2025-04-25T05:30:00.000000000",
          "2025-04-25T05:35:00.000000000",
          "2025-04-25T05:40:00.000000000",
          "2025-04-25T05:45:00.000000000",
          "2025-04-25T05:50:00.000000000",
          "2025-04-25T05:55:00.000000000",
          "2025-04-25T06:00:00.000000000",
          "2025-04-25T06:05:00.000000000",
          "2025-04-25T06:10:00.000000000",
          "2025-04-25T06:15:00.000000000",
          "2025-04-25T06:20:00.000000000",
          "2025-04-25T06:25:00.000000000",
          "2025-04-25T06:30:00.000000000",
          "2025-04-25T06:35:00.000000000",
          "2025-04-25T06:40:00.000000000",
          "2025-04-25T06:45:00.000000000",
          "2025-04-25T06:50:00.000000000",
          "2025-04-25T06:55:00.000000000",
          "2025-04-25T07:00:00.000000000",
          "2025-04-25T07:05:00.000000000",
          "2025-04-25T07:10:00.000000000",
          "2025-04-25T07:15:00.000000000",
          "2025-04-25T07:20:00.000000000",
          "2025-04-25T07:25:00.000000000",
          "2025-04-25T07:30:00.000000000",
          "2025-04-25T07:35:00.000000000",
          "2025-04-25T07:40:00.000000000",
          "2025-04-25T07:45:00.000000000",
          "2025-04-25T07:50:00.000000000",
          "2025-04-25T07:55:00.000000000",
          "2025-04-25T08:00:00.000000000",
          "2025-04-25T08:05:00.000000000",
          "2025-04-25T08:10:00.000000000",
          "2025-04-25T08:15:00.000000000",
          "2025-04-25T08:20:00.000000000",
          "2025-04-25T08:25:00.000000000",
          "2025-04-25T08:30:00.000000000",
          "2025-04-25T08:35:00.000000000",
          "2025-04-25T08:40:00.000000000",
          "2025-04-25T08:45:00.000000000",
          "2025-04-25T08:50:00.000000000",
          "2025-04-25T08:55:00.000000000",
          "2025-04-25T09:00:00.000000000",
          "2025-04-25T09:05:00.000000000",
          "2025-04-25T09:10:00.000000000",
          "2025-04-25T09:15:00.000000000",
          "2025-04-25T09:20:00.000000000",
          "2025-04-25T09:25:00.000000000",
          "2025-04-25T09:30:00.000000000",
          "2025-04-25T09:35:00.000000000",
          "2025-04-25T09:40:00.000000000",
          "2025-04-25T09:45:00.000000000",
          "2025-04-25T09:50:00.000000000",
          "2025-04-25T09:55:00.000000000",
          "2025-04-25T10:00:00.000000000",
          "2025-04-25T10:05:00.000000000",
          "2025-04-25T10:10:00.000000000",
          "2025-04-25T10:15:00.000000000",
          "2025-04-25T10:20:00.000000000",
          "2025-04-25T10:25:00.000000000",
          "2025-04-25T10:30:00.000000000",
          "2025-04-25T10:35:00.000000000",
          "2025-04-25T10:40:00.000000000",
          "2025-04-25T10:45:00.000000000",
          "2025-04-25T10:50:00.000000000",
          "2025-04-25T10:55:00.000000000",
          "2025-04-25T11:00:00.000000000",
          "2025-04-25T11:05:00.000000000",
          "2025-04-25T11:10:00.000000000",
          "2025-04-25T11:15:00.000000000",
          "2025-04-25T11:20:00.000000000",
          "2025-04-25T11:25:00.000000000",
          "2025-04-25T11:30:00.000000000",
          "2025-04-25T11:35:00.000000000",
          "2025-04-25T11:40:00.000000000",
          "2025-04-25T11:45:00.000000000",
          "2025-04-25T11:50:00.000000000",
          "2025-04-25T11:55:00.000000000",
          "2025-04-25T12:00:00.000000000",
          "2025-04-25T12:05:00.000000000",
          "2025-04-25T12:10:00.000000000",
          "2025-04-25T12:15:00.000000000",
          "2025-04-25T12:20:00.000000000",
          "2025-04-25T12:25:00.000000000",
          "2025-04-25T12:30:00.000000000",
          "2025-04-25T12:35:00.000000000",
          "2025-04-25T12:40:00.000000000",
          "2025-04-25T12:45:00.000000000",
          "2025-04-25T12:50:00.000000000",
          "2025-04-25T12:55:00.000000000",
          "2025-04-25T13:00:00.000000000",
          "2025-04-25T13:05:00.000000000",
          "2025-04-25T13:10:00.000000000",
          "2025-04-25T13:15:00.000000000",
          "2025-04-25T13:20:00.000000000",
          "2025-04-25T13:25:00.000000000",
          "2025-04-25T13:30:00.000000000",
          "2025-04-25T13:35:00.000000000",
          "2025-04-25T13:40:00.000000000",
          "2025-04-25T13:45:00.000000000",
          "2025-04-25T13:50:00.000000000",
          "2025-04-25T13:55:00.000000000",
          "2025-04-25T14:00:00.000000000",
          "2025-04-25T14:05:00.000000000",
          "2025-04-25T14:10:00.000000000",
          "2025-04-25T14:15:00.000000000",
          "2025-04-25T14:20:00.000000000",
          "2025-04-25T14:25:00.000000000",
          "2025-04-25T14:30:00.000000000",
          "2025-04-25T14:35:00.000000000",
          "2025-04-25T14:40:00.000000000",
          "2025-04-25T14:45:00.000000000",
          "2025-04-25T14:50:00.000000000",
          "2025-04-25T14:55:00.000000000",
          "2025-04-25T15:00:00.000000000",
          "2025-04-25T15:05:00.000000000",
          "2025-04-25T15:10:00.000000000",
          "2025-04-25T15:15:00.000000000",
          "2025-04-25T15:20:00.000000000",
          "2025-04-25T15:25:00.000000000",
          "2025-04-25T15:30:00.000000000",
          "2025-04-25T15:35:00.000000000",
          "2025-04-25T15:40:00.000000000",
          "2025-04-25T15:45:00.000000000",
          "2025-04-25T15:50:00.000000000",
          "2025-04-25T15:55:00.000000000",
          "2025-04-25T16:00:00.000000000",
          "2025-04-25T16:05:00.000000000",
          "2025-04-25T16:10:00.000000000",
          "2025-04-25T16:15:00.000000000",
          "2025-04-25T16:20:00.000000000",
          "2025-04-25T16:25:00.000000000",
          "2025-04-25T16:30:00.000000000",
          "2025-04-25T16:35:00.000000000",
          "2025-04-25T16:40:00.000000000",
          "2025-04-25T16:45:00.000000000",
          "2025-04-25T16:50:00.000000000",
          "2025-04-25T16:55:00.000000000",
          "2025-04-25T17:00:00.000000000",
          "2025-04-25T17:05:00.000000000",
          "2025-04-25T17:10:00.000000000",
          "2025-04-25T17:15:00.000000000",
          "2025-04-25T17:20:00.000000000",
          "2025-04-25T17:25:00.000000000",
          "2025-04-25T17:30:00.000000000",
          "2025-04-25T17:35:00.000000000",
          "2025-04-25T17:40:00.000000000",
          "2025-04-25T17:45:00.000000000",
          "2025-04-25T17:50:00.000000000",
          "2025-04-25T17:55:00.000000000",
          "2025-04-25T18:00:00.000000000",
          "2025-04-25T18:05:00.000000000",
          "2025-04-25T18:10:00.000000000",
          "2025-04-25T18:15:00.000000000",
          "2025-04-25T18:20:00.000000000",
          "2025-04-25T18:25:00.000000000",
          "2025-04-25T18:30:00.000000000",
          "2025-04-25T18:35:00.000000000",
          "2025-04-25T18:40:00.000000000",
          "2025-04-25T18:45:00.000000000",
          "2025-04-25T18:50:00.000000000",
          "2025-04-25T18:55:00.000000000",
          "2025-04-25T19:00:00.000000000",
          "2025-04-25T19:05:00.000000000",
          "2025-04-25T19:10:00.000000000",
          "2025-04-25T19:15:00.000000000",
          "2025-04-25T19:20:00.000000000",
          "2025-04-25T19:25:00.000000000",
          "2025-04-25T19:30:00.000000000",
          "2025-04-25T19:35:00.000000000",
          "2025-04-25T19:40:00.000000000",
          "2025-04-25T19:45:00.000000000",
          "2025-04-25T19:50:00.000000000",
          "2025-04-25T19:55:00.000000000",
          "2025-04-25T20:00:00.000000000",
          "2025-04-25T20:05:00.000000000",
          "2025-04-25T20:10:00.000000000",
          "2025-04-25T20:15:00.000000000",
          "2025-04-25T20:20:00.000000000",
          "2025-04-25T20:25:00.000000000",
          "2025-04-25T20:30:00.000000000",
          "2025-04-25T20:35:00.000000000",
          "2025-04-25T20:40:00.000000000",
          "2025-04-25T20:45:00.000000000",
          "2025-04-25T20:50:00.000000000",
          "2025-04-25T20:55:00.000000000",
          "2025-04-25T21:00:00.000000000",
          "2025-04-25T21:05:00.000000000",
          "2025-04-25T21:10:00.000000000",
          "2025-04-25T21:15:00.000000000",
          "2025-04-25T21:20:00.000000000",
          "2025-04-25T21:25:00.000000000",
          "2025-04-25T21:30:00.000000000",
          "2025-04-25T21:35:00.000000000",
          "2025-04-25T21:40:00.000000000",
          "2025-04-25T21:45:00.000000000",
          "2025-04-25T21:50:00.000000000",
          "2025-04-25T21:55:00.000000000",
          "2025-04-25T22:00:00.000000000",
          "2025-04-25T22:05:00.000000000",
          "2025-04-25T22:10:00.000000000",
          "2025-04-25T22:15:00.000000000",
          "2025-04-25T22:20:00.000000000",
          "2025-04-25T22:25:00.000000000",
          "2025-04-25T22:30:00.000000000",
          "2025-04-25T22:35:00.000000000",
          "2025-04-25T22:40:00.000000000",
          "2025-04-25T22:45:00.000000000",
          "2025-04-25T22:50:00.000000000",
          "2025-04-25T22:55:00.000000000",
          "2025-04-25T23:00:00.000000000",
          "2025-04-25T23:05:00.000000000",
          "2025-04-25T23:10:00.000000000",
          "2025-04-25T23:15:00.000000000",
          "2025-04-25T23:20:00.000000000",
          "2025-04-25T23:25:00.000000000",
          "2025-04-25T23:30:00.000000000",
          "2025-04-25T23:35:00.000000000",
          "2025-04-25T23:40:00.000000000",
          "2025-04-25T23:45:00.000000000",
          "2025-04-25T23:50:00.000000000",
          "2025-04-25T23:55:00.000000000"
         ],
         "xaxis": "x3",
         "y": {
          "bdata": "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",
          "dtype": "f8"
         },
         "yaxis": "y3"
        },
        {
         "name": "Smoke",
         "type": "scatter",
         "x": [
          "2025-04-25T04:15:00.000000000",
          "2025-04-25T04:20:00.000000000",
          "2025-04-25T04:25:00.000000000",
          "2025-04-25T04:30:00.000000000",
          "2025-04-25T04:35:00.000000000",
          "2025-04-25T04:40:00.000000000",
          "2025-04-25T04:45:00.000000000",
          "2025-04-25T04:50:00.000000000",
          "2025-04-25T04:55:00.000000000",
          "2025-04-25T05:00:00.000000000",
          "2025-04-25T05:05:00.000000000",
          "2025-04-25T05:10:00.000000000",
          "2025-04-25T05:15:00.000000000",
          "2025-04-25T05:20:00.000000000",
          "2025-04-25T05:25:00.000000000",
          "2025-04-25T05:30:00.000000000",
          "2025-04-25T05:35:00.000000000",
          "2025-04-25T05:40:00.000000000",
          "2025-04-25T05:45:00.000000000",
          "2025-04-25T05:50:00.000000000",
          "2025-04-25T05:55:00.000000000",
          "2025-04-25T06:00:00.000000000",
          "2025-04-25T06:05:00.000000000",
          "2025-04-25T06:10:00.000000000",
          "2025-04-25T06:15:00.000000000",
          "2025-04-25T06:20:00.000000000",
          "2025-04-25T06:25:00.000000000",
          "2025-04-25T06:30:00.000000000",
          "2025-04-25T06:35:00.000000000",
          "2025-04-25T06:40:00.000000000",
          "2025-04-25T06:45:00.000000000",
          "2025-04-25T06:50:00.000000000",
          "2025-04-25T06:55:00.000000000",
          "2025-04-25T07:00:00.000000000",
          "2025-04-25T07:05:00.000000000",
          "2025-04-25T07:10:00.000000000",
          "2025-04-25T07:15:00.000000000",
          "2025-04-25T07:20:00.000000000",
          "2025-04-25T07:25:00.000000000",
          "2025-04-25T07:30:00.000000000",
          "2025-04-25T07:35:00.000000000",
          "2025-04-25T07:40:00.000000000",
          "2025-04-25T07:45:00.000000000",
          "2025-04-25T07:50:00.000000000",
          "2025-04-25T07:55:00.000000000",
          "2025-04-25T08:00:00.000000000",
          "2025-04-25T08:05:00.000000000",
          "2025-04-25T08:10:00.000000000",
          "2025-04-25T08:15:00.000000000",
          "2025-04-25T08:20:00.000000000",
          "2025-04-25T08:25:00.000000000",
          "2025-04-25T08:30:00.000000000",
          "2025-04-25T08:35:00.000000000",
          "2025-04-25T08:40:00.000000000",
          "2025-04-25T08:45:00.000000000",
          "2025-04-25T08:50:00.000000000",
          "2025-04-25T08:55:00.000000000",
          "2025-04-25T09:00:00.000000000",
          "2025-04-25T09:05:00.000000000",
          "2025-04-25T09:10:00.000000000",
          "2025-04-25T09:15:00.000000000",
          "2025-04-25T09:20:00.000000000",
          "2025-04-25T09:25:00.000000000",
          "2025-04-25T09:30:00.000000000",
          "2025-04-25T09:35:00.000000000",
          "2025-04-25T09:40:00.000000000",
          "2025-04-25T09:45:00.000000000",
          "2025-04-25T09:50:00.000000000",
          "2025-04-25T09:55:00.000000000",
          "2025-04-25T10:00:00.000000000",
          "2025-04-25T10:05:00.000000000",
          "2025-04-25T10:10:00.000000000",
          "2025-04-25T10:15:00.000000000",
          "2025-04-25T10:20:00.000000000",
          "2025-04-25T10:25:00.000000000",
          "2025-04-25T10:30:00.000000000",
          "2025-04-25T10:35:00.000000000",
          "2025-04-25T10:40:00.000000000",
          "2025-04-25T10:45:00.000000000",
          "2025-04-25T10:50:00.000000000",
          "2025-04-25T10:55:00.000000000",
          "2025-04-25T11:00:00.000000000",
          "2025-04-25T11:05:00.000000000",
          "2025-04-25T11:10:00.000000000",
          "2025-04-25T11:15:00.000000000",
          "2025-04-25T11:20:00.000000000",
          "2025-04-25T11:25:00.000000000",
          "2025-04-25T11:30:00.000000000",
          "2025-04-25T11:35:00.000000000",
          "2025-04-25T11:40:00.000000000",
          "2025-04-25T11:45:00.000000000",
          "2025-04-25T11:50:00.000000000",
          "2025-04-25T11:55:00.000000000",
          "2025-04-25T12:00:00.000000000",
          "2025-04-25T12:05:00.000000000",
          "2025-04-25T12:10:00.000000000",
          "2025-04-25T12:15:00.000000000",
          "2025-04-25T12:20:00.000000000",
          "2025-04-25T12:25:00.000000000",
          "2025-04-25T12:30:00.000000000",
          "2025-04-25T12:35:00.000000000",
          "2025-04-25T12:40:00.000000000",
          "2025-04-25T12:45:00.000000000",
          "2025-04-25T12:50:00.000000000",
          "2025-04-25T12:55:00.000000000",
          "2025-04-25T13:00:00.000000000",
          "2025-04-25T13:05:00.000000000",
          "2025-04-25T13:10:00.000000000",
          "2025-04-25T13:15:00.000000000",
          "2025-04-25T13:20:00.000000000",
          "2025-04-25T13:25:00.000000000",
          "2025-04-25T13:30:00.000000000",
          "2025-04-25T13:35:00.000000000",
          "2025-04-25T13:40:00.000000000",
          "2025-04-25T13:45:00.000000000",
          "2025-04-25T13:50:00.000000000",
          "2025-04-25T13:55:00.000000000",
          "2025-04-25T14:00:00.000000000",
          "2025-04-25T14:05:00.000000000",
          "2025-04-25T14:10:00.000000000",
          "2025-04-25T14:15:00.000000000",
          "2025-04-25T14:20:00.000000000",
          "2025-04-25T14:25:00.000000000",
          "2025-04-25T14:30:00.000000000",
          "2025-04-25T14:35:00.000000000",
          "2025-04-25T14:40:00.000000000",
          "2025-04-25T14:45:00.000000000",
          "2025-04-25T14:50:00.000000000",
          "2025-04-25T14:55:00.000000000",
          "2025-04-25T15:00:00.000000000",
          "2025-04-25T15:05:00.000000000",
          "2025-04-25T15:10:00.000000000",
          "2025-04-25T15:15:00.000000000",
          "2025-04-25T15:20:00.000000000",
          "2025-04-25T15:25:00.000000000",
          "2025-04-25T15:30:00.000000000",
          "2025-04-25T15:35:00.000000000",
          "2025-04-25T15:40:00.000000000",
          "2025-04-25T15:45:00.000000000",
          "2025-04-25T15:50:00.000000000",
          "2025-04-25T15:55:00.000000000",
          "2025-04-25T16:00:00.000000000",
          "2025-04-25T16:05:00.000000000",
          "2025-04-25T16:10:00.000000000",
          "2025-04-25T16:15:00.000000000",
          "2025-04-25T16:20:00.000000000",
          "2025-04-25T16:25:00.000000000",
          "2025-04-25T16:30:00.000000000",
          "2025-04-25T16:35:00.000000000",
          "2025-04-25T16:40:00.000000000",
          "2025-04-25T16:45:00.000000000",
          "2025-04-25T16:50:00.000000000",
          "2025-04-25T16:55:00.000000000",
          "2025-04-25T17:00:00.000000000",
          "2025-04-25T17:05:00.000000000",
          "2025-04-25T17:10:00.000000000",
          "2025-04-25T17:15:00.000000000",
          "2025-04-25T17:20:00.000000000",
          "2025-04-25T17:25:00.000000000",
          "2025-04-25T17:30:00.000000000",
          "2025-04-25T17:35:00.000000000",
          "2025-04-25T17:40:00.000000000",
          "2025-04-25T17:45:00.000000000",
          "2025-04-25T17:50:00.000000000",
          "2025-04-25T17:55:00.000000000",
          "2025-04-25T18:00:00.000000000",
          "2025-04-25T18:05:00.000000000",
          "2025-04-25T18:10:00.000000000",
          "2025-04-25T18:15:00.000000000",
          "2025-04-25T18:20:00.000000000",
          "2025-04-25T18:25:00.000000000",
          "2025-04-25T18:30:00.000000000",
          "2025-04-25T18:35:00.000000000",
          "2025-04-25T18:40:00.000000000",
          "2025-04-25T18:45:00.000000000",
          "2025-04-25T18:50:00.000000000",
          "2025-04-25T18:55:00.000000000",
          "2025-04-25T19:00:00.000000000",
          "2025-04-25T19:05:00.000000000",
          "2025-04-25T19:10:00.000000000",
          "2025-04-25T19:15:00.000000000",
          "2025-04-25T19:20:00.000000000",
          "2025-04-25T19:25:00.000000000",
          "2025-04-25T19:30:00.000000000",
          "2025-04-25T19:35:00.000000000",
          "2025-04-25T19:40:00.000000000",
          "2025-04-25T19:45:00.000000000",
          "2025-04-25T19:50:00.000000000",
          "2025-04-25T19:55:00.000000000",
          "2025-04-25T20:00:00.000000000",
          "2025-04-25T20:05:00.000000000",
          "2025-04-25T20:10:00.000000000",
          "2025-04-25T20:15:00.000000000",
          "2025-04-25T20:20:00.000000000",
          "2025-04-25T20:25:00.000000000",
          "2025-04-25T20:30:00.000000000",
          "2025-04-25T20:35:00.000000000",
          "2025-04-25T20:40:00.000000000",
          "2025-04-25T20:45:00.000000000",
          "2025-04-25T20:50:00.000000000",
          "2025-04-25T20:55:00.000000000",
          "2025-04-25T21:00:00.000000000",
          "2025-04-25T21:05:00.000000000",
          "2025-04-25T21:10:00.000000000",
          "2025-04-25T21:15:00.000000000",
          "2025-04-25T21:20:00.000000000",
          "2025-04-25T21:25:00.000000000",
          "2025-04-25T21:30:00.000000000",
          "2025-04-25T21:35:00.000000000",
          "2025-04-25T21:40:00.000000000",
          "2025-04-25T21:45:00.000000000",
          "2025-04-25T21:50:00.000000000",
          "2025-04-25T21:55:00.000000000",
          "2025-04-25T22:00:00.000000000",
          "2025-04-25T22:05:00.000000000",
          "2025-04-25T22:10:00.000000000",
          "2025-04-25T22:15:00.000000000",
          "2025-04-25T22:20:00.000000000",
          "2025-04-25T22:25:00.000000000",
          "2025-04-25T22:30:00.000000000",
          "2025-04-25T22:35:00.000000000",
          "2025-04-25T22:40:00.000000000",
          "2025-04-25T22:45:00.000000000",
          "2025-04-25T22:50:00.000000000",
          "2025-04-25T22:55:00.000000000",
          "2025-04-25T23:00:00.000000000",
          "2025-04-25T23:05:00.000000000",
          "2025-04-25T23:10:00.000000000",
          "2025-04-25T23:15:00.000000000",
          "2025-04-25T23:20:00.000000000",
          "2025-04-25T23:25:00.000000000",
          "2025-04-25T23:30:00.000000000",
          "2025-04-25T23:35:00.000000000",
          "2025-04-25T23:40:00.000000000",
          "2025-04-25T23:45:00.000000000",
          "2025-04-25T23:50:00.000000000",
          "2025-04-25T23:55:00.000000000"
         ],
         "xaxis": "x4",
         "y": {
          "bdata": "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",
          "dtype": "f8"
         },
         "yaxis": "y4"
        }
       ],
       "layout": {
        "annotations": [
         {
          "font": {
           "size": 16
          },
          "showarrow": false,
          "text": "Temperature Readings",
          "x": 0.5,
          "xanchor": "center",
          "xref": "paper",
          "y": 1,
          "yanchor": "bottom",
          "yref": "paper"
         },
         {
          "font": {
           "size": 16
          },
          "showarrow": false,
          "text": "IR Temperature ReadingsHumidity Readings",
          "x": 0.5,
          "xanchor": "center",
          "xref": "paper",
          "y": 0.71875,
          "yanchor": "bottom",
          "yref": "paper"
         },
         {
          "font": {
           "size": 16
          },
          "showarrow": false,
          "text": "Smoke Readings",
          "x": 0.5,
          "xanchor": "center",
          "xref": "paper",
          "y": 0.4375,
          "yanchor": "bottom",
          "yref": "paper"
         }
        ],
        "height": 800,
        "showlegend": true,
        "template": {
         "data": {
          "bar": [
           {
            "error_x": {
             "color": "#2a3f5f"
            },
            "error_y": {
             "color": "#2a3f5f"
            },
            "marker": {
             "line": {
              "color": "#E5ECF6",
              "width": 0.5
             },
             "pattern": {
              "fillmode": "overlay",
              "size": 10,
              "solidity": 0.2
             }
            },
            "type": "bar"
           }
          ],
          "barpolar": [
           {
            "marker": {
             "line": {
              "color": "#E5ECF6",
              "width": 0.5
             },
             "pattern": {
              "fillmode": "overlay",
              "size": 10,
              "solidity": 0.2
             }
            },
            "type": "barpolar"
           }
          ],
          "carpet": [
           {
            "aaxis": {
             "endlinecolor": "#2a3f5f",
             "gridcolor": "white",
             "linecolor": "white",
             "minorgridcolor": "white",
             "startlinecolor": "#2a3f5f"
            },
            "baxis": {
             "endlinecolor": "#2a3f5f",
             "gridcolor": "white",
             "linecolor": "white",
             "minorgridcolor": "white",
             "startlinecolor": "#2a3f5f"
            },
            "type": "carpet"
           }
          ],
          "choropleth": [
           {
            "colorbar": {
             "outlinewidth": 0,
             "ticks": ""
            },
            "type": "choropleth"
           }
          ],
          "contour": [
           {
            "colorbar": {
             "outlinewidth": 0,
             "ticks": ""
            },
            "colorscale": [
             [
              0,
              "#0d0887"
             ],
             [
              0.1111111111111111,
              "#46039f"
             ],
             [
              0.2222222222222222,
              "#7201a8"
             ],
             [
              0.3333333333333333,
              "#9c179e"
             ],
             [
              0.4444444444444444,
              "#bd3786"
             ],
             [
              0.5555555555555556,
              "#d8576b"
             ],
             [
              0.6666666666666666,
              "#ed7953"
             ],
             [
              0.7777777777777778,
              "#fb9f3a"
             ],
             [
              0.8888888888888888,
              "#fdca26"
             ],
             [
              1,
              "#f0f921"
             ]
            ],
            "type": "contour"
           }
          ],
          "contourcarpet": [
           {
            "colorbar": {
             "outlinewidth": 0,
             "ticks": ""
            },
            "type": "contourcarpet"
           }
          ],
          "heatmap": [
           {
            "colorbar": {
             "outlinewidth": 0,
             "ticks": ""
            },
            "colorscale": [
             [
              0,
              "#0d0887"
             ],
             [
              0.1111111111111111,
              "#46039f"
             ],
             [
              0.2222222222222222,
              "#7201a8"
             ],
             [
              0.3333333333333333,
              "#9c179e"
             ],
             [
              0.4444444444444444,
              "#bd3786"
             ],
             [
              0.5555555555555556,
              "#d8576b"
             ],
             [
              0.6666666666666666,
              "#ed7953"
             ],
             [
              0.7777777777777778,
              "#fb9f3a"
             ],
             [
              0.8888888888888888,
              "#fdca26"
             ],
             [
              1,
              "#f0f921"
             ]
            ],
            "type": "heatmap"
           }
          ],
          "histogram": [
           {
            "marker": {
             "pattern": {
              "fillmode": "overlay",
              "size": 10,
              "solidity": 0.2
             }
            },
            "type": "histogram"
           }
          ],
          "histogram2d": [
           {
            "colorbar": {
             "outlinewidth": 0,
             "ticks": ""
            },
            "colorscale": [
             [
              0,
              "#0d0887"
             ],
             [
              0.1111111111111111,
              "#46039f"
             ],
             [
              0.2222222222222222,
              "#7201a8"
             ],
             [
              0.3333333333333333,
              "#9c179e"
             ],
             [
              0.4444444444444444,
              "#bd3786"
             ],
             [
              0.5555555555555556,
              "#d8576b"
             ],
             [
              0.6666666666666666,
              "#ed7953"
             ],
             [
              0.7777777777777778,
              "#fb9f3a"
             ],
             [
              0.8888888888888888,
              "#fdca26"
             ],
             [
              1,
              "#f0f921"
             ]
            ],
            "type": "histogram2d"
           }
          ],
          "histogram2dcontour": [
           {
            "colorbar": {
             "outlinewidth": 0,
             "ticks": ""
            },
            "colorscale": [
             [
              0,
              "#0d0887"
             ],
             [
              0.1111111111111111,
              "#46039f"
             ],
             [
              0.2222222222222222,
              "#7201a8"
             ],
             [
              0.3333333333333333,
              "#9c179e"
             ],
             [
              0.4444444444444444,
              "#bd3786"
             ],
             [
              0.5555555555555556,
              "#d8576b"
             ],
             [
              0.6666666666666666,
              "#ed7953"
             ],
             [
              0.7777777777777778,
              "#fb9f3a"
             ],
             [
              0.8888888888888888,
              "#fdca26"
             ],
             [
              1,
              "#f0f921"
             ]
            ],
            "type": "histogram2dcontour"
           }
          ],
          "mesh3d": [
           {
            "colorbar": {
             "outlinewidth": 0,
             "ticks": ""
            },
            "type": "mesh3d"
           }
          ],
          "parcoords": [
           {
            "line": {
             "colorbar": {
              "outlinewidth": 0,
              "ticks": ""
             }
            },
            "type": "parcoords"
           }
          ],
          "pie": [
           {
            "automargin": true,
            "type": "pie"
           }
          ],
          "scatter": [
           {
            "fillpattern": {
             "fillmode": "overlay",
             "size": 10,
             "solidity": 0.2
            },
            "type": "scatter"
           }
          ],
          "scatter3d": [
           {
            "line": {
             "colorbar": {
              "outlinewidth": 0,
              "ticks": ""
             }
            },
            "marker": {
             "colorbar": {
              "outlinewidth": 0,
              "ticks": ""
             }
            },
            "type": "scatter3d"
           }
          ],
          "scattercarpet": [
           {
            "marker": {
             "colorbar": {
              "outlinewidth": 0,
              "ticks": ""
             }
            },
            "type": "scattercarpet"
           }
          ],
          "scattergeo": [
           {
            "marker": {
             "colorbar": {
              "outlinewidth": 0,
              "ticks": ""
             }
            },
            "type": "scattergeo"
           }
          ],
          "scattergl": [
           {
            "marker": {
             "colorbar": {
              "outlinewidth": 0,
              "ticks": ""
             }
            },
            "type": "scattergl"
           }
          ],
          "scattermap": [
           {
            "marker": {
             "colorbar": {
              "outlinewidth": 0,
              "ticks": ""
             }
            },
            "type": "scattermap"
           }
          ],
          "scattermapbox": [
           {
            "marker": {
             "colorbar": {
              "outlinewidth": 0,
              "ticks": ""
             }
            },
            "type": "scattermapbox"
           }
          ],
          "scatterpolar": [
           {
            "marker": {
             "colorbar": {
              "outlinewidth": 0,
              "ticks": ""
             }
            },
            "type": "scatterpolar"
           }
          ],
          "scatterpolargl": [
           {
            "marker": {
             "colorbar": {
              "outlinewidth": 0,
              "ticks": ""
             }
            },
            "type": "scatterpolargl"
           }
          ],
          "scatterternary": [
           {
            "marker": {
             "colorbar": {
              "outlinewidth": 0,
              "ticks": ""
             }
            },
            "type": "scatterternary"
           }
          ],
          "surface": [
           {
            "colorbar": {
             "outlinewidth": 0,
             "ticks": ""
            },
            "colorscale": [
             [
              0,
              "#0d0887"
             ],
             [
              0.1111111111111111,
              "#46039f"
             ],
             [
              0.2222222222222222,
              "#7201a8"
             ],
             [
              0.3333333333333333,
              "#9c179e"
             ],
             [
              0.4444444444444444,
              "#bd3786"
             ],
             [
              0.5555555555555556,
              "#d8576b"
             ],
             [
              0.6666666666666666,
              "#ed7953"
             ],
             [
              0.7777777777777778,
              "#fb9f3a"
             ],
             [
              0.8888888888888888,
              "#fdca26"
             ],
             [
              1,
              "#f0f921"
             ]
            ],
            "type": "surface"
           }
          ],
          "table": [
           {
            "cells": {
             "fill": {
              "color": "#EBF0F8"
             },
             "line": {
              "color": "white"
             }
            },
            "header": {
             "fill": {
              "color": "#C8D4E3"
             },
             "line": {
              "color": "white"
             }
            },
            "type": "table"
           }
          ]
         },
         "layout": {
          "annotationdefaults": {
           "arrowcolor": "#2a3f5f",
           "arrowhead": 0,
           "arrowwidth": 1
          },
          "autotypenumbers": "strict",
          "coloraxis": {
           "colorbar": {
            "outlinewidth": 0,
            "ticks": ""
           }
          },
          "colorscale": {
           "diverging": [
            [
             0,
             "#8e0152"
            ],
            [
             0.1,
             "#c51b7d"
            ],
            [
             0.2,
             "#de77ae"
            ],
            [
             0.3,
             "#f1b6da"
            ],
            [
             0.4,
             "#fde0ef"
            ],
            [
             0.5,
             "#f7f7f7"
            ],
            [
             0.6,
             "#e6f5d0"
            ],
            [
             0.7,
             "#b8e186"
            ],
            [
             0.8,
             "#7fbc41"
            ],
            [
             0.9,
             "#4d9221"
            ],
            [
             1,
             "#276419"
            ]
           ],
           "sequential": [
            [
             0,
             "#0d0887"
            ],
            [
             0.1111111111111111,
             "#46039f"
            ],
            [
             0.2222222222222222,
             "#7201a8"
            ],
            [
             0.3333333333333333,
             "#9c179e"
            ],
            [
             0.4444444444444444,
             "#bd3786"
            ],
            [
             0.5555555555555556,
             "#d8576b"
            ],
            [
             0.6666666666666666,
             "#ed7953"
            ],
            [
             0.7777777777777778,
             "#fb9f3a"
            ],
            [
             0.8888888888888888,
             "#fdca26"
            ],
            [
             1,
             "#f0f921"
            ]
           ],
           "sequentialminus": [
            [
             0,
             "#0d0887"
            ],
            [
             0.1111111111111111,
             "#46039f"
            ],
            [
             0.2222222222222222,
             "#7201a8"
            ],
            [
             0.3333333333333333,
             "#9c179e"
            ],
            [
             0.4444444444444444,
             "#bd3786"
            ],
            [
             0.5555555555555556,
             "#d8576b"
            ],
            [
             0.6666666666666666,
             "#ed7953"
            ],
            [
             0.7777777777777778,
             "#fb9f3a"
            ],
            [
             0.8888888888888888,
             "#fdca26"
            ],
            [
             1,
             "#f0f921"
            ]
           ]
          },
          "colorway": [
           "#636efa",
           "#EF553B",
           "#00cc96",
           "#ab63fa",
           "#FFA15A",
           "#19d3f3",
           "#FF6692",
           "#B6E880",
           "#FF97FF",
           "#FECB52"
          ],
          "font": {
           "color": "#2a3f5f"
          },
          "geo": {
           "bgcolor": "white",
           "lakecolor": "white",
           "landcolor": "#E5ECF6",
           "showlakes": true,
           "showland": true,
           "subunitcolor": "white"
          },
          "hoverlabel": {
           "align": "left"
          },
          "hovermode": "closest",
          "mapbox": {
           "style": "light"
          },
          "paper_bgcolor": "white",
          "plot_bgcolor": "#E5ECF6",
          "polar": {
           "angularaxis": {
            "gridcolor": "white",
            "linecolor": "white",
            "ticks": ""
           },
           "bgcolor": "#E5ECF6",
           "radialaxis": {
            "gridcolor": "white",
            "linecolor": "white",
            "ticks": ""
           }
          },
          "scene": {
           "xaxis": {
            "backgroundcolor": "#E5ECF6",
            "gridcolor": "white",
            "gridwidth": 2,
            "linecolor": "white",
            "showbackground": true,
            "ticks": "",
            "zerolinecolor": "white"
           },
           "yaxis": {
            "backgroundcolor": "#E5ECF6",
            "gridcolor": "white",
            "gridwidth": 2,
            "linecolor": "white",
            "showbackground": true,
            "ticks": "",
            "zerolinecolor": "white"
           },
           "zaxis": {
            "backgroundcolor": "#E5ECF6",
            "gridcolor": "white",
            "gridwidth": 2,
            "linecolor": "white",
            "showbackground": true,
            "ticks": "",
            "zerolinecolor": "white"
           }
          },
          "shapedefaults": {
           "line": {
            "color": "#2a3f5f"
           }
          },
          "ternary": {
           "aaxis": {
            "gridcolor": "white",
            "linecolor": "white",
            "ticks": ""
           },
           "baxis": {
            "gridcolor": "white",
            "linecolor": "white",
            "ticks": ""
           },
           "bgcolor": "#E5ECF6",
           "caxis": {
            "gridcolor": "white",
            "linecolor": "white",
            "ticks": ""
           }
          },
          "title": {
           "x": 0.05
          },
          "xaxis": {
           "automargin": true,
           "gridcolor": "white",
           "linecolor": "white",
           "ticks": "",
           "title": {
            "standoff": 15
           },
           "zerolinecolor": "white",
           "zerolinewidth": 2
          },
          "yaxis": {
           "automargin": true,
           "gridcolor": "white",
           "linecolor": "white",
           "ticks": "",
           "title": {
            "standoff": 15
           },
           "zerolinecolor": "white",
           "zerolinewidth": 2
          }
         }
        },
        "title": {
         "text": "Sensor Readings Over Time (April 25, 2025)"
        },
        "width": 1000,
        "xaxis": {
         "anchor": "y",
         "domain": [
          0,
          1
         ]
        },
        "xaxis2": {
         "anchor": "y2",
         "domain": [
          0,
          1
         ]
        },
        "xaxis3": {
         "anchor": "y3",
         "domain": [
          0,
          1
         ]
        },
        "xaxis4": {
         "anchor": "y4",
         "domain": [
          0,
          1
         ]
        },
        "yaxis": {
         "anchor": "x",
         "domain": [
          0.84375,
          1
         ],
         "title": {
          "text": "Temperature (°C)"
         }
        },
        "yaxis2": {
         "anchor": "x2",
         "domain": [
          0.5625,
          0.71875
         ],
         "title": {
          "text": "IR Temperature (°C)"
         }
        },
        "yaxis3": {
         "anchor": "x3",
         "domain": [
          0.28125,
          0.4375
         ],
         "title": {
          "text": "Humidity (%)"
         }
        },
        "yaxis4": {
         "anchor": "x4",
         "domain": [
          0,
          0.15625
         ],
         "title": {
          "text": "Smoke Level"
         }
        }
       }
      }
     },
     "metadata": {},
     "output_type": "display_data"
    }
   ],
   "source": [
    "from plotly.subplots import make_subplots\n",
    "import plotly.graph_objects as go\n",
    "\n",
    "# Create a 2x2 grid of subplots\n",
    "fig = make_subplots(\n",
    "    rows=4, \n",
    "    cols=1,\n",
    "    subplot_titles=(\n",
    "        \"Temperature Readings\", \n",
    "        \"IR Temperature Readings\"\n",
    "        \"Humidity Readings\",\n",
    "        \"Smoke Readings\", \n",
    "    )\n",
    ")\n",
    "\n",
    "# Add traces for each sensor\n",
    "fig.add_trace(\n",
    "    go.Scatter(\n",
    "        x=df5_downsampled.index, \n",
    "        y=df5_downsampled[\"temperature\"],\n",
    "        name=\"Temperature\"\n",
    "    ),\n",
    "    row=1, col=1\n",
    ")\n",
    "\n",
    "fig.add_trace(\n",
    "    go.Scatter(\n",
    "        x=df5_downsampled.index, \n",
    "        y=df5_downsampled[\"ir_temperature\"],\n",
    "        name=\"IR Temperature\"\n",
    "    ),\n",
    "    row=2, col=1\n",
    ")\n",
    "\n",
    "fig.add_trace(\n",
    "    go.Scatter(\n",
    "        x=df5_downsampled.index, \n",
    "        y=df5_downsampled[\"humidity\"],\n",
    "        name=\"Humidity\"\n",
    "    ),\n",
    "    row=3, col=1\n",
    ")\n",
    "\n",
    "fig.add_trace(\n",
    "    go.Scatter(\n",
    "        x=df5_downsampled.index, \n",
    "        y=df5_downsampled[\"smoke\"],\n",
    "        name=\"Smoke\"\n",
    "    ),\n",
    "    row=4, col=1\n",
    ")\n",
    "\n",
    "\n",
    "\n",
    "# Update layout\n",
    "fig.update_layout(\n",
    "    height=800,\n",
    "    width=1000,\n",
    "    title_text=\"Sensor Readings Over Time (April 25, 2025)\",\n",
    "    showlegend=True\n",
    ")\n",
    "\n",
    "# Update y-axis labels\n",
    "fig.update_yaxes(title_text=\"Temperature (°C)\", row=1, col=1)\n",
    "fig.update_yaxes(title_text=\"IR Temperature (°C)\", row=2, col=1)\n",
    "fig.update_yaxes(title_text=\"Humidity (%)\", row=3, col=1)\n",
    "fig.update_yaxes(title_text=\"Smoke Level\", row=4, col=1)\n",
    "\n",
    "fig.show()"
   ]
  },
  {
   "cell_type": "markdown",
   "id": "faca41b3",
   "metadata": {},
   "source": [
    "### 4.3 Daily Aggregations\n",
    "\n",
    "Resample the data to see daily patterns and trends."
   ]
  },
  {
   "cell_type": "code",
   "execution_count": null,
   "id": "72ea73b5",
   "metadata": {},
   "outputs": [],
   "source": [
    "# Resample to daily frequency\n",
    "daily_df = df4.resample('D').mean()\n",
    "\n",
    "# Plot daily trends\n",
    "fig, axes = plt.subplots(len(numerical_columns), 1, figsize=(14, 4*len(numerical_columns)), sharex=True)\n",
    "\n",
    "for i, col in enumerate(numerical_columns):\n",
    "    sns.lineplot(x=daily_df.index, y=daily_df[col], ax=axes[i], marker='o')\n",
    "    axes[i].set_title(f'Daily Average {col.replace(\"_\", \" \").title()}')\n",
    "    axes[i].set_xlabel('')\n",
    "    axes[i].set_ylabel(f'Average {col.replace(\"_\", \" \").title()}')\n",
    "    \n",
    "plt.tight_layout()\n",
    "plt.show()"
   ]
  },
  {
   "cell_type": "markdown",
   "id": "18aaf36f",
   "metadata": {},
   "source": [
    "## 5. Correlation Analysis Between Sensors\n",
    "\n",
    "Analyze how different sensors relate to each other over time."
   ]
  },
  {
   "cell_type": "markdown",
   "id": "377bf99e",
   "metadata": {},
   "source": [
    "### 5.1 Understanding Sensor Correlations\n",
    "\n",
    "The correlation heatmap below provides insights into how different environmental factors interact with each other in our monitoring system:\n",
    "\n",
    "- **Positive correlations** indicate sensors that tend to increase together\n",
    "- **Negative correlations** indicate that when one sensor reading increases, the other tends to decrease\n",
    "- **Strong correlations** (closer to 1 or -1) indicate a more reliable relationship between sensor readings\n",
    "\n",
    "These relationships are particularly valuable for identifying key indicators and potential redundancies in our wildfire detection system."
   ]
  },
  {
   "cell_type": "code",
   "execution_count": null,
   "id": "b0171a2c",
   "metadata": {},
   "outputs": [],
   "source": [
    "# Calculate correlation matrix\n",
    "correlation_matrix = df4[numerical_columns].corr()\n",
    "\n",
    "# Plot heatmap\n",
    "plt.figure(figsize=(10, 8))\n",
    "sns.heatmap(correlation_matrix, annot=True, cmap='coolwarm', vmin=-1, vmax=1, fmt='.2f')\n",
    "plt.title('Correlation Matrix Between Sensor Readings')\n",
    "plt.tight_layout()\n",
    "plt.show()"
   ]
  },
  {
   "cell_type": "markdown",
   "id": "08a889c7",
   "metadata": {},
   "source": [
    "## 6. Identify Anomalies and Extreme Values\n",
    "\n",
    "Detect unusual patterns or extreme values that might indicate fire risks."
   ]
  },
  {
   "cell_type": "code",
   "execution_count": null,
   "id": "44b6eec9",
   "metadata": {},
   "outputs": [],
   "source": [
    "# Calculate rolling means to smooth the data\n",
    "window_size = 12  # 12-hour window\n",
    "rolling_means = df4[numerical_columns].rolling(window=window_size).mean()\n",
    "\n",
    "# Calculate standard deviations\n",
    "rolling_std = df4[numerical_columns].rolling(window=window_size).std()\n",
    "\n",
    "# Define threshold for anomalies (e.g., 3 standard deviations)\n",
    "threshold = 3\n",
    "\n",
    "# Find anomalies\n",
    "anomalies = {}\n",
    "for col in numerical_columns:\n",
    "    upper_bound = rolling_means[col] + (threshold * rolling_std[col])\n",
    "    lower_bound = rolling_means[col] - (threshold * rolling_std[col])\n",
    "    anomalies[col] = df4[(df4[col] > upper_bound) | (df4[col] < lower_bound)][[col]]\n",
    "\n",
    "# Plot one example - Temperature anomalies\n",
    "plt.figure(figsize=(14, 6))\n",
    "plt.plot(df4.index, df4['temperature'], label='Temperature', alpha=0.5)\n",
    "plt.plot(rolling_means.index, rolling_means['temperature'], label='Rolling Mean', color='red')\n",
    "plt.fill_between(\n",
    "    rolling_means.index,\n",
    "    rolling_means['temperature'] - (threshold * rolling_std['temperature']),\n",
    "    rolling_means['temperature'] + (threshold * rolling_std['temperature']),\n",
    "    color='red', alpha=0.2, label=f'{threshold} Sigma Range'\n",
    ")\n",
    "\n",
    "# Highlight anomalies\n",
    "if not anomalies['temperature'].empty:\n",
    "    plt.scatter(anomalies['temperature'].index, anomalies['temperature'], \n",
    "                color='orange', s=50, label='Anomalies')\n",
    "\n",
    "plt.title('Temperature Anomalies Detection')\n",
    "plt.xlabel('Date')\n",
    "plt.ylabel('Temperature')\n",
    "plt.legend()\n",
    "plt.tight_layout()\n",
    "plt.show()"
   ]
  },
  {
   "cell_type": "markdown",
   "id": "99372447",
   "metadata": {},
   "source": [
    "## 7. Relationship Between Temperature and Humidity\n",
    "\n",
    "This relationship is particularly important for wildfire risk assessment."
   ]
  },
  {
   "cell_type": "code",
   "execution_count": null,
   "id": "c4469353",
   "metadata": {},
   "outputs": [],
   "source": [
    "# Create a scatter plot with regression line\n",
    "plt.figure(figsize=(10, 8))\n",
    "sns.scatterplot(data=df4, x='temperature', y='humidity', alpha=0.6)\n",
    "sns.regplot(data=df4, x='temperature', y='humidity', scatter=False, color='red')\n",
    "plt.title('Temperature vs. Humidity Relationship')\n",
    "plt.xlabel('Temperature')\n",
    "plt.ylabel('Humidity')\n",
    "plt.tight_layout()\n",
    "plt.show()"
   ]
  },
  {
   "cell_type": "markdown",
   "id": "d5c6c854",
   "metadata": {},
   "source": [
    "## 8. Fire Risk Index Calculation\n",
    "\n",
    "Create a simple fire risk index based on temperature, humidity, and smoke readings."
   ]
  },
  {
   "cell_type": "code",
   "execution_count": null,
   "id": "8ae224eb",
   "metadata": {},
   "outputs": [],
   "source": [
    "# Define a simple fire risk index formula\n",
    "# Higher temperature, lower humidity, and higher smoke readings increase fire risk\n",
    "# Normalize each component between 0 and 1\n",
    "temp_min, temp_max = df4['temperature'].min(), df4['temperature'].max()\n",
    "humidity_min, humidity_max = df4['humidity'].min(), df4['humidity'].max()\n",
    "smoke_min, smoke_max = df4['smoke'].min(), df4['smoke'].max()\n",
    "\n",
    "# Normalize values (0-1 scale)\n",
    "df4['temp_norm'] = (df4['temperature'] - temp_min) / (temp_max - temp_min)\n",
    "df4['humidity_norm'] = (df4['humidity'] - humidity_min) / (humidity_max - humidity_min)\n",
    "df4['smoke_norm'] = (df4['smoke'] - smoke_min) / (smoke_max - smoke_min)\n",
    "\n",
    "# Calculate fire risk index (0-100 scale)\n",
    "# Higher temperature and smoke increase risk, higher humidity decreases risk\n",
    "df4['fire_risk_index'] = (\n",
    "    (0.4 * df4['temp_norm']) + \n",
    "    (0.4 * (1 - df4['humidity_norm'])) + \n",
    "    (0.2 * df4['smoke_norm'])\n",
    ") * 100\n",
    "\n",
    "# Plot the fire risk index over time\n",
    "plt.figure(figsize=(14, 6))\n",
    "plt.plot(df4.index, df4['fire_risk_index'], color='orangered')\n",
    "plt.axhline(y=70, color='red', linestyle='--', alpha=0.7, label='High Risk Threshold')\n",
    "plt.axhline(y=40, color='orange', linestyle='--', alpha=0.7, label='Moderate Risk Threshold')\n",
    "plt.axhline(y=20, color='green', linestyle='--', alpha=0.7, label='Low Risk Threshold')\n",
    "plt.title('Fire Risk Index Over Time')\n",
    "plt.xlabel('Date')\n",
    "plt.ylabel('Fire Risk Index (0-100)')\n",
    "plt.ylim(0, 100)\n",
    "plt.legend()\n",
    "plt.tight_layout()\n",
    "plt.show()"
   ]
  },
  {
   "cell_type": "markdown",
   "id": "f86a2ce4",
   "metadata": {},
   "source": [
    "## 9. Daily Risk Pattern\n",
    "\n",
    "Analyze how fire risk varies throughout the day."
   ]
  },
  {
   "cell_type": "code",
   "execution_count": null,
   "id": "4fbcf3eb",
   "metadata": {},
   "outputs": [],
   "source": [
    "# Group by hour and calculate average fire risk\n",
    "df4_hourly = df4.copy()\n",
    "df4_hourly['hour'] = df4_hourly.index.hour\n",
    "hourly_risk = df4_hourly.groupby('hour')['fire_risk_index'].mean()\n",
    "\n",
    "# Plot hourly risk pattern\n",
    "plt.figure(figsize=(14, 6))\n",
    "sns.lineplot(x=hourly_risk.index, y=hourly_risk, marker='o')\n",
    "plt.title('Average Fire Risk by Hour of Day')\n",
    "plt.xlabel('Hour of Day')\n",
    "plt.ylabel('Average Fire Risk Index')\n",
    "plt.xticks(range(0, 24, 2))\n",
    "plt.axhline(y=70, color='red', linestyle='--', alpha=0.7, label='High Risk')\n",
    "plt.axhline(y=40, color='orange', linestyle='--', alpha=0.7, label='Moderate Risk')\n",
    "plt.axhline(y=20, color='green', linestyle='--', alpha=0.7, label='Low Risk')\n",
    "plt.legend()\n",
    "plt.tight_layout()\n",
    "plt.show()"
   ]
  },
  {
   "cell_type": "markdown",
   "id": "a3a0fc47",
   "metadata": {},
   "source": [
    "## 10. Key Insights and Conclusions\n",
    "\n",
    "Based on the temporal analysis of the sensor data, here are the key insights relevant to wildfire risk assessment:"
   ]
  },
  {
   "cell_type": "markdown",
   "id": "488888e8",
   "metadata": {},
   "source": [
    "1. **Daily Temperature Patterns**: Our analysis shows clear daily cycles with temperature peaks typically occurring in the afternoon hours, which align with periods of highest fire risk.\n",
    "\n",
    "2. **Humidity-Temperature Relationship**: There's a strong negative correlation between temperature and humidity, with humidity dropping when temperature rises, creating conditions favorable for fire ignition during hot periods.\n",
    "\n",
    "3. **Smoke Anomalies**: The anomaly detection identified several instances of unusual smoke readings that might indicate early fire activity or environmental changes requiring investigation.\n",
    "\n",
    "4. **Risk Patterns**: The fire risk index shows a cyclical pattern with higher risk during mid-afternoon hours (typically 1 PM to 5 PM) and lower risk during early morning hours when humidity is higher and temperatures lower.\n",
    "\n",
    "5. **Long-term Trends**: [This would be filled in based on actual analysis results, looking for gradual increases in temperature or decreases in humidity over the monitoring period.]\n",
    "\n",
    "These insights can inform monitoring schedules, with increased vigilance during high-risk periods identified in the analysis."
   ]
  }
 ],
 "metadata": {
  "kernelspec": {
   "display_name": "Python 3",
   "language": "python",
   "name": "python3"
  },
  "language_info": {
   "codemirror_mode": {
    "name": "ipython",
    "version": 3
   },
   "file_extension": ".py",
   "mimetype": "text/x-python",
   "name": "python",
   "nbconvert_exporter": "python",
   "pygments_lexer": "ipython3",
   "version": "3.12.9"
  }
 },
 "nbformat": 4,
 "nbformat_minor": 5
}
